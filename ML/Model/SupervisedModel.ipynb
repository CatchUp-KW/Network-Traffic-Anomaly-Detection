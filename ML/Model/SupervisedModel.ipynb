{
  "nbformat": 4,
  "nbformat_minor": 0,
  "metadata": {
    "colab": {
      "name": "supervisedModel.ipynb",
      "provenance": [],
      "collapsed_sections": []
    },
    "kernelspec": {
      "name": "python3",
      "display_name": "Python 3"
    },
    "language_info": {
      "name": "python"
    },
    "accelerator": "GPU"
  },
  "cells": [
    {
      "cell_type": "markdown",
      "source": [
        ""
      ],
      "metadata": {
        "id": "TZdptudyuNaO"
      }
    },
    {
      "cell_type": "code",
      "source": [
        "import matplotlib.pyplot as plt\n",
        "import numpy as np\n",
        "import pandas as pd\n",
        "import tensorflow as tf\n",
        "\n",
        "from sklearn.metrics import accuracy_score, precision_score, recall_score\n",
        "from sklearn.model_selection import train_test_split\n",
        "from sklearn.preprocessing import MinMaxScaler, StandardScaler, RobustScaler\n",
        "from sklearn.preprocessing import LabelEncoder, OneHotEncoder\n",
        "from tensorflow.keras import layers, losses\n",
        "from tensorflow.keras.datasets import fashion_mnist\n",
        "from tensorflow.keras.models import Model\n",
        "\n",
        "import seaborn as sns\n",
        "import re\n",
        "import datetime\n",
        "import os\n",
        "\n",
        "%load_ext tensorboard"
      ],
      "metadata": {
        "id": "lmwGXdny8r9W",
        "colab": {
          "base_uri": "https://localhost:8080/"
        },
        "outputId": "7f9f5b2e-ed1d-4b3c-caac-1dea25deacb8"
      },
      "execution_count": null,
      "outputs": [
        {
          "output_type": "stream",
          "name": "stdout",
          "text": [
            "The tensorboard extension is already loaded. To reload it, use:\n",
            "  %reload_ext tensorboard\n"
          ]
        }
      ]
    },
    {
      "cell_type": "code",
      "source": [
        "from google.colab import drive\n",
        "import glob\n",
        "drive.mount('/content/drive')"
      ],
      "metadata": {
        "colab": {
          "base_uri": "https://localhost:8080/"
        },
        "id": "cRxwfVXp8t4c",
        "outputId": "99efbacf-eb12-4a66-cbdc-ced7a63f21fa"
      },
      "execution_count": null,
      "outputs": [
        {
          "output_type": "stream",
          "name": "stdout",
          "text": [
            "Mounted at /content/drive\n"
          ]
        }
      ]
    },
    {
      "cell_type": "markdown",
      "source": [
        "# 데이터 준비 및 전처리\n"
      ],
      "metadata": {
        "id": "Z4d8q_A-8wj2"
      }
    },
    {
      "cell_type": "code",
      "source": [
        "files = [file for file in glob.glob(\"/content/drive/MyDrive/CICIDS2017**/*.csv\", recursive=True)]\n",
        "for f in files:\n",
        "  print(f)\n",
        "dataset = [pd.read_csv(f) for f in files]\n",
        "print(dataset[0].shape)\n",
        "\n",
        "# 하나의 dataframe으로 합치고 중복 제거\n",
        "dataset = pd.concat([d for d in dataset]).drop_duplicates(keep=False)\n",
        "dataset.reset_index(drop=True, inplace = True)\n",
        "\n",
        "# Column 이름 공백 제거\n",
        "col_names = [col.replace(' ', '') for col in dataset.columns]\n",
        "dataset.columns = col_names\n",
        "\n",
        "#필요없는 행 제거\n",
        "dataset = dataset.drop([\"FwdHeaderLength.1\"],axis = 1)\n",
        "\n",
        "# Label 값 다듬기\n",
        "label_names = dataset['Label'].unique()\n",
        "label_names = [re.sub(\"[^a-zA-Z ]+\", \"\", l) for l in label_names] \n",
        "label_names = [re.sub(\"[\\s\\s]\", '_', l) for l in label_names]\n",
        "label_names = [lab.replace(\"__\", \"_\") for lab in label_names]\n",
        "\n",
        "labels = dataset['Label'].unique()\n",
        "for i in range(0,len(label_names)):\n",
        "    dataset['Label'] = dataset['Label'].replace({labels[i] : label_names[i]})\n",
        "\n",
        "# 결측치 제거\n",
        "dataset.dropna(inplace=True)\n",
        "\n",
        "# 무한대인 것 제거\n",
        "labl = dataset['Label']\n",
        "dataset = dataset.loc[:, dataset.columns != 'Label'].astype('float64')\n",
        "dataset = dataset.replace([np.inf, -np.inf], np.nan)\n",
        "dataset = dataset.merge(labl, how='outer', left_index=True, right_index=True)\n",
        "dataset.dropna(inplace=True)\n",
        "\n",
        "\n",
        "# 데이터 스케일링\n",
        "labels = dataset['Label']\n",
        "features = dataset.loc[:, dataset.columns != 'Label'].astype('float64')\n",
        "\n",
        "scaler = MinMaxScaler() # 한번 바꿔봄..\n",
        "scaler.fit(features)\n",
        "features = scaler.transform(features)"
      ],
      "metadata": {
        "colab": {
          "base_uri": "https://localhost:8080/"
        },
        "id": "KEJBBDZX8zA6",
        "outputId": "454f62ee-48c7-44b5-8ed8-2a6190ac81cb"
      },
      "execution_count": null,
      "outputs": [
        {
          "output_type": "stream",
          "name": "stdout",
          "text": [
            "/content/drive/MyDrive/CICIDS2017/Friday-WorkingHours-Afternoon-DDos.pcap_ISCX.csv\n",
            "/content/drive/MyDrive/CICIDS2017/Friday-WorkingHours-Afternoon-PortScan.pcap_ISCX.csv\n",
            "/content/drive/MyDrive/CICIDS2017/Friday-WorkingHours-Morning.pcap_ISCX.csv\n",
            "/content/drive/MyDrive/CICIDS2017/Monday-WorkingHours.pcap_ISCX.csv\n",
            "/content/drive/MyDrive/CICIDS2017/Thursday-WorkingHours-Afternoon-Infilteration.pcap_ISCX.csv\n",
            "/content/drive/MyDrive/CICIDS2017/Thursday-WorkingHours-Morning-WebAttacks.pcap_ISCX.csv\n",
            "/content/drive/MyDrive/CICIDS2017/Tuesday-WorkingHours.pcap_ISCX.csv\n",
            "/content/drive/MyDrive/CICIDS2017/Wednesday-workingHours.pcap_ISCX.csv\n",
            "(225745, 79)\n"
          ]
        }
      ]
    },
    {
      "cell_type": "code",
      "source": [
        "dataset.info()"
      ],
      "metadata": {
        "id": "IfNim47IvWPr"
      },
      "execution_count": null,
      "outputs": []
    },
    {
      "cell_type": "markdown",
      "source": [
        "일단 14개로 분류하기엔 특정 공격 비율이 너무 낮아서 Dos 계열만 나왔던 것 같고\n",
        "cicids 2017, 2018 공격 분류가 좀 달라서 비교 표에 있는 기준으로 8가지로 합쳤음"
      ],
      "metadata": {
        "id": "KEFNVouXpQHY"
      }
    },
    {
      "cell_type": "code",
      "source": [
        "attack_class = {\n",
        "'DoS_GoldenEye' : 'DoS',\n",
        "'DoS_Hulk' : 'DoS',\n",
        "'DoS_Slowhttptest' : 'DoS',\n",
        "'DoS_slowloris' : 'DoS',\n",
        "'FTPPatator' : 'Brute Force',\n",
        "'Web_Attack_Brute_Force' : 'Brute Force',\n",
        "'Web_Attack_Sql_Injection' : 'Web Attack',\n",
        "'Web_Attack_XSS' : 'Web Attack',\n",
        "'Bot' : 'Botnet',\n",
        "'PortScan' : 'Port Scan',\n",
        "'Heartbleed' : 'Web Attack',\n",
        "'SSHPatator' : 'Web Attack'\n",
        "}"
      ],
      "metadata": {
        "id": "yOwfiqq4PPzk"
      },
      "execution_count": null,
      "outputs": []
    },
    {
      "cell_type": "code",
      "source": [
        "dataset = dataset.replace({'Label' : attack_class})\n",
        "np.unique(dataset.Label)"
      ],
      "metadata": {
        "colab": {
          "base_uri": "https://localhost:8080/"
        },
        "id": "2jLNGyIBRUvu",
        "outputId": "7b765ec9-e027-4035-cbef-4f5f63a429e6"
      },
      "execution_count": null,
      "outputs": [
        {
          "output_type": "execute_result",
          "data": {
            "text/plain": [
              "array(['BENIGN', 'Botnet', 'Brute Force', 'DDoS', 'DoS', 'Infiltration',\n",
              "       'Port Scan', 'Web Attack'], dtype=object)"
            ]
          },
          "metadata": {},
          "execution_count": 16
        }
      ]
    },
    {
      "cell_type": "code",
      "source": [
        "labels = dataset['Label']"
      ],
      "metadata": {
        "id": "RY64QqBfSj7g"
      },
      "execution_count": null,
      "outputs": []
    },
    {
      "cell_type": "markdown",
      "source": [
        "categorical(text) 데이터를 numerical 데이터로 변환\n",
        "https://azanewta.tistory.com/46\n",
        "\n",
        "- Label encoding : 알파벳 오더 순으로 숫자 할당\n",
        "- One-hot Encoding ( -> sklearn.preprocessing.OneHotEncoder) : 0, 1로 만 이루어진 값으로 데이터 구분\n",
        "( 데이터 4가지면 00, 01, 10, 11 이런 식 )\n"
      ],
      "metadata": {
        "id": "CgIvflA__7-Y"
      }
    },
    {
      "cell_type": "code",
      "source": [
        "# 라벨 인코딩\n",
        "LE = LabelEncoder() \n",
        "labels = LE.fit_transform(labels)\n",
        "\n",
        "# 원핫인코딩\n",
        "# 인자에 숫자만 올 수 있기 때문에 라벨 인코딩 먼저 해줌 \n",
        "# OE = OneHotEncoder()\n",
        "# labels = labels.reshape(-1,1)\n",
        "# OE.fit(labels)\n",
        "# labels = OE.transform(labels)\n",
        "\n",
        "np.unique(labels)"
      ],
      "metadata": {
        "colab": {
          "base_uri": "https://localhost:8080/"
        },
        "id": "p6tbd0qR9NmI",
        "outputId": "59278799-9776-497c-e316-daf5c40c1cc5"
      },
      "execution_count": null,
      "outputs": [
        {
          "output_type": "execute_result",
          "data": {
            "text/plain": [
              "array([0, 1, 2, 3, 4, 5, 6, 7])"
            ]
          },
          "metadata": {},
          "execution_count": 20
        }
      ]
    },
    {
      "cell_type": "code",
      "source": [
        "# 데이터 분할(train, test)\n",
        "features_train, features_test, labels_train, labels_test = train_test_split(features, labels, test_size=.2)\n",
        "features_train.shape, features_test.shape, labels_train.shape, labels_test.shape"
      ],
      "metadata": {
        "colab": {
          "base_uri": "https://localhost:8080/"
        },
        "id": "U60N4q-eARoh",
        "outputId": "65bbb965-0de3-4c4b-b57a-8229a70ebd17"
      },
      "execution_count": null,
      "outputs": [
        {
          "output_type": "execute_result",
          "data": {
            "text/plain": [
              "((1940581, 77), (485146, 77), (1940581,), (485146,))"
            ]
          },
          "metadata": {},
          "execution_count": 21
        }
      ]
    },
    {
      "cell_type": "markdown",
      "source": [
        "#모델 학습 : 78개 특징 + softmax "
      ],
      "metadata": {
        "id": "qfo1sTX9A1P1"
      }
    },
    {
      "cell_type": "code",
      "source": [
        "# Clearing variables.\n",
        "dataset = None\n",
        "finite = None\n",
        "labl = None\n",
        "d = None\n",
        "features = None\n",
        "labels = None"
      ],
      "metadata": {
        "id": "JWuYCQdrASmd"
      },
      "execution_count": null,
      "outputs": []
    },
    {
      "cell_type": "code",
      "source": [
        "model = tf.keras.models.Sequential([\n",
        "    tf.keras.layers.Flatten(input_shape=(77,)),\n",
        "    tf.keras.layers.Dense(67, activation='relu'),\n",
        "    tf.keras.layers.Dropout(0.2),\n",
        "    tf.keras.layers.Dense(8, activation='softmax') # 분류 위한 softmax 층 (label 종류 15개)\n",
        "])"
      ],
      "metadata": {
        "id": "CSFAlK6-AzGt"
      },
      "execution_count": null,
      "outputs": []
    },
    {
      "cell_type": "code",
      "source": [
        "model.compile(optimizer='adam',\n",
        "             loss='sparse_categorical_crossentropy',\n",
        "             metrics=['accuracy'])\n",
        "\n",
        "log_dir = os.path.join(\"train_logs\", datetime.datetime.now().strftime(\"%Y%m%d-%H%M%S\"),) \n",
        "tensorboard_callback = tf.keras.callbacks.TensorBoard(log_dir=log_dir, histogram_freq=1)\n",
        "eary_stop_callback = tf.keras.callbacks.EarlyStopping(monitor='loss', patience=10, restore_best_weights=True)"
      ],
      "metadata": {
        "id": "HSsgGNU2BB6Z"
      },
      "execution_count": null,
      "outputs": []
    },
    {
      "cell_type": "code",
      "source": [
        "%tensorflow_version 2.x\n",
        "device_name = tf.test.gpu_device_name()\n",
        "if device_name != '/device:GPU:0':\n",
        "  raise SystemError('GPU device not found')\n",
        "print('Found GPU at: {}'.format(device_name))"
      ],
      "metadata": {
        "colab": {
          "base_uri": "https://localhost:8080/"
        },
        "id": "9In1FIYqChTN",
        "outputId": "aa2eb019-67c3-435f-f621-9987327f9619"
      },
      "execution_count": null,
      "outputs": [
        {
          "output_type": "stream",
          "name": "stdout",
          "text": [
            "Found GPU at: /device:GPU:0\n"
          ]
        }
      ]
    },
    {
      "cell_type": "code",
      "source": [
        "model.fit(features_train,\n",
        "          labels_train,\n",
        "          epochs=20,\n",
        "          callbacks=[tensorboard_callback, eary_stop_callback])"
      ],
      "metadata": {
        "colab": {
          "base_uri": "https://localhost:8080/"
        },
        "id": "69TpBYN9BduK",
        "outputId": "e370b324-8f89-4984-c4a3-3e575f1ac23d"
      },
      "execution_count": null,
      "outputs": [
        {
          "output_type": "stream",
          "name": "stdout",
          "text": [
            "Epoch 1/20\n",
            "60644/60644 [==============================] - 218s 4ms/step - loss: 0.0754 - accuracy: 0.9712\n",
            "Epoch 2/20\n",
            "60644/60644 [==============================] - 210s 3ms/step - loss: 0.0458 - accuracy: 0.9792\n",
            "Epoch 3/20\n",
            "60644/60644 [==============================] - 205s 3ms/step - loss: 0.0417 - accuracy: 0.9805\n",
            "Epoch 4/20\n",
            "60644/60644 [==============================] - 203s 3ms/step - loss: 0.0399 - accuracy: 0.9812\n",
            "Epoch 5/20\n",
            "60644/60644 [==============================] - 196s 3ms/step - loss: 0.0388 - accuracy: 0.9815\n",
            "Epoch 6/20\n",
            "60644/60644 [==============================] - 203s 3ms/step - loss: 0.0381 - accuracy: 0.9818\n",
            "Epoch 7/20\n",
            "60644/60644 [==============================] - 196s 3ms/step - loss: 0.0375 - accuracy: 0.9829\n",
            "Epoch 8/20\n",
            "60644/60644 [==============================] - 195s 3ms/step - loss: 0.0360 - accuracy: 0.9847\n",
            "Epoch 9/20\n",
            "60644/60644 [==============================] - 199s 3ms/step - loss: 0.0352 - accuracy: 0.9856\n",
            "Epoch 10/20\n",
            "60644/60644 [==============================] - 205s 3ms/step - loss: 0.0342 - accuracy: 0.9860\n",
            "Epoch 11/20\n",
            "60644/60644 [==============================] - 203s 3ms/step - loss: 0.0338 - accuracy: 0.9864\n",
            "Epoch 12/20\n",
            "60644/60644 [==============================] - 203s 3ms/step - loss: 0.0335 - accuracy: 0.9866\n",
            "Epoch 13/20\n",
            "60644/60644 [==============================] - 200s 3ms/step - loss: 0.0337 - accuracy: 0.9868\n",
            "Epoch 14/20\n",
            "60644/60644 [==============================] - 200s 3ms/step - loss: 0.0327 - accuracy: 0.9870\n",
            "Epoch 15/20\n",
            "60644/60644 [==============================] - 208s 3ms/step - loss: 0.0327 - accuracy: 0.9870\n",
            "Epoch 16/20\n",
            "60644/60644 [==============================] - 202s 3ms/step - loss: 0.0331 - accuracy: 0.9871\n",
            "Epoch 17/20\n",
            "60644/60644 [==============================] - 199s 3ms/step - loss: 0.0326 - accuracy: 0.9872\n",
            "Epoch 18/20\n",
            "60644/60644 [==============================] - 204s 3ms/step - loss: 0.0324 - accuracy: 0.9873\n",
            "Epoch 19/20\n",
            "60644/60644 [==============================] - 206s 3ms/step - loss: 0.0321 - accuracy: 0.9874\n",
            "Epoch 20/20\n",
            "60644/60644 [==============================] - 206s 3ms/step - loss: 0.0321 - accuracy: 0.9874\n"
          ]
        },
        {
          "output_type": "execute_result",
          "data": {
            "text/plain": [
              "<keras.callbacks.History at 0x7fdb328b4c10>"
            ]
          },
          "metadata": {},
          "execution_count": 26
        }
      ]
    },
    {
      "cell_type": "code",
      "source": [
        "# Evaluating model accuracy.\n",
        "model.evaluate(features_test, labels_test, verbose=2)"
      ],
      "metadata": {
        "colab": {
          "base_uri": "https://localhost:8080/"
        },
        "id": "0CfYhLaHBi12",
        "outputId": "7e2d98d2-42d5-42c2-dcd5-bdb418cb12c8"
      },
      "execution_count": null,
      "outputs": [
        {
          "output_type": "stream",
          "name": "stdout",
          "text": [
            "15161/15161 - 34s - loss: 0.0284 - accuracy: 0.9896 - 34s/epoch - 2ms/step\n"
          ]
        },
        {
          "output_type": "execute_result",
          "data": {
            "text/plain": [
              "[0.028355594724416733, 0.9895639419555664]"
            ]
          },
          "metadata": {},
          "execution_count": 27
        }
      ]
    },
    {
      "cell_type": "code",
      "source": [
        "predictions = model.predict(features_test)"
      ],
      "metadata": {
        "id": "HBwTUJHwnulg"
      },
      "execution_count": null,
      "outputs": []
    },
    {
      "cell_type": "code",
      "source": [
        "idx = np.argmax(predictions, axis = 1)\n",
        "idx = pd.DataFrame(idx, columns = ['Label'])"
      ],
      "metadata": {
        "id": "4_DvhdnhnyaI"
      },
      "execution_count": null,
      "outputs": []
    },
    {
      "cell_type": "code",
      "source": [
        "idx"
      ],
      "metadata": {
        "id": "K76myrbcoYPi"
      },
      "execution_count": null,
      "outputs": []
    },
    {
      "cell_type": "code",
      "source": [
        "predicted_label = idx['Label']"
      ],
      "metadata": {
        "id": "BK2cro3Googr"
      },
      "execution_count": null,
      "outputs": []
    },
    {
      "cell_type": "code",
      "source": [
        "np.unique(predicted_label)"
      ],
      "metadata": {
        "colab": {
          "base_uri": "https://localhost:8080/"
        },
        "id": "0LAbvLwnoKis",
        "outputId": "6e1eebc7-743c-4dbf-a222-317908d3ef3d"
      },
      "execution_count": null,
      "outputs": [
        {
          "output_type": "execute_result",
          "data": {
            "text/plain": [
              "array([0, 1, 2, 3, 4, 6, 7])"
            ]
          },
          "metadata": {},
          "execution_count": 40
        }
      ]
    },
    {
      "cell_type": "code",
      "source": [
        "np.unique(labels_test)"
      ],
      "metadata": {
        "colab": {
          "base_uri": "https://localhost:8080/"
        },
        "id": "zwgEdvAdoNX6",
        "outputId": "63a58f19-373e-4565-dc7c-acc869fe1eb7"
      },
      "execution_count": null,
      "outputs": [
        {
          "output_type": "execute_result",
          "data": {
            "text/plain": [
              "array([0, 1, 2, 3, 4, 5, 6, 7])"
            ]
          },
          "metadata": {},
          "execution_count": 41
        }
      ]
    },
    {
      "cell_type": "code",
      "source": [
        "# 수치 4개가 다 같게 나옴,,, \n",
        "\n",
        "from sklearn.metrics import classification_report, confusion_matrix, precision_score, recall_score, f1_score, precision_recall_curve, roc_auc_score, roc_curve\n",
        "\n",
        "accuracy = accuracy_score(labels_test, predicted_label)\n",
        "precision = precision_score(labels_test, predicted_label,average='micro')\n",
        "recall = recall_score(labels_test, predicted_label,average='micro')\n",
        "f1 = f1_score(labels_test, predicted_label,average='micro')\n",
        "accuracy, precision, recall, f1"
      ],
      "metadata": {
        "colab": {
          "base_uri": "https://localhost:8080/"
        },
        "id": "rP6ngk18ozdZ",
        "outputId": "43f3141a-8235-45e1-caa7-9ec38cdbc888"
      },
      "execution_count": null,
      "outputs": [
        {
          "output_type": "execute_result",
          "data": {
            "text/plain": [
              "(0.9895639663111723,\n",
              " 0.9895639663111723,\n",
              " 0.9895639663111723,\n",
              " 0.9895639663111723)"
            ]
          },
          "metadata": {},
          "execution_count": 42
        }
      ]
    },
    {
      "cell_type": "code",
      "source": [
        "# Saving the model.\n",
        "model_path = os.path.join(\"/content/drive/MyDrive/\", \"AEwithLabel_sy.h5\") # 라벨 8가지로 만든 애는 Sy로 저장해놓음 \n",
        "model.save(model_path)"
      ],
      "metadata": {
        "id": "qY4Qydh_S0Ca"
      },
      "execution_count": null,
      "outputs": []
    }
  ]
}