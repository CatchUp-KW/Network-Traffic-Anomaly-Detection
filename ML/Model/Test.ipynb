{
  "nbformat": 4,
  "nbformat_minor": 0,
  "metadata": {
    "colab": {
      "name": "CICIDS 2018 테스트",
      "provenance": [],
      "collapsed_sections": []
    },
    "kernelspec": {
      "name": "python3",
      "display_name": "Python 3"
    },
    "language_info": {
      "name": "python"
    }
  },
  "cells": [
    {
      "cell_type": "code",
      "source": [
        "import matplotlib.pyplot as plt\n",
        "import numpy as np\n",
        "import pandas as pd\n",
        "import tensorflow as tf\n",
        "\n",
        "from sklearn.metrics import accuracy_score, precision_score, recall_score\n",
        "from sklearn.model_selection import train_test_split\n",
        "from sklearn.preprocessing import MinMaxScaler, StandardScaler, RobustScaler\n",
        "from sklearn.preprocessing import LabelEncoder, OneHotEncoder\n",
        "from tensorflow.keras import layers, losses\n",
        "from tensorflow.keras.datasets import fashion_mnist\n",
        "from tensorflow.keras.models import Model, load_model\n",
        "from tensorflow.keras.layers import Input, Dense\n",
        "\n",
        "import seaborn as sns\n",
        "import re\n",
        "import datetime\n",
        "import os\n"
      ],
      "metadata": {
        "id": "lmwGXdny8r9W"
      },
      "execution_count": null,
      "outputs": []
    },
    {
      "cell_type": "code",
      "source": [
        "# %tensorflow_version 2.x\n",
        "# device_name = tf.test.gpu_device_name()\n",
        "# if device_name != '/device:GPU:0':\n",
        "#   raise SystemError('GPU device not found')\n",
        "# print('Found GPU at: {}'.format(device_name))"
      ],
      "metadata": {
        "id": "gkgzHerAmuKQ"
      },
      "execution_count": null,
      "outputs": []
    },
    {
      "cell_type": "code",
      "source": [
        "from google.colab import drive\n",
        "import glob\n",
        "drive.mount('/content/drive')"
      ],
      "metadata": {
        "id": "cRxwfVXp8t4c",
        "colab": {
          "base_uri": "https://localhost:8080/"
        },
        "outputId": "47fab281-f1d7-4415-fead-ba3ada24d2a7"
      },
      "execution_count": null,
      "outputs": [
        {
          "output_type": "stream",
          "name": "stdout",
          "text": [
            "Mounted at /content/drive\n"
          ]
        }
      ]
    },
    {
      "cell_type": "markdown",
      "source": [
        "# CICIDS 2018 합치는 코드\n"
      ],
      "metadata": {
        "id": "VvFkwTxhLO2c"
      }
    },
    {
      "cell_type": "markdown",
      "source": [
        "원래 쓰던 csv 파일 하나에 Infi? 어쩌구 공격 하나만 들어있어서\n",
        "일단 DDos, Dos 계열 공격 들어있는 파일 세개 합침\n",
        "(전체 파일 다 합치려고 하니까 램 딸려서 안됨)"
      ],
      "metadata": {
        "id": "4-dpqHUApnJT"
      }
    },
    {
      "cell_type": "code",
      "source": [
        "files = [file for file in glob.glob(\"/content/drive/MyDrive/temp/*.csv\", recursive=True)]\n",
        "for f in files:\n",
        "  print(f)"
      ],
      "metadata": {
        "id": "hnhrke5aK9DA",
        "colab": {
          "base_uri": "https://localhost:8080/"
        },
        "outputId": "0d10cd42-24d2-4094-cd70-3eae9de83f31"
      },
      "execution_count": null,
      "outputs": [
        {
          "output_type": "stream",
          "name": "stdout",
          "text": [
            "/content/drive/MyDrive/temp/Friday-16-02-2018_TrafficForML_CICFlowMeter.csv\n",
            "/content/drive/MyDrive/temp/Thursday-01-03-2018_TrafficForML_CICFlowMeter.csv\n",
            "/content/drive/MyDrive/temp/Thursday-15-02-2018_TrafficForML_CICFlowMeter.csv\n",
            "/content/drive/MyDrive/temp/Wednesday-21-02-2018_TrafficForML_CICFlowMeter.csv\n"
          ]
        }
      ]
    },
    {
      "cell_type": "code",
      "source": [
        "dataset = [pd.read_csv(f) for f in files]\n",
        "for d in dataset:\n",
        "    print(d.shape)\n",
        "# 모든 DataFrame이 같은 열을 갖고 있는지 체크\n",
        "# for i in range(0,len(dataset)):\n",
        "#     if i != len(dataset)-1:\n",
        "#         same_columns = dataset[i].columns == dataset[i+1].columns\n",
        "        \n",
        "#         if False in same_columns:\n",
        "#             print(i)\n",
        "#             break"
      ],
      "metadata": {
        "colab": {
          "base_uri": "https://localhost:8080/"
        },
        "id": "WQ79gC1vLPps",
        "outputId": "fdbcf33a-fded-4684-9662-5b1c8dd1926e"
      },
      "execution_count": null,
      "outputs": [
        {
          "output_type": "stream",
          "name": "stdout",
          "text": [
            "(592035, 79)\n",
            "(289599, 79)\n",
            "(876946, 79)\n",
            "(561405, 79)\n"
          ]
        }
      ]
    },
    {
      "cell_type": "code",
      "source": [
        "dataset = pd.concat([d for d in dataset]).drop_duplicates(keep=False)\n",
        "\n",
        "# 전처리 과정에서 인덱스 뒤죽박죽됨\n",
        "# 기존 인덱스 값 제거하고(drop=True), 정수 인덱스 세팅 \n",
        "dataset.reset_index(drop=True, inplace = True)"
      ],
      "metadata": {
        "id": "blvWHtvRLYXK"
      },
      "execution_count": null,
      "outputs": []
    },
    {
      "cell_type": "code",
      "source": [
        "dataset.shape"
      ],
      "metadata": {
        "colab": {
          "base_uri": "https://localhost:8080/"
        },
        "id": "rAUvBKXyLdkW",
        "outputId": "6acdacec-08f0-4e00-85a9-83b38bbd08f6"
      },
      "execution_count": null,
      "outputs": [
        {
          "output_type": "execute_result",
          "data": {
            "text/plain": [
              "(2318022, 79)"
            ]
          },
          "metadata": {},
          "execution_count": 7
        }
      ]
    },
    {
      "cell_type": "markdown",
      "source": [
        "# CICIDS 2018 Test"
      ],
      "metadata": {
        "id": "3jwfWZY3gdJN"
      }
    },
    {
      "cell_type": "code",
      "source": [
        "# dataset = pd.read_csv(\"/content/drive/MyDrive/CICIDS2018/Friday-02-03-2018_TrafficForML_CICFlowMeter.csv\")"
      ],
      "metadata": {
        "id": "P3XvefGmgcEs"
      },
      "execution_count": null,
      "outputs": []
    },
    {
      "cell_type": "code",
      "source": [
        "dataset.info()"
      ],
      "metadata": {
        "id": "VnkCJxsmkRYq",
        "colab": {
          "base_uri": "https://localhost:8080/"
        },
        "outputId": "627efc18-fef0-4917-ab8d-40de7aa643cf"
      },
      "execution_count": null,
      "outputs": [
        {
          "output_type": "stream",
          "name": "stdout",
          "text": [
            "<class 'pandas.core.frame.DataFrame'>\n",
            "RangeIndex: 2318022 entries, 0 to 2318021\n",
            "Data columns (total 79 columns):\n",
            " #   Column             Dtype  \n",
            "---  ------             -----  \n",
            " 0   Dst Port           int64  \n",
            " 1   Protocol           int64  \n",
            " 2   Flow Duration      int64  \n",
            " 3   Tot Fwd Pkts       int64  \n",
            " 4   Tot Bwd Pkts       int64  \n",
            " 5   TotLen Fwd Pkts    int64  \n",
            " 6   TotLen Bwd Pkts    int64  \n",
            " 7   Fwd Pkt Len Max    int64  \n",
            " 8   Fwd Pkt Len Min    int64  \n",
            " 9   Fwd Pkt Len Mean   float64\n",
            " 10  Fwd Pkt Len Std    float64\n",
            " 11  Bwd Pkt Len Max    int64  \n",
            " 12  Bwd Pkt Len Min    int64  \n",
            " 13  Bwd Pkt Len Mean   float64\n",
            " 14  Bwd Pkt Len Std    float64\n",
            " 15  Flow Byts/s        float64\n",
            " 16  Flow Pkts/s        float64\n",
            " 17  Flow IAT Mean      float64\n",
            " 18  Flow IAT Std       float64\n",
            " 19  Flow IAT Max       int64  \n",
            " 20  Flow IAT Min       int64  \n",
            " 21  Fwd IAT Tot        int64  \n",
            " 22  Fwd IAT Mean       float64\n",
            " 23  Fwd IAT Std        float64\n",
            " 24  Fwd IAT Max        int64  \n",
            " 25  Fwd IAT Min        int64  \n",
            " 26  Bwd IAT Tot        int64  \n",
            " 27  Bwd IAT Mean       float64\n",
            " 28  Bwd IAT Std        float64\n",
            " 29  Bwd IAT Max        int64  \n",
            " 30  Bwd IAT Min        int64  \n",
            " 31  Fwd PSH Flags      int64  \n",
            " 32  Bwd PSH Flags      int64  \n",
            " 33  Fwd URG Flags      int64  \n",
            " 34  Bwd URG Flags      int64  \n",
            " 35  Fwd Header Len     int64  \n",
            " 36  Bwd Header Len     int64  \n",
            " 37  Fwd Pkts/s         float64\n",
            " 38  Bwd Pkts/s         float64\n",
            " 39  Pkt Len Min        int64  \n",
            " 40  Pkt Len Max        int64  \n",
            " 41  Pkt Len Mean       float64\n",
            " 42  Pkt Len Std        float64\n",
            " 43  Pkt Len Var        float64\n",
            " 44  FIN Flag Cnt       int64  \n",
            " 45  SYN Flag Cnt       int64  \n",
            " 46  RST Flag Cnt       int64  \n",
            " 47  PSH Flag Cnt       int64  \n",
            " 48  ACK Flag Cnt       int64  \n",
            " 49  URG Flag Cnt       int64  \n",
            " 50  CWE Flag Count     int64  \n",
            " 51  ECE Flag Cnt       int64  \n",
            " 52  Down/Up Ratio      int64  \n",
            " 53  Pkt Size Avg       float64\n",
            " 54  Fwd Seg Size Avg   float64\n",
            " 55  Bwd Seg Size Avg   float64\n",
            " 56  Fwd Byts/b Avg     int64  \n",
            " 57  Fwd Pkts/b Avg     int64  \n",
            " 58  Fwd Blk Rate Avg   int64  \n",
            " 59  Bwd Byts/b Avg     int64  \n",
            " 60  Bwd Pkts/b Avg     int64  \n",
            " 61  Bwd Blk Rate Avg   int64  \n",
            " 62  Subflow Fwd Pkts   int64  \n",
            " 63  Subflow Fwd Byts   int64  \n",
            " 64  Subflow Bwd Pkts   int64  \n",
            " 65  Subflow Bwd Byts   int64  \n",
            " 66  Init Fwd Win Byts  int64  \n",
            " 67  Init Bwd Win Byts  int64  \n",
            " 68  Fwd Act Data Pkts  int64  \n",
            " 69  Fwd Seg Size Min   int64  \n",
            " 70  Active Mean        float64\n",
            " 71  Active Std         float64\n",
            " 72  Active Max         int64  \n",
            " 73  Active Min         int64  \n",
            " 74  Idle Mean          float64\n",
            " 75  Idle Std           float64\n",
            " 76  Idle Max           int64  \n",
            " 77  Idle Min           int64  \n",
            " 78  Label              object \n",
            "dtypes: float64(24), int64(54), object(1)\n",
            "memory usage: 1.4+ GB\n"
          ]
        }
      ]
    },
    {
      "cell_type": "code",
      "source": [
        "dataset['Label'].unique()"
      ],
      "metadata": {
        "colab": {
          "base_uri": "https://localhost:8080/"
        },
        "id": "7288eJQQKd6u",
        "outputId": "0d24dccf-8866-4cd1-e1d1-8acd71867e39"
      },
      "execution_count": null,
      "outputs": [
        {
          "output_type": "execute_result",
          "data": {
            "text/plain": [
              "array(['Benign', 'DoS attacks-SlowHTTPTest', 'DoS attacks-Hulk',\n",
              "       'Infilteration', 'DoS attacks-GoldenEye', 'DoS attacks-Slowloris',\n",
              "       'DDOS attack-LOIC-UDP', 'DDOS attack-HOIC'], dtype=object)"
            ]
          },
          "metadata": {},
          "execution_count": 10
        }
      ]
    },
    {
      "cell_type": "code",
      "source": [
        "attack_class = {\n",
        "'Benign' : 'BENIGN',\n",
        "\n",
        "'DDOS attack-LOIC-UDP' : 'DDOS',\n",
        "'DDOS attack-HOIC' : 'DDOS',\n",
        "\n",
        "'DoS attacks-GoldenEye' : 'DoS',\n",
        "'DoS attacks-Hulk' : 'DoS',\n",
        "'DoS attacks-SlowHTTPTest' : 'DoS',\n",
        "'DoS attacks-Slowloris' : 'DoS',\n",
        "'FTPPatator' : 'Brute Force',\n",
        "'SSH-Bruteforce': 'Brute Force',\n",
        "'Web_Attack_Brute_Force' : 'Brute Force',\n",
        "'FTP-BruteForce': 'Brute Force',\n",
        "'Brute Force -Web' : 'Brute Force',\n",
        "'Brute Force -XSS' : 'Brute Force',\n",
        "'Web_Attack_Sql_Injection' : 'Web Attack',\n",
        "'SQL Injection' : 'Web Attack',\n",
        "'Web_Attack_XSS' : 'Web Attack',\n",
        "'Bot' : 'Botnet',\n",
        "'PortScan' : 'Port Scan',\n",
        "'Heartbleed' : 'Web Attack',\n",
        "'SSHPatator' : 'Web Attack'\n",
        "}\n",
        "dataset = dataset.replace({'Label' : attack_class})\n",
        "np.unique(dataset.Label)"
      ],
      "metadata": {
        "colab": {
          "base_uri": "https://localhost:8080/"
        },
        "id": "k7ZMhTFUjZ4H",
        "outputId": "eb7fdfb0-7d07-457e-a5f1-f57afad24cca"
      },
      "execution_count": null,
      "outputs": [
        {
          "output_type": "execute_result",
          "data": {
            "text/plain": [
              "array(['BENIGN', 'DDOS', 'DoS', 'Infilteration'], dtype=object)"
            ]
          },
          "metadata": {},
          "execution_count": 11
        }
      ]
    },
    {
      "cell_type": "code",
      "source": [
        "change_label = {\n",
        "    'BENIGN': 0,\n",
        "    'Botnet': 1, \n",
        "    'Brute Force': 2,\n",
        "    'DDOS' : 3,\n",
        "    'DoS' : 4,\n",
        "    'Infilteration': 5,\n",
        "    'Port Scan': 6,\n",
        "    'Web Attack' : 7\n",
        "}\n",
        "dataset = dataset.replace({'Label' : change_label})\n",
        "np.unique(dataset['Label'])"
      ],
      "metadata": {
        "colab": {
          "base_uri": "https://localhost:8080/"
        },
        "id": "DiwYN1s-rEAo",
        "outputId": "3bd1becf-3d37-4901-e7ef-c6f72aac1001"
      },
      "execution_count": null,
      "outputs": [
        {
          "output_type": "execute_result",
          "data": {
            "text/plain": [
              "array([0, 3, 4, 5])"
            ]
          },
          "metadata": {},
          "execution_count": 12
        }
      ]
    },
    {
      "cell_type": "code",
      "source": [
        "#필요없는 행 제거\n",
        "dataset = dataset.drop([\"Protocol\"],axis = 1)\n",
        "# dataset = dataset.drop([\"Timestamp\"],axis = 1)"
      ],
      "metadata": {
        "id": "-KV9rnREjza8"
      },
      "execution_count": null,
      "outputs": []
    },
    {
      "cell_type": "code",
      "source": [
        "# Column 이름 공백 제거\n",
        "col_names = [col.replace(' ', '') for col in dataset.columns]\n",
        "dataset.columns = col_names\n",
        "\n",
        "# Label 값 다듬기\n",
        "# label_names = dataset['Label'].unique()\n",
        "# label_names = [re.sub(\"[^a-zA-Z ]+\", \"\", l) for l in label_names] \n",
        "# label_names = [re.sub(\"[\\s\\s]\", '_', l) for l in label_names]\n",
        "# label_names = [lab.replace(\"__\", \"_\") for lab in label_names]\n",
        "\n",
        "# labels = dataset['Label'].unique()\n",
        "# for i in range(0,len(label_names)):\n",
        "#     dataset['Label'] = dataset['Label'].replace({labels[i] : label_names[i]})\n",
        "\n",
        "# 결측치 제거\n",
        "dataset.dropna(inplace=True)\n",
        "\n",
        "# 무한대인 것 제거\n",
        "labl = dataset['Label']\n",
        "dataset = dataset.apply(pd.to_numeric, errors='coerce')\n",
        "dataset = dataset.loc[:, dataset.columns != 'Label'].astype('float64')\n",
        "dataset = dataset.replace([np.inf, -np.inf], np.nan)\n",
        "dataset = dataset.merge(labl, how='outer', left_index=True, right_index=True)\n",
        "dataset.dropna(inplace=True)\n",
        "\n",
        "\n"
      ],
      "metadata": {
        "id": "a2k5FqWQg3gm"
      },
      "execution_count": null,
      "outputs": []
    },
    {
      "cell_type": "code",
      "source": [
        "np.unique(dataset['Label'])"
      ],
      "metadata": {
        "colab": {
          "base_uri": "https://localhost:8080/"
        },
        "id": "d-YW9XhMkSiP",
        "outputId": "69c617b8-11f9-4e75-83d0-56f7f3abd027"
      },
      "execution_count": null,
      "outputs": [
        {
          "output_type": "execute_result",
          "data": {
            "text/plain": [
              "array([0, 3, 4, 5])"
            ]
          },
          "metadata": {},
          "execution_count": 15
        }
      ]
    },
    {
      "cell_type": "code",
      "source": [
        "# 데이터 스케일링\n",
        "labels = dataset['Label']\n",
        "features = dataset.loc[:, dataset.columns != 'Label'].astype('float64')\n",
        "\n",
        "scaler = MinMaxScaler() # 한번 바꿔봄..\n",
        "scaler.fit(features)\n",
        "features = scaler.transform(features)"
      ],
      "metadata": {
        "id": "iRgBeB1mjvUl"
      },
      "execution_count": null,
      "outputs": []
    },
    {
      "cell_type": "code",
      "source": [
        "np.unique(labels)"
      ],
      "metadata": {
        "colab": {
          "base_uri": "https://localhost:8080/"
        },
        "id": "4Gdmz4vanfHA",
        "outputId": "9322e269-1178-4fc6-b757-c007fd64756c"
      },
      "execution_count": null,
      "outputs": [
        {
          "output_type": "execute_result",
          "data": {
            "text/plain": [
              "array([0, 3, 4, 5])"
            ]
          },
          "metadata": {},
          "execution_count": 17
        }
      ]
    },
    {
      "cell_type": "code",
      "source": [
        "model_path = '/content/drive/MyDrive/AEwithLabel_sy.h5'\n",
        "autoencoder = load_model (model_path)"
      ],
      "metadata": {
        "id": "xGeMkAaKiD7J"
      },
      "execution_count": null,
      "outputs": []
    },
    {
      "cell_type": "code",
      "source": [
        "predictions = autoencoder.predict(features)"
      ],
      "metadata": {
        "id": "o1ilGaDzi_Fz"
      },
      "execution_count": null,
      "outputs": []
    },
    {
      "cell_type": "code",
      "source": [
        "predictions"
      ],
      "metadata": {
        "colab": {
          "base_uri": "https://localhost:8080/"
        },
        "id": "QvViAHAWjGvl",
        "outputId": "105d0cc6-3dcb-4df1-8746-daa5faa72bdd"
      },
      "execution_count": null,
      "outputs": [
        {
          "output_type": "execute_result",
          "data": {
            "text/plain": [
              "array([[1., 0., 0., ..., 0., 0., 0.],\n",
              "       [1., 0., 0., ..., 0., 0., 0.],\n",
              "       [1., 0., 0., ..., 0., 0., 0.],\n",
              "       ...,\n",
              "       [1., 0., 0., ..., 0., 0., 0.],\n",
              "       [1., 0., 0., ..., 0., 0., 0.],\n",
              "       [1., 0., 0., ..., 0., 0., 0.]], dtype=float32)"
            ]
          },
          "metadata": {},
          "execution_count": 20
        }
      ]
    },
    {
      "cell_type": "code",
      "source": [
        "idx = np.argmax(predictions, axis = 1)"
      ],
      "metadata": {
        "id": "GSwVda3ZjHxN"
      },
      "execution_count": null,
      "outputs": []
    },
    {
      "cell_type": "code",
      "source": [
        "idx = pd.DataFrame(idx, columns = ['Label'])"
      ],
      "metadata": {
        "id": "5W3jTk1_qgZ8"
      },
      "execution_count": null,
      "outputs": []
    },
    {
      "cell_type": "code",
      "source": [
        "# change_label = {\n",
        "#           0: 'Benign', \n",
        "#           1: 'Bot', \n",
        "#           2: 'DDoS', \n",
        "#           3: 'DoS_GoldenEye', \n",
        "#           4: 'DoS_Hulk',\n",
        "#           5: 'DoS_Slowhttptest', \n",
        "#           6: 'DoS_slowloris', \n",
        "#           7: 'FTPPatator', \n",
        "#           8: 'Heartbleed',\n",
        "#           9: 'Infilteration', \n",
        "#           10: 'PortScan', \n",
        "#           11: 'SSHPatator', \n",
        "#           12: 'Web_Attack_Brute_Force',\n",
        "#           13: 'Web_Attack_Sql_Injection', \n",
        "#           14: 'Web_Attack_XSS'\n",
        "# }\n",
        "\n",
        "\n",
        "# change_label = {\n",
        "#     0: 'BENIGN',\n",
        "#     1: 'Botnet',\n",
        "#     2: 'Brute Force',\n",
        "#     3: 'DDoS',\n",
        "#     4: 'DoS',\n",
        "#     5: 'Infiltration',\n",
        "#     6: 'Port Scan',\n",
        "#     7: 'Web Attack'\n",
        "# }"
      ],
      "metadata": {
        "id": "2vMNtQx8qYw5"
      },
      "execution_count": null,
      "outputs": []
    },
    {
      "cell_type": "code",
      "source": [
        "predicted_label = idx['Label']"
      ],
      "metadata": {
        "id": "C5aBCnXyqURR"
      },
      "execution_count": null,
      "outputs": []
    },
    {
      "cell_type": "code",
      "source": [
        "# predicted_label = idx.replace({'Label' : change_label})"
      ],
      "metadata": {
        "id": "o7xoCMUPqhN0"
      },
      "execution_count": null,
      "outputs": []
    },
    {
      "cell_type": "code",
      "source": [
        "np.unique(predicted_label)"
      ],
      "metadata": {
        "colab": {
          "base_uri": "https://localhost:8080/"
        },
        "id": "YZALugzlnIuC",
        "outputId": "72ae1131-d4fc-4f31-8ffa-48bd891140ab"
      },
      "execution_count": null,
      "outputs": [
        {
          "output_type": "execute_result",
          "data": {
            "text/plain": [
              "array([0, 2, 3, 4, 6])"
            ]
          },
          "metadata": {},
          "execution_count": 26
        }
      ]
    },
    {
      "cell_type": "code",
      "source": [
        "np.unique(labels)"
      ],
      "metadata": {
        "colab": {
          "base_uri": "https://localhost:8080/"
        },
        "id": "afuoJeAmrFhi",
        "outputId": "f0f4bba2-492b-4045-e478-90df95245886"
      },
      "execution_count": null,
      "outputs": [
        {
          "output_type": "execute_result",
          "data": {
            "text/plain": [
              "array([0, 3, 4, 5])"
            ]
          },
          "metadata": {},
          "execution_count": 27
        }
      ]
    },
    {
      "cell_type": "code",
      "source": [
        "predicted_label = predicted_label.tolist()"
      ],
      "metadata": {
        "id": "qY2Yf9aEtXhy"
      },
      "execution_count": null,
      "outputs": []
    },
    {
      "cell_type": "code",
      "source": [
        "labels = labels.tolist()"
      ],
      "metadata": {
        "id": "chWx3BBjtgFL"
      },
      "execution_count": null,
      "outputs": []
    },
    {
      "cell_type": "code",
      "source": [
        "from sklearn.metrics import classification_report\n",
        "\n",
        "# target_names = ['BENIGN', 'Botnet', 'Brute Force', 'DDoS', 'DoS', 'Infiltration','Port Scan', 'Web Attack']"
      ],
      "metadata": {
        "id": "UZVXkZFUsOC6"
      },
      "execution_count": null,
      "outputs": []
    },
    {
      "cell_type": "code",
      "source": [
        "report = classification_report(labels, predicted_label)"
      ],
      "metadata": {
        "id": "42O7QOjlsoJ4",
        "colab": {
          "base_uri": "https://localhost:8080/"
        },
        "outputId": "2cd8af2c-7e51-4b70-ce45-c7abff7bcbec"
      },
      "execution_count": null,
      "outputs": [
        {
          "output_type": "stream",
          "name": "stderr",
          "text": [
            "/usr/local/lib/python3.7/dist-packages/sklearn/metrics/_classification.py:1318: UndefinedMetricWarning: Precision and F-score are ill-defined and being set to 0.0 in labels with no predicted samples. Use `zero_division` parameter to control this behavior.\n",
            "  _warn_prf(average, modifier, msg_start, len(result))\n",
            "/usr/local/lib/python3.7/dist-packages/sklearn/metrics/_classification.py:1318: UndefinedMetricWarning: Recall and F-score are ill-defined and being set to 0.0 in labels with no true samples. Use `zero_division` parameter to control this behavior.\n",
            "  _warn_prf(average, modifier, msg_start, len(result))\n",
            "/usr/local/lib/python3.7/dist-packages/sklearn/metrics/_classification.py:1318: UndefinedMetricWarning: Precision and F-score are ill-defined and being set to 0.0 in labels with no predicted samples. Use `zero_division` parameter to control this behavior.\n",
            "  _warn_prf(average, modifier, msg_start, len(result))\n",
            "/usr/local/lib/python3.7/dist-packages/sklearn/metrics/_classification.py:1318: UndefinedMetricWarning: Recall and F-score are ill-defined and being set to 0.0 in labels with no true samples. Use `zero_division` parameter to control this behavior.\n",
            "  _warn_prf(average, modifier, msg_start, len(result))\n",
            "/usr/local/lib/python3.7/dist-packages/sklearn/metrics/_classification.py:1318: UndefinedMetricWarning: Precision and F-score are ill-defined and being set to 0.0 in labels with no predicted samples. Use `zero_division` parameter to control this behavior.\n",
            "  _warn_prf(average, modifier, msg_start, len(result))\n",
            "/usr/local/lib/python3.7/dist-packages/sklearn/metrics/_classification.py:1318: UndefinedMetricWarning: Recall and F-score are ill-defined and being set to 0.0 in labels with no true samples. Use `zero_division` parameter to control this behavior.\n",
            "  _warn_prf(average, modifier, msg_start, len(result))\n"
          ]
        }
      ]
    },
    {
      "cell_type": "code",
      "source": [
        "print(report) # 여기서 나온 weighted avg 갖다 쓰면 되려나... "
      ],
      "metadata": {
        "colab": {
          "base_uri": "https://localhost:8080/"
        },
        "id": "KAXYgM8yurxl",
        "outputId": "45d9ba1c-b21c-4d23-e2cf-0d2e63f07ed8"
      },
      "execution_count": null,
      "outputs": [
        {
          "output_type": "stream",
          "name": "stdout",
          "text": [
            "              precision    recall  f1-score   support\n",
            "\n",
            "           0       0.80      1.00      0.89   1838349\n",
            "           2       0.00      0.00      0.00         0\n",
            "           3       0.92      0.01      0.02    200591\n",
            "           4       0.93      0.02      0.05    196551\n",
            "           5       0.00      0.00      0.00     82531\n",
            "           6       0.00      0.00      0.00         0\n",
            "\n",
            "    accuracy                           0.79   2318022\n",
            "   macro avg       0.44      0.17      0.16   2318022\n",
            "weighted avg       0.79      0.79      0.71   2318022\n",
            "\n"
          ]
        }
      ]
    },
    {
      "cell_type": "code",
      "source": [
        "# from sklearn.metrics import classification_report, confusion_matrix, precision_score, recall_score, f1_score, precision_recall_curve, roc_auc_score, roc_curve\n",
        "\n",
        "# accuracy = accuracy_score(labels, predicted_label)\n",
        "# precision = precision_score(labels, predicted_label,average='micro')\n",
        "# recall = recall_score(labels, predicted_label,average='micro')\n",
        "# f1 = f1_score(labels, predicted_label,average='micro')\n",
        "# accuracy, precision, recall, f1"
      ],
      "metadata": {
        "id": "5-ArtEyPqxj9"
      },
      "execution_count": null,
      "outputs": []
    }
  ]
}