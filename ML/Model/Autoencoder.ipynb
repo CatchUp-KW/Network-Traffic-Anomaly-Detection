{
  "nbformat": 4,
  "nbformat_minor": 0,
  "metadata": {
    "colab": {
      "name": "오토인코더 모델 저장용",
      "provenance": [],
      "collapsed_sections": [],
      "machine_shape": "hm"
    },
    "kernelspec": {
      "name": "python3",
      "display_name": "Python 3"
    },
    "language_info": {
      "name": "python"
    },
    "accelerator": "GPU"
  },
  "cells": [
    {
      "cell_type": "markdown",
      "source": [
        "## 데이터 준비"
      ],
      "metadata": {
        "id": "2REtLaP6kuMn"
      }
    },
    {
      "cell_type": "code",
      "source": [
        "import matplotlib.pyplot as plt\n",
        "import numpy as np\n",
        "import pandas as pd\n",
        "import tensorflow as tf\n",
        "from tensorflow.keras.layers import Input, Dense\n",
        "\n",
        "from sklearn.metrics import accuracy_score, precision_score, recall_score, f1_score\n",
        "from sklearn.model_selection import train_test_split\n",
        "from sklearn.preprocessing import MinMaxScaler, StandardScaler, RobustScaler\n",
        "from sklearn.preprocessing import LabelEncoder, OneHotEncoder\n",
        "from tensorflow.keras import layers, losses\n",
        "from tensorflow.keras.datasets import fashion_mnist\n",
        "from tensorflow.keras.models import Model\n",
        "\n",
        "import seaborn as sns\n",
        "import re\n",
        "import datetime\n",
        "import os"
      ],
      "metadata": {
        "id": "XWhE3TbUTUsC"
      },
      "execution_count": null,
      "outputs": []
    },
    {
      "cell_type": "code",
      "source": [
        "%tensorflow_version 2.x\n",
        "device_name = tf.test.gpu_device_name()\n",
        "if device_name != '/device:GPU:0':\n",
        "  raise SystemError('GPU device not found')\n",
        "print('Found GPU at: {}'.format(device_name))"
      ],
      "metadata": {
        "colab": {
          "base_uri": "https://localhost:8080/"
        },
        "id": "y6B0kKJmk4Hw",
        "outputId": "50637875-4417-4681-f204-ca4ba002a4f8"
      },
      "execution_count": null,
      "outputs": [
        {
          "output_type": "stream",
          "name": "stdout",
          "text": [
            "Found GPU at: /device:GPU:0\n"
          ]
        }
      ]
    },
    {
      "cell_type": "code",
      "source": [
        "from google.colab import drive\n",
        "import glob\n",
        "drive.mount('/content/drive')"
      ],
      "metadata": {
        "colab": {
          "base_uri": "https://localhost:8080/"
        },
        "id": "ANkG9CD4TT8Z",
        "outputId": "c0c271a3-f2bd-4a15-90d5-9803a84028a9"
      },
      "execution_count": null,
      "outputs": [
        {
          "output_type": "stream",
          "name": "stdout",
          "text": [
            "Mounted at /content/drive\n"
          ]
        }
      ]
    },
    {
      "cell_type": "code",
      "execution_count": null,
      "metadata": {
        "id": "de2SKqPASz4w"
      },
      "outputs": [],
      "source": [
        "dataset = pd.read_csv(\"/content/drive/MyDrive/DATASET_CLEAN.csv\")"
      ]
    },
    {
      "cell_type": "code",
      "source": [
        "dataset.columns"
      ],
      "metadata": {
        "colab": {
          "base_uri": "https://localhost:8080/"
        },
        "id": "4wU7PMxFZz8x",
        "outputId": "2f4b23f8-5db9-4460-c88f-685d5d4e51d0"
      },
      "execution_count": null,
      "outputs": [
        {
          "output_type": "execute_result",
          "data": {
            "text/plain": [
              "Index(['DestinationPort', 'FlowDuration', 'TotalFwdPackets',\n",
              "       'TotalBackwardPackets', 'TotalLengthofFwdPackets',\n",
              "       'TotalLengthofBwdPackets', 'FwdPacketLengthMax', 'FwdPacketLengthMin',\n",
              "       'FwdPacketLengthMean', 'FwdPacketLengthStd', 'BwdPacketLengthMax',\n",
              "       'BwdPacketLengthMin', 'BwdPacketLengthMean', 'BwdPacketLengthStd',\n",
              "       'FlowBytes/s', 'FlowPackets/s', 'FlowIATMean', 'FlowIATStd',\n",
              "       'FlowIATMax', 'FlowIATMin', 'FwdIATTotal', 'FwdIATMean', 'FwdIATStd',\n",
              "       'FwdIATMax', 'FwdIATMin', 'BwdIATTotal', 'BwdIATMean', 'BwdIATStd',\n",
              "       'BwdIATMax', 'BwdIATMin', 'FwdPSHFlags', 'BwdPSHFlags', 'FwdURGFlags',\n",
              "       'BwdURGFlags', 'FwdHeaderLength', 'BwdHeaderLength', 'FwdPackets/s',\n",
              "       'BwdPackets/s', 'MinPacketLength', 'MaxPacketLength',\n",
              "       'PacketLengthMean', 'PacketLengthStd', 'PacketLengthVariance',\n",
              "       'FINFlagCount', 'SYNFlagCount', 'RSTFlagCount', 'PSHFlagCount',\n",
              "       'ACKFlagCount', 'URGFlagCount', 'CWEFlagCount', 'ECEFlagCount',\n",
              "       'Down/UpRatio', 'AveragePacketSize', 'AvgFwdSegmentSize',\n",
              "       'AvgBwdSegmentSize', 'FwdHeaderLength.1', 'FwdAvgBytes/Bulk',\n",
              "       'FwdAvgPackets/Bulk', 'FwdAvgBulkRate', 'BwdAvgBytes/Bulk',\n",
              "       'BwdAvgPackets/Bulk', 'BwdAvgBulkRate', 'SubflowFwdPackets',\n",
              "       'SubflowFwdBytes', 'SubflowBwdPackets', 'SubflowBwdBytes',\n",
              "       'Init_Win_bytes_forward', 'Init_Win_bytes_backward', 'act_data_pkt_fwd',\n",
              "       'min_seg_size_forward', 'ActiveMean', 'ActiveStd', 'ActiveMax',\n",
              "       'ActiveMin', 'IdleMean', 'IdleStd', 'IdleMax', 'IdleMin', 'Label'],\n",
              "      dtype='object')"
            ]
          },
          "metadata": {},
          "execution_count": 5
        }
      ]
    },
    {
      "cell_type": "code",
      "source": [
        "dataset.info()"
      ],
      "metadata": {
        "colab": {
          "base_uri": "https://localhost:8080/"
        },
        "id": "2ZpITuF0bktj",
        "outputId": "e60e9de7-7c63-41d8-e567-8c67555bd5c0"
      },
      "execution_count": null,
      "outputs": [
        {
          "output_type": "stream",
          "name": "stdout",
          "text": [
            "<class 'pandas.core.frame.DataFrame'>\n",
            "RangeIndex: 2425727 entries, 0 to 2425726\n",
            "Data columns (total 79 columns):\n",
            " #   Column                   Dtype  \n",
            "---  ------                   -----  \n",
            " 0   DestinationPort          float64\n",
            " 1   FlowDuration             float64\n",
            " 2   TotalFwdPackets          float64\n",
            " 3   TotalBackwardPackets     float64\n",
            " 4   TotalLengthofFwdPackets  float64\n",
            " 5   TotalLengthofBwdPackets  float64\n",
            " 6   FwdPacketLengthMax       float64\n",
            " 7   FwdPacketLengthMin       float64\n",
            " 8   FwdPacketLengthMean      float64\n",
            " 9   FwdPacketLengthStd       float64\n",
            " 10  BwdPacketLengthMax       float64\n",
            " 11  BwdPacketLengthMin       float64\n",
            " 12  BwdPacketLengthMean      float64\n",
            " 13  BwdPacketLengthStd       float64\n",
            " 14  FlowBytes/s              float64\n",
            " 15  FlowPackets/s            float64\n",
            " 16  FlowIATMean              float64\n",
            " 17  FlowIATStd               float64\n",
            " 18  FlowIATMax               float64\n",
            " 19  FlowIATMin               float64\n",
            " 20  FwdIATTotal              float64\n",
            " 21  FwdIATMean               float64\n",
            " 22  FwdIATStd                float64\n",
            " 23  FwdIATMax                float64\n",
            " 24  FwdIATMin                float64\n",
            " 25  BwdIATTotal              float64\n",
            " 26  BwdIATMean               float64\n",
            " 27  BwdIATStd                float64\n",
            " 28  BwdIATMax                float64\n",
            " 29  BwdIATMin                float64\n",
            " 30  FwdPSHFlags              float64\n",
            " 31  BwdPSHFlags              float64\n",
            " 32  FwdURGFlags              float64\n",
            " 33  BwdURGFlags              float64\n",
            " 34  FwdHeaderLength          float64\n",
            " 35  BwdHeaderLength          float64\n",
            " 36  FwdPackets/s             float64\n",
            " 37  BwdPackets/s             float64\n",
            " 38  MinPacketLength          float64\n",
            " 39  MaxPacketLength          float64\n",
            " 40  PacketLengthMean         float64\n",
            " 41  PacketLengthStd          float64\n",
            " 42  PacketLengthVariance     float64\n",
            " 43  FINFlagCount             float64\n",
            " 44  SYNFlagCount             float64\n",
            " 45  RSTFlagCount             float64\n",
            " 46  PSHFlagCount             float64\n",
            " 47  ACKFlagCount             float64\n",
            " 48  URGFlagCount             float64\n",
            " 49  CWEFlagCount             float64\n",
            " 50  ECEFlagCount             float64\n",
            " 51  Down/UpRatio             float64\n",
            " 52  AveragePacketSize        float64\n",
            " 53  AvgFwdSegmentSize        float64\n",
            " 54  AvgBwdSegmentSize        float64\n",
            " 55  FwdHeaderLength.1        float64\n",
            " 56  FwdAvgBytes/Bulk         float64\n",
            " 57  FwdAvgPackets/Bulk       float64\n",
            " 58  FwdAvgBulkRate           float64\n",
            " 59  BwdAvgBytes/Bulk         float64\n",
            " 60  BwdAvgPackets/Bulk       float64\n",
            " 61  BwdAvgBulkRate           float64\n",
            " 62  SubflowFwdPackets        float64\n",
            " 63  SubflowFwdBytes          float64\n",
            " 64  SubflowBwdPackets        float64\n",
            " 65  SubflowBwdBytes          float64\n",
            " 66  Init_Win_bytes_forward   float64\n",
            " 67  Init_Win_bytes_backward  float64\n",
            " 68  act_data_pkt_fwd         float64\n",
            " 69  min_seg_size_forward     float64\n",
            " 70  ActiveMean               float64\n",
            " 71  ActiveStd                float64\n",
            " 72  ActiveMax                float64\n",
            " 73  ActiveMin                float64\n",
            " 74  IdleMean                 float64\n",
            " 75  IdleStd                  float64\n",
            " 76  IdleMax                  float64\n",
            " 77  IdleMin                  float64\n",
            " 78  Label                    object \n",
            "dtypes: float64(78), object(1)\n",
            "memory usage: 1.4+ GB\n"
          ]
        }
      ]
    },
    {
      "cell_type": "code",
      "source": [
        "dataset"
      ],
      "metadata": {
        "colab": {
          "base_uri": "https://localhost:8080/",
          "height": 487
        },
        "id": "kfzB0Dx2bjpY",
        "outputId": "82489d64-1332-4480-e46d-24c2c189340e"
      },
      "execution_count": null,
      "outputs": [
        {
          "output_type": "execute_result",
          "data": {
            "text/plain": [
              "         DestinationPort  FlowDuration  TotalFwdPackets  TotalBackwardPackets  \\\n",
              "0                54865.0           3.0              2.0                   0.0   \n",
              "1                55054.0         109.0              1.0                   1.0   \n",
              "2                55055.0          52.0              1.0                   1.0   \n",
              "3                46236.0          34.0              1.0                   1.0   \n",
              "4                54863.0           3.0              2.0                   0.0   \n",
              "...                  ...           ...              ...                   ...   \n",
              "2425722             53.0       32215.0              4.0                   2.0   \n",
              "2425723             53.0         324.0              2.0                   2.0   \n",
              "2425724          58030.0          82.0              2.0                   1.0   \n",
              "2425725             53.0     1048635.0              6.0                   2.0   \n",
              "2425726             53.0       94939.0              4.0                   2.0   \n",
              "\n",
              "         TotalLengthofFwdPackets  TotalLengthofBwdPackets  FwdPacketLengthMax  \\\n",
              "0                           12.0                      0.0                 6.0   \n",
              "1                            6.0                      6.0                 6.0   \n",
              "2                            6.0                      6.0                 6.0   \n",
              "3                            6.0                      6.0                 6.0   \n",
              "4                           12.0                      0.0                 6.0   \n",
              "...                          ...                      ...                 ...   \n",
              "2425722                    112.0                    152.0                28.0   \n",
              "2425723                     84.0                    362.0                42.0   \n",
              "2425724                     31.0                      6.0                31.0   \n",
              "2425725                    192.0                    256.0                32.0   \n",
              "2425726                    188.0                    226.0                47.0   \n",
              "\n",
              "         FwdPacketLengthMin  FwdPacketLengthMean  FwdPacketLengthStd  ...  \\\n",
              "0                       6.0                  6.0             0.00000  ...   \n",
              "1                       6.0                  6.0             0.00000  ...   \n",
              "2                       6.0                  6.0             0.00000  ...   \n",
              "3                       6.0                  6.0             0.00000  ...   \n",
              "4                       6.0                  6.0             0.00000  ...   \n",
              "...                     ...                  ...                 ...  ...   \n",
              "2425722                28.0                 28.0             0.00000  ...   \n",
              "2425723                42.0                 42.0             0.00000  ...   \n",
              "2425724                 0.0                 15.5            21.92031  ...   \n",
              "2425725                32.0                 32.0             0.00000  ...   \n",
              "2425726                47.0                 47.0             0.00000  ...   \n",
              "\n",
              "         min_seg_size_forward  ActiveMean  ActiveStd  ActiveMax  ActiveMin  \\\n",
              "0                        20.0         0.0        0.0        0.0        0.0   \n",
              "1                        20.0         0.0        0.0        0.0        0.0   \n",
              "2                        20.0         0.0        0.0        0.0        0.0   \n",
              "3                        20.0         0.0        0.0        0.0        0.0   \n",
              "4                        20.0         0.0        0.0        0.0        0.0   \n",
              "...                       ...         ...        ...        ...        ...   \n",
              "2425722                  20.0         0.0        0.0        0.0        0.0   \n",
              "2425723                  20.0         0.0        0.0        0.0        0.0   \n",
              "2425724                  32.0         0.0        0.0        0.0        0.0   \n",
              "2425725                  20.0         0.0        0.0        0.0        0.0   \n",
              "2425726                  20.0         0.0        0.0        0.0        0.0   \n",
              "\n",
              "         IdleMean  IdleStd  IdleMax  IdleMin   Label  \n",
              "0             0.0      0.0      0.0      0.0  BENIGN  \n",
              "1             0.0      0.0      0.0      0.0  BENIGN  \n",
              "2             0.0      0.0      0.0      0.0  BENIGN  \n",
              "3             0.0      0.0      0.0      0.0  BENIGN  \n",
              "4             0.0      0.0      0.0      0.0  BENIGN  \n",
              "...           ...      ...      ...      ...     ...  \n",
              "2425722       0.0      0.0      0.0      0.0  BENIGN  \n",
              "2425723       0.0      0.0      0.0      0.0  BENIGN  \n",
              "2425724       0.0      0.0      0.0      0.0  BENIGN  \n",
              "2425725       0.0      0.0      0.0      0.0  BENIGN  \n",
              "2425726       0.0      0.0      0.0      0.0  BENIGN  \n",
              "\n",
              "[2425727 rows x 79 columns]"
            ],
            "text/html": [
              "\n",
              "  <div id=\"df-a147209e-d001-4751-b5e3-b87970bc45bf\">\n",
              "    <div class=\"colab-df-container\">\n",
              "      <div>\n",
              "<style scoped>\n",
              "    .dataframe tbody tr th:only-of-type {\n",
              "        vertical-align: middle;\n",
              "    }\n",
              "\n",
              "    .dataframe tbody tr th {\n",
              "        vertical-align: top;\n",
              "    }\n",
              "\n",
              "    .dataframe thead th {\n",
              "        text-align: right;\n",
              "    }\n",
              "</style>\n",
              "<table border=\"1\" class=\"dataframe\">\n",
              "  <thead>\n",
              "    <tr style=\"text-align: right;\">\n",
              "      <th></th>\n",
              "      <th>DestinationPort</th>\n",
              "      <th>FlowDuration</th>\n",
              "      <th>TotalFwdPackets</th>\n",
              "      <th>TotalBackwardPackets</th>\n",
              "      <th>TotalLengthofFwdPackets</th>\n",
              "      <th>TotalLengthofBwdPackets</th>\n",
              "      <th>FwdPacketLengthMax</th>\n",
              "      <th>FwdPacketLengthMin</th>\n",
              "      <th>FwdPacketLengthMean</th>\n",
              "      <th>FwdPacketLengthStd</th>\n",
              "      <th>...</th>\n",
              "      <th>min_seg_size_forward</th>\n",
              "      <th>ActiveMean</th>\n",
              "      <th>ActiveStd</th>\n",
              "      <th>ActiveMax</th>\n",
              "      <th>ActiveMin</th>\n",
              "      <th>IdleMean</th>\n",
              "      <th>IdleStd</th>\n",
              "      <th>IdleMax</th>\n",
              "      <th>IdleMin</th>\n",
              "      <th>Label</th>\n",
              "    </tr>\n",
              "  </thead>\n",
              "  <tbody>\n",
              "    <tr>\n",
              "      <th>0</th>\n",
              "      <td>54865.0</td>\n",
              "      <td>3.0</td>\n",
              "      <td>2.0</td>\n",
              "      <td>0.0</td>\n",
              "      <td>12.0</td>\n",
              "      <td>0.0</td>\n",
              "      <td>6.0</td>\n",
              "      <td>6.0</td>\n",
              "      <td>6.0</td>\n",
              "      <td>0.00000</td>\n",
              "      <td>...</td>\n",
              "      <td>20.0</td>\n",
              "      <td>0.0</td>\n",
              "      <td>0.0</td>\n",
              "      <td>0.0</td>\n",
              "      <td>0.0</td>\n",
              "      <td>0.0</td>\n",
              "      <td>0.0</td>\n",
              "      <td>0.0</td>\n",
              "      <td>0.0</td>\n",
              "      <td>BENIGN</td>\n",
              "    </tr>\n",
              "    <tr>\n",
              "      <th>1</th>\n",
              "      <td>55054.0</td>\n",
              "      <td>109.0</td>\n",
              "      <td>1.0</td>\n",
              "      <td>1.0</td>\n",
              "      <td>6.0</td>\n",
              "      <td>6.0</td>\n",
              "      <td>6.0</td>\n",
              "      <td>6.0</td>\n",
              "      <td>6.0</td>\n",
              "      <td>0.00000</td>\n",
              "      <td>...</td>\n",
              "      <td>20.0</td>\n",
              "      <td>0.0</td>\n",
              "      <td>0.0</td>\n",
              "      <td>0.0</td>\n",
              "      <td>0.0</td>\n",
              "      <td>0.0</td>\n",
              "      <td>0.0</td>\n",
              "      <td>0.0</td>\n",
              "      <td>0.0</td>\n",
              "      <td>BENIGN</td>\n",
              "    </tr>\n",
              "    <tr>\n",
              "      <th>2</th>\n",
              "      <td>55055.0</td>\n",
              "      <td>52.0</td>\n",
              "      <td>1.0</td>\n",
              "      <td>1.0</td>\n",
              "      <td>6.0</td>\n",
              "      <td>6.0</td>\n",
              "      <td>6.0</td>\n",
              "      <td>6.0</td>\n",
              "      <td>6.0</td>\n",
              "      <td>0.00000</td>\n",
              "      <td>...</td>\n",
              "      <td>20.0</td>\n",
              "      <td>0.0</td>\n",
              "      <td>0.0</td>\n",
              "      <td>0.0</td>\n",
              "      <td>0.0</td>\n",
              "      <td>0.0</td>\n",
              "      <td>0.0</td>\n",
              "      <td>0.0</td>\n",
              "      <td>0.0</td>\n",
              "      <td>BENIGN</td>\n",
              "    </tr>\n",
              "    <tr>\n",
              "      <th>3</th>\n",
              "      <td>46236.0</td>\n",
              "      <td>34.0</td>\n",
              "      <td>1.0</td>\n",
              "      <td>1.0</td>\n",
              "      <td>6.0</td>\n",
              "      <td>6.0</td>\n",
              "      <td>6.0</td>\n",
              "      <td>6.0</td>\n",
              "      <td>6.0</td>\n",
              "      <td>0.00000</td>\n",
              "      <td>...</td>\n",
              "      <td>20.0</td>\n",
              "      <td>0.0</td>\n",
              "      <td>0.0</td>\n",
              "      <td>0.0</td>\n",
              "      <td>0.0</td>\n",
              "      <td>0.0</td>\n",
              "      <td>0.0</td>\n",
              "      <td>0.0</td>\n",
              "      <td>0.0</td>\n",
              "      <td>BENIGN</td>\n",
              "    </tr>\n",
              "    <tr>\n",
              "      <th>4</th>\n",
              "      <td>54863.0</td>\n",
              "      <td>3.0</td>\n",
              "      <td>2.0</td>\n",
              "      <td>0.0</td>\n",
              "      <td>12.0</td>\n",
              "      <td>0.0</td>\n",
              "      <td>6.0</td>\n",
              "      <td>6.0</td>\n",
              "      <td>6.0</td>\n",
              "      <td>0.00000</td>\n",
              "      <td>...</td>\n",
              "      <td>20.0</td>\n",
              "      <td>0.0</td>\n",
              "      <td>0.0</td>\n",
              "      <td>0.0</td>\n",
              "      <td>0.0</td>\n",
              "      <td>0.0</td>\n",
              "      <td>0.0</td>\n",
              "      <td>0.0</td>\n",
              "      <td>0.0</td>\n",
              "      <td>BENIGN</td>\n",
              "    </tr>\n",
              "    <tr>\n",
              "      <th>...</th>\n",
              "      <td>...</td>\n",
              "      <td>...</td>\n",
              "      <td>...</td>\n",
              "      <td>...</td>\n",
              "      <td>...</td>\n",
              "      <td>...</td>\n",
              "      <td>...</td>\n",
              "      <td>...</td>\n",
              "      <td>...</td>\n",
              "      <td>...</td>\n",
              "      <td>...</td>\n",
              "      <td>...</td>\n",
              "      <td>...</td>\n",
              "      <td>...</td>\n",
              "      <td>...</td>\n",
              "      <td>...</td>\n",
              "      <td>...</td>\n",
              "      <td>...</td>\n",
              "      <td>...</td>\n",
              "      <td>...</td>\n",
              "      <td>...</td>\n",
              "    </tr>\n",
              "    <tr>\n",
              "      <th>2425722</th>\n",
              "      <td>53.0</td>\n",
              "      <td>32215.0</td>\n",
              "      <td>4.0</td>\n",
              "      <td>2.0</td>\n",
              "      <td>112.0</td>\n",
              "      <td>152.0</td>\n",
              "      <td>28.0</td>\n",
              "      <td>28.0</td>\n",
              "      <td>28.0</td>\n",
              "      <td>0.00000</td>\n",
              "      <td>...</td>\n",
              "      <td>20.0</td>\n",
              "      <td>0.0</td>\n",
              "      <td>0.0</td>\n",
              "      <td>0.0</td>\n",
              "      <td>0.0</td>\n",
              "      <td>0.0</td>\n",
              "      <td>0.0</td>\n",
              "      <td>0.0</td>\n",
              "      <td>0.0</td>\n",
              "      <td>BENIGN</td>\n",
              "    </tr>\n",
              "    <tr>\n",
              "      <th>2425723</th>\n",
              "      <td>53.0</td>\n",
              "      <td>324.0</td>\n",
              "      <td>2.0</td>\n",
              "      <td>2.0</td>\n",
              "      <td>84.0</td>\n",
              "      <td>362.0</td>\n",
              "      <td>42.0</td>\n",
              "      <td>42.0</td>\n",
              "      <td>42.0</td>\n",
              "      <td>0.00000</td>\n",
              "      <td>...</td>\n",
              "      <td>20.0</td>\n",
              "      <td>0.0</td>\n",
              "      <td>0.0</td>\n",
              "      <td>0.0</td>\n",
              "      <td>0.0</td>\n",
              "      <td>0.0</td>\n",
              "      <td>0.0</td>\n",
              "      <td>0.0</td>\n",
              "      <td>0.0</td>\n",
              "      <td>BENIGN</td>\n",
              "    </tr>\n",
              "    <tr>\n",
              "      <th>2425724</th>\n",
              "      <td>58030.0</td>\n",
              "      <td>82.0</td>\n",
              "      <td>2.0</td>\n",
              "      <td>1.0</td>\n",
              "      <td>31.0</td>\n",
              "      <td>6.0</td>\n",
              "      <td>31.0</td>\n",
              "      <td>0.0</td>\n",
              "      <td>15.5</td>\n",
              "      <td>21.92031</td>\n",
              "      <td>...</td>\n",
              "      <td>32.0</td>\n",
              "      <td>0.0</td>\n",
              "      <td>0.0</td>\n",
              "      <td>0.0</td>\n",
              "      <td>0.0</td>\n",
              "      <td>0.0</td>\n",
              "      <td>0.0</td>\n",
              "      <td>0.0</td>\n",
              "      <td>0.0</td>\n",
              "      <td>BENIGN</td>\n",
              "    </tr>\n",
              "    <tr>\n",
              "      <th>2425725</th>\n",
              "      <td>53.0</td>\n",
              "      <td>1048635.0</td>\n",
              "      <td>6.0</td>\n",
              "      <td>2.0</td>\n",
              "      <td>192.0</td>\n",
              "      <td>256.0</td>\n",
              "      <td>32.0</td>\n",
              "      <td>32.0</td>\n",
              "      <td>32.0</td>\n",
              "      <td>0.00000</td>\n",
              "      <td>...</td>\n",
              "      <td>20.0</td>\n",
              "      <td>0.0</td>\n",
              "      <td>0.0</td>\n",
              "      <td>0.0</td>\n",
              "      <td>0.0</td>\n",
              "      <td>0.0</td>\n",
              "      <td>0.0</td>\n",
              "      <td>0.0</td>\n",
              "      <td>0.0</td>\n",
              "      <td>BENIGN</td>\n",
              "    </tr>\n",
              "    <tr>\n",
              "      <th>2425726</th>\n",
              "      <td>53.0</td>\n",
              "      <td>94939.0</td>\n",
              "      <td>4.0</td>\n",
              "      <td>2.0</td>\n",
              "      <td>188.0</td>\n",
              "      <td>226.0</td>\n",
              "      <td>47.0</td>\n",
              "      <td>47.0</td>\n",
              "      <td>47.0</td>\n",
              "      <td>0.00000</td>\n",
              "      <td>...</td>\n",
              "      <td>20.0</td>\n",
              "      <td>0.0</td>\n",
              "      <td>0.0</td>\n",
              "      <td>0.0</td>\n",
              "      <td>0.0</td>\n",
              "      <td>0.0</td>\n",
              "      <td>0.0</td>\n",
              "      <td>0.0</td>\n",
              "      <td>0.0</td>\n",
              "      <td>BENIGN</td>\n",
              "    </tr>\n",
              "  </tbody>\n",
              "</table>\n",
              "<p>2425727 rows × 79 columns</p>\n",
              "</div>\n",
              "      <button class=\"colab-df-convert\" onclick=\"convertToInteractive('df-a147209e-d001-4751-b5e3-b87970bc45bf')\"\n",
              "              title=\"Convert this dataframe to an interactive table.\"\n",
              "              style=\"display:none;\">\n",
              "        \n",
              "  <svg xmlns=\"http://www.w3.org/2000/svg\" height=\"24px\"viewBox=\"0 0 24 24\"\n",
              "       width=\"24px\">\n",
              "    <path d=\"M0 0h24v24H0V0z\" fill=\"none\"/>\n",
              "    <path d=\"M18.56 5.44l.94 2.06.94-2.06 2.06-.94-2.06-.94-.94-2.06-.94 2.06-2.06.94zm-11 1L8.5 8.5l.94-2.06 2.06-.94-2.06-.94L8.5 2.5l-.94 2.06-2.06.94zm10 10l.94 2.06.94-2.06 2.06-.94-2.06-.94-.94-2.06-.94 2.06-2.06.94z\"/><path d=\"M17.41 7.96l-1.37-1.37c-.4-.4-.92-.59-1.43-.59-.52 0-1.04.2-1.43.59L10.3 9.45l-7.72 7.72c-.78.78-.78 2.05 0 2.83L4 21.41c.39.39.9.59 1.41.59.51 0 1.02-.2 1.41-.59l7.78-7.78 2.81-2.81c.8-.78.8-2.07 0-2.86zM5.41 20L4 18.59l7.72-7.72 1.47 1.35L5.41 20z\"/>\n",
              "  </svg>\n",
              "      </button>\n",
              "      \n",
              "  <style>\n",
              "    .colab-df-container {\n",
              "      display:flex;\n",
              "      flex-wrap:wrap;\n",
              "      gap: 12px;\n",
              "    }\n",
              "\n",
              "    .colab-df-convert {\n",
              "      background-color: #E8F0FE;\n",
              "      border: none;\n",
              "      border-radius: 50%;\n",
              "      cursor: pointer;\n",
              "      display: none;\n",
              "      fill: #1967D2;\n",
              "      height: 32px;\n",
              "      padding: 0 0 0 0;\n",
              "      width: 32px;\n",
              "    }\n",
              "\n",
              "    .colab-df-convert:hover {\n",
              "      background-color: #E2EBFA;\n",
              "      box-shadow: 0px 1px 2px rgba(60, 64, 67, 0.3), 0px 1px 3px 1px rgba(60, 64, 67, 0.15);\n",
              "      fill: #174EA6;\n",
              "    }\n",
              "\n",
              "    [theme=dark] .colab-df-convert {\n",
              "      background-color: #3B4455;\n",
              "      fill: #D2E3FC;\n",
              "    }\n",
              "\n",
              "    [theme=dark] .colab-df-convert:hover {\n",
              "      background-color: #434B5C;\n",
              "      box-shadow: 0px 1px 3px 1px rgba(0, 0, 0, 0.15);\n",
              "      filter: drop-shadow(0px 1px 2px rgba(0, 0, 0, 0.3));\n",
              "      fill: #FFFFFF;\n",
              "    }\n",
              "  </style>\n",
              "\n",
              "      <script>\n",
              "        const buttonEl =\n",
              "          document.querySelector('#df-a147209e-d001-4751-b5e3-b87970bc45bf button.colab-df-convert');\n",
              "        buttonEl.style.display =\n",
              "          google.colab.kernel.accessAllowed ? 'block' : 'none';\n",
              "\n",
              "        async function convertToInteractive(key) {\n",
              "          const element = document.querySelector('#df-a147209e-d001-4751-b5e3-b87970bc45bf');\n",
              "          const dataTable =\n",
              "            await google.colab.kernel.invokeFunction('convertToInteractive',\n",
              "                                                     [key], {});\n",
              "          if (!dataTable) return;\n",
              "\n",
              "          const docLinkHtml = 'Like what you see? Visit the ' +\n",
              "            '<a target=\"_blank\" href=https://colab.research.google.com/notebooks/data_table.ipynb>data table notebook</a>'\n",
              "            + ' to learn more about interactive tables.';\n",
              "          element.innerHTML = '';\n",
              "          dataTable['output_type'] = 'display_data';\n",
              "          await google.colab.output.renderOutput(dataTable, element);\n",
              "          const docLink = document.createElement('div');\n",
              "          docLink.innerHTML = docLinkHtml;\n",
              "          element.appendChild(docLink);\n",
              "        }\n",
              "      </script>\n",
              "    </div>\n",
              "  </div>\n",
              "  "
            ]
          },
          "metadata": {},
          "execution_count": 7
        }
      ]
    },
    {
      "cell_type": "code",
      "source": [
        "main_features = [\"FlowDuration\", \"FlowBytes/s\", \"FlowPackets/s\", \"FlowIATMean\",\n",
        "                 \"FwdIATMean\", \"BwdIATMean\", \"ActiveMean\", \"IdleMean\", \"Label\"]"
      ],
      "metadata": {
        "id": "5b7gQcTkB3e8"
      },
      "execution_count": null,
      "outputs": []
    },
    {
      "cell_type": "code",
      "source": [
        "dataset = dataset[main_features]"
      ],
      "metadata": {
        "id": "nMPgrUgyB4qb"
      },
      "execution_count": null,
      "outputs": []
    },
    {
      "cell_type": "code",
      "source": [
        "dataset.head()"
      ],
      "metadata": {
        "colab": {
          "base_uri": "https://localhost:8080/",
          "height": 250
        },
        "id": "eL1xDUAECTmQ",
        "outputId": "e69a7ba6-c57e-4c09-bbc9-8db9f9eb4004"
      },
      "execution_count": null,
      "outputs": [
        {
          "output_type": "execute_result",
          "data": {
            "text/plain": [
              "   FlowDuration   FlowBytes/s  FlowPackets/s  FlowIATMean  FwdIATMean  \\\n",
              "0           3.0  4.000000e+06   666666.66670          3.0         3.0   \n",
              "1         109.0  1.100917e+05    18348.62385        109.0         0.0   \n",
              "2          52.0  2.307692e+05    38461.53846         52.0         0.0   \n",
              "3          34.0  3.529412e+05    58823.52941         34.0         0.0   \n",
              "4           3.0  4.000000e+06   666666.66670          3.0         3.0   \n",
              "\n",
              "   BwdIATMean  ActiveMean  IdleMean   Label  \n",
              "0         0.0         0.0       0.0  BENIGN  \n",
              "1         0.0         0.0       0.0  BENIGN  \n",
              "2         0.0         0.0       0.0  BENIGN  \n",
              "3         0.0         0.0       0.0  BENIGN  \n",
              "4         0.0         0.0       0.0  BENIGN  "
            ],
            "text/html": [
              "\n",
              "  <div id=\"df-d57b4f28-a4dd-42f5-b5a1-a7b1d3048df9\">\n",
              "    <div class=\"colab-df-container\">\n",
              "      <div>\n",
              "<style scoped>\n",
              "    .dataframe tbody tr th:only-of-type {\n",
              "        vertical-align: middle;\n",
              "    }\n",
              "\n",
              "    .dataframe tbody tr th {\n",
              "        vertical-align: top;\n",
              "    }\n",
              "\n",
              "    .dataframe thead th {\n",
              "        text-align: right;\n",
              "    }\n",
              "</style>\n",
              "<table border=\"1\" class=\"dataframe\">\n",
              "  <thead>\n",
              "    <tr style=\"text-align: right;\">\n",
              "      <th></th>\n",
              "      <th>FlowDuration</th>\n",
              "      <th>FlowBytes/s</th>\n",
              "      <th>FlowPackets/s</th>\n",
              "      <th>FlowIATMean</th>\n",
              "      <th>FwdIATMean</th>\n",
              "      <th>BwdIATMean</th>\n",
              "      <th>ActiveMean</th>\n",
              "      <th>IdleMean</th>\n",
              "      <th>Label</th>\n",
              "    </tr>\n",
              "  </thead>\n",
              "  <tbody>\n",
              "    <tr>\n",
              "      <th>0</th>\n",
              "      <td>3.0</td>\n",
              "      <td>4.000000e+06</td>\n",
              "      <td>666666.66670</td>\n",
              "      <td>3.0</td>\n",
              "      <td>3.0</td>\n",
              "      <td>0.0</td>\n",
              "      <td>0.0</td>\n",
              "      <td>0.0</td>\n",
              "      <td>BENIGN</td>\n",
              "    </tr>\n",
              "    <tr>\n",
              "      <th>1</th>\n",
              "      <td>109.0</td>\n",
              "      <td>1.100917e+05</td>\n",
              "      <td>18348.62385</td>\n",
              "      <td>109.0</td>\n",
              "      <td>0.0</td>\n",
              "      <td>0.0</td>\n",
              "      <td>0.0</td>\n",
              "      <td>0.0</td>\n",
              "      <td>BENIGN</td>\n",
              "    </tr>\n",
              "    <tr>\n",
              "      <th>2</th>\n",
              "      <td>52.0</td>\n",
              "      <td>2.307692e+05</td>\n",
              "      <td>38461.53846</td>\n",
              "      <td>52.0</td>\n",
              "      <td>0.0</td>\n",
              "      <td>0.0</td>\n",
              "      <td>0.0</td>\n",
              "      <td>0.0</td>\n",
              "      <td>BENIGN</td>\n",
              "    </tr>\n",
              "    <tr>\n",
              "      <th>3</th>\n",
              "      <td>34.0</td>\n",
              "      <td>3.529412e+05</td>\n",
              "      <td>58823.52941</td>\n",
              "      <td>34.0</td>\n",
              "      <td>0.0</td>\n",
              "      <td>0.0</td>\n",
              "      <td>0.0</td>\n",
              "      <td>0.0</td>\n",
              "      <td>BENIGN</td>\n",
              "    </tr>\n",
              "    <tr>\n",
              "      <th>4</th>\n",
              "      <td>3.0</td>\n",
              "      <td>4.000000e+06</td>\n",
              "      <td>666666.66670</td>\n",
              "      <td>3.0</td>\n",
              "      <td>3.0</td>\n",
              "      <td>0.0</td>\n",
              "      <td>0.0</td>\n",
              "      <td>0.0</td>\n",
              "      <td>BENIGN</td>\n",
              "    </tr>\n",
              "  </tbody>\n",
              "</table>\n",
              "</div>\n",
              "      <button class=\"colab-df-convert\" onclick=\"convertToInteractive('df-d57b4f28-a4dd-42f5-b5a1-a7b1d3048df9')\"\n",
              "              title=\"Convert this dataframe to an interactive table.\"\n",
              "              style=\"display:none;\">\n",
              "        \n",
              "  <svg xmlns=\"http://www.w3.org/2000/svg\" height=\"24px\"viewBox=\"0 0 24 24\"\n",
              "       width=\"24px\">\n",
              "    <path d=\"M0 0h24v24H0V0z\" fill=\"none\"/>\n",
              "    <path d=\"M18.56 5.44l.94 2.06.94-2.06 2.06-.94-2.06-.94-.94-2.06-.94 2.06-2.06.94zm-11 1L8.5 8.5l.94-2.06 2.06-.94-2.06-.94L8.5 2.5l-.94 2.06-2.06.94zm10 10l.94 2.06.94-2.06 2.06-.94-2.06-.94-.94-2.06-.94 2.06-2.06.94z\"/><path d=\"M17.41 7.96l-1.37-1.37c-.4-.4-.92-.59-1.43-.59-.52 0-1.04.2-1.43.59L10.3 9.45l-7.72 7.72c-.78.78-.78 2.05 0 2.83L4 21.41c.39.39.9.59 1.41.59.51 0 1.02-.2 1.41-.59l7.78-7.78 2.81-2.81c.8-.78.8-2.07 0-2.86zM5.41 20L4 18.59l7.72-7.72 1.47 1.35L5.41 20z\"/>\n",
              "  </svg>\n",
              "      </button>\n",
              "      \n",
              "  <style>\n",
              "    .colab-df-container {\n",
              "      display:flex;\n",
              "      flex-wrap:wrap;\n",
              "      gap: 12px;\n",
              "    }\n",
              "\n",
              "    .colab-df-convert {\n",
              "      background-color: #E8F0FE;\n",
              "      border: none;\n",
              "      border-radius: 50%;\n",
              "      cursor: pointer;\n",
              "      display: none;\n",
              "      fill: #1967D2;\n",
              "      height: 32px;\n",
              "      padding: 0 0 0 0;\n",
              "      width: 32px;\n",
              "    }\n",
              "\n",
              "    .colab-df-convert:hover {\n",
              "      background-color: #E2EBFA;\n",
              "      box-shadow: 0px 1px 2px rgba(60, 64, 67, 0.3), 0px 1px 3px 1px rgba(60, 64, 67, 0.15);\n",
              "      fill: #174EA6;\n",
              "    }\n",
              "\n",
              "    [theme=dark] .colab-df-convert {\n",
              "      background-color: #3B4455;\n",
              "      fill: #D2E3FC;\n",
              "    }\n",
              "\n",
              "    [theme=dark] .colab-df-convert:hover {\n",
              "      background-color: #434B5C;\n",
              "      box-shadow: 0px 1px 3px 1px rgba(0, 0, 0, 0.15);\n",
              "      filter: drop-shadow(0px 1px 2px rgba(0, 0, 0, 0.3));\n",
              "      fill: #FFFFFF;\n",
              "    }\n",
              "  </style>\n",
              "\n",
              "      <script>\n",
              "        const buttonEl =\n",
              "          document.querySelector('#df-d57b4f28-a4dd-42f5-b5a1-a7b1d3048df9 button.colab-df-convert');\n",
              "        buttonEl.style.display =\n",
              "          google.colab.kernel.accessAllowed ? 'block' : 'none';\n",
              "\n",
              "        async function convertToInteractive(key) {\n",
              "          const element = document.querySelector('#df-d57b4f28-a4dd-42f5-b5a1-a7b1d3048df9');\n",
              "          const dataTable =\n",
              "            await google.colab.kernel.invokeFunction('convertToInteractive',\n",
              "                                                     [key], {});\n",
              "          if (!dataTable) return;\n",
              "\n",
              "          const docLinkHtml = 'Like what you see? Visit the ' +\n",
              "            '<a target=\"_blank\" href=https://colab.research.google.com/notebooks/data_table.ipynb>data table notebook</a>'\n",
              "            + ' to learn more about interactive tables.';\n",
              "          element.innerHTML = '';\n",
              "          dataTable['output_type'] = 'display_data';\n",
              "          await google.colab.output.renderOutput(dataTable, element);\n",
              "          const docLink = document.createElement('div');\n",
              "          docLink.innerHTML = docLinkHtml;\n",
              "          element.appendChild(docLink);\n",
              "        }\n",
              "      </script>\n",
              "    </div>\n",
              "  </div>\n",
              "  "
            ]
          },
          "metadata": {},
          "execution_count": 10
        }
      ]
    },
    {
      "cell_type": "code",
      "source": [
        "np.unique(dataset.Label)"
      ],
      "metadata": {
        "colab": {
          "base_uri": "https://localhost:8080/"
        },
        "id": "GiS_06olbt4y",
        "outputId": "602b0c36-cb60-4153-f646-e2fe3e6fc930"
      },
      "execution_count": null,
      "outputs": [
        {
          "output_type": "execute_result",
          "data": {
            "text/plain": [
              "array(['BENIGN', 'Bot', 'DDoS', 'DoS_GoldenEye', 'DoS_Hulk',\n",
              "       'DoS_Slowhttptest', 'DoS_slowloris', 'FTPPatator', 'Heartbleed',\n",
              "       'Infiltration', 'PortScan', 'SSHPatator', 'Web_Attack_Brute_Force',\n",
              "       'Web_Attack_Sql_Injection', 'Web_Attack_XSS'], dtype=object)"
            ]
          },
          "metadata": {},
          "execution_count": 11
        }
      ]
    },
    {
      "cell_type": "code",
      "source": [
        "# Label을 T/F로 바꾸고 싶을때는?\n",
        "# 다양한 방법이 있는 거 같은데 일단 아래처럼...\n",
        "\n",
        "change_value_dict = {\n",
        "    'BENIGN': True,\n",
        "    'Bot': False,\n",
        "    'DDoS': False,\n",
        "    'DoS_GoldenEye': False,\n",
        "    'DoS_Hulk': False,\n",
        "    'DoS_Slowhttptest': False,\n",
        "    'DoS_slowloris': False,\n",
        "    'FTPPatator': False,\n",
        "    'Heartbleed': False,\n",
        "    'Infiltration': False,\n",
        "    'PortScan': False,\n",
        "    'SSHPatator': False,\n",
        "    'Web_Attack_Brute_Force': False,\n",
        "    'Web_Attack_Sql_Injection': False,\n",
        "    'Web_Attack_XSS': False\n",
        "}\n",
        "\n",
        "dataset = dataset.replace({'Label' : change_value_dict})\n",
        "np.unique(dataset.Label)"
      ],
      "metadata": {
        "colab": {
          "base_uri": "https://localhost:8080/"
        },
        "id": "Q9mgvWfrcNiU",
        "outputId": "d330128b-a94d-42c0-a7a5-7c10d6ae184f"
      },
      "execution_count": null,
      "outputs": [
        {
          "output_type": "execute_result",
          "data": {
            "text/plain": [
              "array([False,  True])"
            ]
          },
          "metadata": {},
          "execution_count": 12
        }
      ]
    },
    {
      "cell_type": "code",
      "source": [
        "np.unique(dataset.Label)"
      ],
      "metadata": {
        "colab": {
          "base_uri": "https://localhost:8080/"
        },
        "id": "UUIIJd1BDIVC",
        "outputId": "44c38e4e-c059-4e2a-ea5c-99dcacca93a0"
      },
      "execution_count": null,
      "outputs": [
        {
          "output_type": "execute_result",
          "data": {
            "text/plain": [
              "array([False,  True])"
            ]
          },
          "metadata": {},
          "execution_count": 13
        }
      ]
    },
    {
      "cell_type": "code",
      "source": [
        "dataset"
      ],
      "metadata": {
        "colab": {
          "base_uri": "https://localhost:8080/",
          "height": 487
        },
        "id": "tKt9rd5aEu54",
        "outputId": "8613daab-10e2-4491-f910-f1c00c6eae9d"
      },
      "execution_count": null,
      "outputs": [
        {
          "output_type": "execute_result",
          "data": {
            "text/plain": [
              "         FlowDuration   FlowBytes/s  FlowPackets/s  FlowIATMean    FwdIATMean  \\\n",
              "0                 3.0  4.000000e+06  666666.666700          3.0       3.00000   \n",
              "1               109.0  1.100917e+05   18348.623850        109.0       0.00000   \n",
              "2                52.0  2.307692e+05   38461.538460         52.0       0.00000   \n",
              "3                34.0  3.529412e+05   58823.529410         34.0       0.00000   \n",
              "4                 3.0  4.000000e+06  666666.666700          3.0       3.00000   \n",
              "...               ...           ...            ...          ...           ...   \n",
              "2425722       32215.0  8.194940e+03     186.248642       6443.0   10277.33333   \n",
              "2425723         324.0  1.376543e+06   12345.679010        108.0       2.00000   \n",
              "2425724          82.0  4.512195e+05   36585.365850         41.0       4.00000   \n",
              "2425725     1048635.0  4.272221e+02       7.628965     149805.0  206722.60000   \n",
              "2425726       94939.0  4.360695e+03      63.198475      18987.8   24350.33333   \n",
              "\n",
              "         BwdIATMean  ActiveMean  IdleMean  Label  \n",
              "0               0.0         0.0       0.0   True  \n",
              "1               0.0         0.0       0.0   True  \n",
              "2               0.0         0.0       0.0   True  \n",
              "3               0.0         0.0       0.0   True  \n",
              "4               0.0         0.0       0.0   True  \n",
              "...             ...         ...       ...    ...  \n",
              "2425722         3.0         0.0       0.0   True  \n",
              "2425723         2.0         0.0       0.0   True  \n",
              "2425724         0.0         0.0       0.0   True  \n",
              "2425725         3.0         0.0       0.0   True  \n",
              "2425726        48.0         0.0       0.0   True  \n",
              "\n",
              "[2425727 rows x 9 columns]"
            ],
            "text/html": [
              "\n",
              "  <div id=\"df-dbd97aa4-4510-4af4-9a26-6335d10d4dab\">\n",
              "    <div class=\"colab-df-container\">\n",
              "      <div>\n",
              "<style scoped>\n",
              "    .dataframe tbody tr th:only-of-type {\n",
              "        vertical-align: middle;\n",
              "    }\n",
              "\n",
              "    .dataframe tbody tr th {\n",
              "        vertical-align: top;\n",
              "    }\n",
              "\n",
              "    .dataframe thead th {\n",
              "        text-align: right;\n",
              "    }\n",
              "</style>\n",
              "<table border=\"1\" class=\"dataframe\">\n",
              "  <thead>\n",
              "    <tr style=\"text-align: right;\">\n",
              "      <th></th>\n",
              "      <th>FlowDuration</th>\n",
              "      <th>FlowBytes/s</th>\n",
              "      <th>FlowPackets/s</th>\n",
              "      <th>FlowIATMean</th>\n",
              "      <th>FwdIATMean</th>\n",
              "      <th>BwdIATMean</th>\n",
              "      <th>ActiveMean</th>\n",
              "      <th>IdleMean</th>\n",
              "      <th>Label</th>\n",
              "    </tr>\n",
              "  </thead>\n",
              "  <tbody>\n",
              "    <tr>\n",
              "      <th>0</th>\n",
              "      <td>3.0</td>\n",
              "      <td>4.000000e+06</td>\n",
              "      <td>666666.666700</td>\n",
              "      <td>3.0</td>\n",
              "      <td>3.00000</td>\n",
              "      <td>0.0</td>\n",
              "      <td>0.0</td>\n",
              "      <td>0.0</td>\n",
              "      <td>True</td>\n",
              "    </tr>\n",
              "    <tr>\n",
              "      <th>1</th>\n",
              "      <td>109.0</td>\n",
              "      <td>1.100917e+05</td>\n",
              "      <td>18348.623850</td>\n",
              "      <td>109.0</td>\n",
              "      <td>0.00000</td>\n",
              "      <td>0.0</td>\n",
              "      <td>0.0</td>\n",
              "      <td>0.0</td>\n",
              "      <td>True</td>\n",
              "    </tr>\n",
              "    <tr>\n",
              "      <th>2</th>\n",
              "      <td>52.0</td>\n",
              "      <td>2.307692e+05</td>\n",
              "      <td>38461.538460</td>\n",
              "      <td>52.0</td>\n",
              "      <td>0.00000</td>\n",
              "      <td>0.0</td>\n",
              "      <td>0.0</td>\n",
              "      <td>0.0</td>\n",
              "      <td>True</td>\n",
              "    </tr>\n",
              "    <tr>\n",
              "      <th>3</th>\n",
              "      <td>34.0</td>\n",
              "      <td>3.529412e+05</td>\n",
              "      <td>58823.529410</td>\n",
              "      <td>34.0</td>\n",
              "      <td>0.00000</td>\n",
              "      <td>0.0</td>\n",
              "      <td>0.0</td>\n",
              "      <td>0.0</td>\n",
              "      <td>True</td>\n",
              "    </tr>\n",
              "    <tr>\n",
              "      <th>4</th>\n",
              "      <td>3.0</td>\n",
              "      <td>4.000000e+06</td>\n",
              "      <td>666666.666700</td>\n",
              "      <td>3.0</td>\n",
              "      <td>3.00000</td>\n",
              "      <td>0.0</td>\n",
              "      <td>0.0</td>\n",
              "      <td>0.0</td>\n",
              "      <td>True</td>\n",
              "    </tr>\n",
              "    <tr>\n",
              "      <th>...</th>\n",
              "      <td>...</td>\n",
              "      <td>...</td>\n",
              "      <td>...</td>\n",
              "      <td>...</td>\n",
              "      <td>...</td>\n",
              "      <td>...</td>\n",
              "      <td>...</td>\n",
              "      <td>...</td>\n",
              "      <td>...</td>\n",
              "    </tr>\n",
              "    <tr>\n",
              "      <th>2425722</th>\n",
              "      <td>32215.0</td>\n",
              "      <td>8.194940e+03</td>\n",
              "      <td>186.248642</td>\n",
              "      <td>6443.0</td>\n",
              "      <td>10277.33333</td>\n",
              "      <td>3.0</td>\n",
              "      <td>0.0</td>\n",
              "      <td>0.0</td>\n",
              "      <td>True</td>\n",
              "    </tr>\n",
              "    <tr>\n",
              "      <th>2425723</th>\n",
              "      <td>324.0</td>\n",
              "      <td>1.376543e+06</td>\n",
              "      <td>12345.679010</td>\n",
              "      <td>108.0</td>\n",
              "      <td>2.00000</td>\n",
              "      <td>2.0</td>\n",
              "      <td>0.0</td>\n",
              "      <td>0.0</td>\n",
              "      <td>True</td>\n",
              "    </tr>\n",
              "    <tr>\n",
              "      <th>2425724</th>\n",
              "      <td>82.0</td>\n",
              "      <td>4.512195e+05</td>\n",
              "      <td>36585.365850</td>\n",
              "      <td>41.0</td>\n",
              "      <td>4.00000</td>\n",
              "      <td>0.0</td>\n",
              "      <td>0.0</td>\n",
              "      <td>0.0</td>\n",
              "      <td>True</td>\n",
              "    </tr>\n",
              "    <tr>\n",
              "      <th>2425725</th>\n",
              "      <td>1048635.0</td>\n",
              "      <td>4.272221e+02</td>\n",
              "      <td>7.628965</td>\n",
              "      <td>149805.0</td>\n",
              "      <td>206722.60000</td>\n",
              "      <td>3.0</td>\n",
              "      <td>0.0</td>\n",
              "      <td>0.0</td>\n",
              "      <td>True</td>\n",
              "    </tr>\n",
              "    <tr>\n",
              "      <th>2425726</th>\n",
              "      <td>94939.0</td>\n",
              "      <td>4.360695e+03</td>\n",
              "      <td>63.198475</td>\n",
              "      <td>18987.8</td>\n",
              "      <td>24350.33333</td>\n",
              "      <td>48.0</td>\n",
              "      <td>0.0</td>\n",
              "      <td>0.0</td>\n",
              "      <td>True</td>\n",
              "    </tr>\n",
              "  </tbody>\n",
              "</table>\n",
              "<p>2425727 rows × 9 columns</p>\n",
              "</div>\n",
              "      <button class=\"colab-df-convert\" onclick=\"convertToInteractive('df-dbd97aa4-4510-4af4-9a26-6335d10d4dab')\"\n",
              "              title=\"Convert this dataframe to an interactive table.\"\n",
              "              style=\"display:none;\">\n",
              "        \n",
              "  <svg xmlns=\"http://www.w3.org/2000/svg\" height=\"24px\"viewBox=\"0 0 24 24\"\n",
              "       width=\"24px\">\n",
              "    <path d=\"M0 0h24v24H0V0z\" fill=\"none\"/>\n",
              "    <path d=\"M18.56 5.44l.94 2.06.94-2.06 2.06-.94-2.06-.94-.94-2.06-.94 2.06-2.06.94zm-11 1L8.5 8.5l.94-2.06 2.06-.94-2.06-.94L8.5 2.5l-.94 2.06-2.06.94zm10 10l.94 2.06.94-2.06 2.06-.94-2.06-.94-.94-2.06-.94 2.06-2.06.94z\"/><path d=\"M17.41 7.96l-1.37-1.37c-.4-.4-.92-.59-1.43-.59-.52 0-1.04.2-1.43.59L10.3 9.45l-7.72 7.72c-.78.78-.78 2.05 0 2.83L4 21.41c.39.39.9.59 1.41.59.51 0 1.02-.2 1.41-.59l7.78-7.78 2.81-2.81c.8-.78.8-2.07 0-2.86zM5.41 20L4 18.59l7.72-7.72 1.47 1.35L5.41 20z\"/>\n",
              "  </svg>\n",
              "      </button>\n",
              "      \n",
              "  <style>\n",
              "    .colab-df-container {\n",
              "      display:flex;\n",
              "      flex-wrap:wrap;\n",
              "      gap: 12px;\n",
              "    }\n",
              "\n",
              "    .colab-df-convert {\n",
              "      background-color: #E8F0FE;\n",
              "      border: none;\n",
              "      border-radius: 50%;\n",
              "      cursor: pointer;\n",
              "      display: none;\n",
              "      fill: #1967D2;\n",
              "      height: 32px;\n",
              "      padding: 0 0 0 0;\n",
              "      width: 32px;\n",
              "    }\n",
              "\n",
              "    .colab-df-convert:hover {\n",
              "      background-color: #E2EBFA;\n",
              "      box-shadow: 0px 1px 2px rgba(60, 64, 67, 0.3), 0px 1px 3px 1px rgba(60, 64, 67, 0.15);\n",
              "      fill: #174EA6;\n",
              "    }\n",
              "\n",
              "    [theme=dark] .colab-df-convert {\n",
              "      background-color: #3B4455;\n",
              "      fill: #D2E3FC;\n",
              "    }\n",
              "\n",
              "    [theme=dark] .colab-df-convert:hover {\n",
              "      background-color: #434B5C;\n",
              "      box-shadow: 0px 1px 3px 1px rgba(0, 0, 0, 0.15);\n",
              "      filter: drop-shadow(0px 1px 2px rgba(0, 0, 0, 0.3));\n",
              "      fill: #FFFFFF;\n",
              "    }\n",
              "  </style>\n",
              "\n",
              "      <script>\n",
              "        const buttonEl =\n",
              "          document.querySelector('#df-dbd97aa4-4510-4af4-9a26-6335d10d4dab button.colab-df-convert');\n",
              "        buttonEl.style.display =\n",
              "          google.colab.kernel.accessAllowed ? 'block' : 'none';\n",
              "\n",
              "        async function convertToInteractive(key) {\n",
              "          const element = document.querySelector('#df-dbd97aa4-4510-4af4-9a26-6335d10d4dab');\n",
              "          const dataTable =\n",
              "            await google.colab.kernel.invokeFunction('convertToInteractive',\n",
              "                                                     [key], {});\n",
              "          if (!dataTable) return;\n",
              "\n",
              "          const docLinkHtml = 'Like what you see? Visit the ' +\n",
              "            '<a target=\"_blank\" href=https://colab.research.google.com/notebooks/data_table.ipynb>data table notebook</a>'\n",
              "            + ' to learn more about interactive tables.';\n",
              "          element.innerHTML = '';\n",
              "          dataTable['output_type'] = 'display_data';\n",
              "          await google.colab.output.renderOutput(dataTable, element);\n",
              "          const docLink = document.createElement('div');\n",
              "          docLink.innerHTML = docLinkHtml;\n",
              "          element.appendChild(docLink);\n",
              "        }\n",
              "      </script>\n",
              "    </div>\n",
              "  </div>\n",
              "  "
            ]
          },
          "metadata": {},
          "execution_count": 14
        }
      ]
    },
    {
      "cell_type": "code",
      "source": [
        "labels = dataset['Label']\n",
        "features = dataset.loc[:, dataset.columns != 'Label'].astype('float64')"
      ],
      "metadata": {
        "id": "xJfqn4UjnJxn"
      },
      "execution_count": null,
      "outputs": []
    },
    {
      "cell_type": "code",
      "source": [
        "features"
      ],
      "metadata": {
        "colab": {
          "base_uri": "https://localhost:8080/",
          "height": 467
        },
        "id": "GKV7jBUGEKzO",
        "outputId": "abed6ca7-a42c-43fa-a13e-0739a24e8bce"
      },
      "execution_count": null,
      "outputs": [
        {
          "output_type": "execute_result",
          "data": {
            "text/plain": [
              "         FlowDuration   FlowBytes/s  FlowPackets/s  FlowIATMean    FwdIATMean  \\\n",
              "0                 3.0  4.000000e+06  666666.666700          3.0       3.00000   \n",
              "1               109.0  1.100917e+05   18348.623850        109.0       0.00000   \n",
              "2                52.0  2.307692e+05   38461.538460         52.0       0.00000   \n",
              "3                34.0  3.529412e+05   58823.529410         34.0       0.00000   \n",
              "4                 3.0  4.000000e+06  666666.666700          3.0       3.00000   \n",
              "...               ...           ...            ...          ...           ...   \n",
              "2425722       32215.0  8.194940e+03     186.248642       6443.0   10277.33333   \n",
              "2425723         324.0  1.376543e+06   12345.679010        108.0       2.00000   \n",
              "2425724          82.0  4.512195e+05   36585.365850         41.0       4.00000   \n",
              "2425725     1048635.0  4.272221e+02       7.628965     149805.0  206722.60000   \n",
              "2425726       94939.0  4.360695e+03      63.198475      18987.8   24350.33333   \n",
              "\n",
              "         BwdIATMean  ActiveMean  IdleMean  \n",
              "0               0.0         0.0       0.0  \n",
              "1               0.0         0.0       0.0  \n",
              "2               0.0         0.0       0.0  \n",
              "3               0.0         0.0       0.0  \n",
              "4               0.0         0.0       0.0  \n",
              "...             ...         ...       ...  \n",
              "2425722         3.0         0.0       0.0  \n",
              "2425723         2.0         0.0       0.0  \n",
              "2425724         0.0         0.0       0.0  \n",
              "2425725         3.0         0.0       0.0  \n",
              "2425726        48.0         0.0       0.0  \n",
              "\n",
              "[2425727 rows x 8 columns]"
            ],
            "text/html": [
              "\n",
              "  <div id=\"df-fafdd9c9-a0df-4375-9a96-a91211afb0f3\">\n",
              "    <div class=\"colab-df-container\">\n",
              "      <div>\n",
              "<style scoped>\n",
              "    .dataframe tbody tr th:only-of-type {\n",
              "        vertical-align: middle;\n",
              "    }\n",
              "\n",
              "    .dataframe tbody tr th {\n",
              "        vertical-align: top;\n",
              "    }\n",
              "\n",
              "    .dataframe thead th {\n",
              "        text-align: right;\n",
              "    }\n",
              "</style>\n",
              "<table border=\"1\" class=\"dataframe\">\n",
              "  <thead>\n",
              "    <tr style=\"text-align: right;\">\n",
              "      <th></th>\n",
              "      <th>FlowDuration</th>\n",
              "      <th>FlowBytes/s</th>\n",
              "      <th>FlowPackets/s</th>\n",
              "      <th>FlowIATMean</th>\n",
              "      <th>FwdIATMean</th>\n",
              "      <th>BwdIATMean</th>\n",
              "      <th>ActiveMean</th>\n",
              "      <th>IdleMean</th>\n",
              "    </tr>\n",
              "  </thead>\n",
              "  <tbody>\n",
              "    <tr>\n",
              "      <th>0</th>\n",
              "      <td>3.0</td>\n",
              "      <td>4.000000e+06</td>\n",
              "      <td>666666.666700</td>\n",
              "      <td>3.0</td>\n",
              "      <td>3.00000</td>\n",
              "      <td>0.0</td>\n",
              "      <td>0.0</td>\n",
              "      <td>0.0</td>\n",
              "    </tr>\n",
              "    <tr>\n",
              "      <th>1</th>\n",
              "      <td>109.0</td>\n",
              "      <td>1.100917e+05</td>\n",
              "      <td>18348.623850</td>\n",
              "      <td>109.0</td>\n",
              "      <td>0.00000</td>\n",
              "      <td>0.0</td>\n",
              "      <td>0.0</td>\n",
              "      <td>0.0</td>\n",
              "    </tr>\n",
              "    <tr>\n",
              "      <th>2</th>\n",
              "      <td>52.0</td>\n",
              "      <td>2.307692e+05</td>\n",
              "      <td>38461.538460</td>\n",
              "      <td>52.0</td>\n",
              "      <td>0.00000</td>\n",
              "      <td>0.0</td>\n",
              "      <td>0.0</td>\n",
              "      <td>0.0</td>\n",
              "    </tr>\n",
              "    <tr>\n",
              "      <th>3</th>\n",
              "      <td>34.0</td>\n",
              "      <td>3.529412e+05</td>\n",
              "      <td>58823.529410</td>\n",
              "      <td>34.0</td>\n",
              "      <td>0.00000</td>\n",
              "      <td>0.0</td>\n",
              "      <td>0.0</td>\n",
              "      <td>0.0</td>\n",
              "    </tr>\n",
              "    <tr>\n",
              "      <th>4</th>\n",
              "      <td>3.0</td>\n",
              "      <td>4.000000e+06</td>\n",
              "      <td>666666.666700</td>\n",
              "      <td>3.0</td>\n",
              "      <td>3.00000</td>\n",
              "      <td>0.0</td>\n",
              "      <td>0.0</td>\n",
              "      <td>0.0</td>\n",
              "    </tr>\n",
              "    <tr>\n",
              "      <th>...</th>\n",
              "      <td>...</td>\n",
              "      <td>...</td>\n",
              "      <td>...</td>\n",
              "      <td>...</td>\n",
              "      <td>...</td>\n",
              "      <td>...</td>\n",
              "      <td>...</td>\n",
              "      <td>...</td>\n",
              "    </tr>\n",
              "    <tr>\n",
              "      <th>2425722</th>\n",
              "      <td>32215.0</td>\n",
              "      <td>8.194940e+03</td>\n",
              "      <td>186.248642</td>\n",
              "      <td>6443.0</td>\n",
              "      <td>10277.33333</td>\n",
              "      <td>3.0</td>\n",
              "      <td>0.0</td>\n",
              "      <td>0.0</td>\n",
              "    </tr>\n",
              "    <tr>\n",
              "      <th>2425723</th>\n",
              "      <td>324.0</td>\n",
              "      <td>1.376543e+06</td>\n",
              "      <td>12345.679010</td>\n",
              "      <td>108.0</td>\n",
              "      <td>2.00000</td>\n",
              "      <td>2.0</td>\n",
              "      <td>0.0</td>\n",
              "      <td>0.0</td>\n",
              "    </tr>\n",
              "    <tr>\n",
              "      <th>2425724</th>\n",
              "      <td>82.0</td>\n",
              "      <td>4.512195e+05</td>\n",
              "      <td>36585.365850</td>\n",
              "      <td>41.0</td>\n",
              "      <td>4.00000</td>\n",
              "      <td>0.0</td>\n",
              "      <td>0.0</td>\n",
              "      <td>0.0</td>\n",
              "    </tr>\n",
              "    <tr>\n",
              "      <th>2425725</th>\n",
              "      <td>1048635.0</td>\n",
              "      <td>4.272221e+02</td>\n",
              "      <td>7.628965</td>\n",
              "      <td>149805.0</td>\n",
              "      <td>206722.60000</td>\n",
              "      <td>3.0</td>\n",
              "      <td>0.0</td>\n",
              "      <td>0.0</td>\n",
              "    </tr>\n",
              "    <tr>\n",
              "      <th>2425726</th>\n",
              "      <td>94939.0</td>\n",
              "      <td>4.360695e+03</td>\n",
              "      <td>63.198475</td>\n",
              "      <td>18987.8</td>\n",
              "      <td>24350.33333</td>\n",
              "      <td>48.0</td>\n",
              "      <td>0.0</td>\n",
              "      <td>0.0</td>\n",
              "    </tr>\n",
              "  </tbody>\n",
              "</table>\n",
              "<p>2425727 rows × 8 columns</p>\n",
              "</div>\n",
              "      <button class=\"colab-df-convert\" onclick=\"convertToInteractive('df-fafdd9c9-a0df-4375-9a96-a91211afb0f3')\"\n",
              "              title=\"Convert this dataframe to an interactive table.\"\n",
              "              style=\"display:none;\">\n",
              "        \n",
              "  <svg xmlns=\"http://www.w3.org/2000/svg\" height=\"24px\"viewBox=\"0 0 24 24\"\n",
              "       width=\"24px\">\n",
              "    <path d=\"M0 0h24v24H0V0z\" fill=\"none\"/>\n",
              "    <path d=\"M18.56 5.44l.94 2.06.94-2.06 2.06-.94-2.06-.94-.94-2.06-.94 2.06-2.06.94zm-11 1L8.5 8.5l.94-2.06 2.06-.94-2.06-.94L8.5 2.5l-.94 2.06-2.06.94zm10 10l.94 2.06.94-2.06 2.06-.94-2.06-.94-.94-2.06-.94 2.06-2.06.94z\"/><path d=\"M17.41 7.96l-1.37-1.37c-.4-.4-.92-.59-1.43-.59-.52 0-1.04.2-1.43.59L10.3 9.45l-7.72 7.72c-.78.78-.78 2.05 0 2.83L4 21.41c.39.39.9.59 1.41.59.51 0 1.02-.2 1.41-.59l7.78-7.78 2.81-2.81c.8-.78.8-2.07 0-2.86zM5.41 20L4 18.59l7.72-7.72 1.47 1.35L5.41 20z\"/>\n",
              "  </svg>\n",
              "      </button>\n",
              "      \n",
              "  <style>\n",
              "    .colab-df-container {\n",
              "      display:flex;\n",
              "      flex-wrap:wrap;\n",
              "      gap: 12px;\n",
              "    }\n",
              "\n",
              "    .colab-df-convert {\n",
              "      background-color: #E8F0FE;\n",
              "      border: none;\n",
              "      border-radius: 50%;\n",
              "      cursor: pointer;\n",
              "      display: none;\n",
              "      fill: #1967D2;\n",
              "      height: 32px;\n",
              "      padding: 0 0 0 0;\n",
              "      width: 32px;\n",
              "    }\n",
              "\n",
              "    .colab-df-convert:hover {\n",
              "      background-color: #E2EBFA;\n",
              "      box-shadow: 0px 1px 2px rgba(60, 64, 67, 0.3), 0px 1px 3px 1px rgba(60, 64, 67, 0.15);\n",
              "      fill: #174EA6;\n",
              "    }\n",
              "\n",
              "    [theme=dark] .colab-df-convert {\n",
              "      background-color: #3B4455;\n",
              "      fill: #D2E3FC;\n",
              "    }\n",
              "\n",
              "    [theme=dark] .colab-df-convert:hover {\n",
              "      background-color: #434B5C;\n",
              "      box-shadow: 0px 1px 3px 1px rgba(0, 0, 0, 0.15);\n",
              "      filter: drop-shadow(0px 1px 2px rgba(0, 0, 0, 0.3));\n",
              "      fill: #FFFFFF;\n",
              "    }\n",
              "  </style>\n",
              "\n",
              "      <script>\n",
              "        const buttonEl =\n",
              "          document.querySelector('#df-fafdd9c9-a0df-4375-9a96-a91211afb0f3 button.colab-df-convert');\n",
              "        buttonEl.style.display =\n",
              "          google.colab.kernel.accessAllowed ? 'block' : 'none';\n",
              "\n",
              "        async function convertToInteractive(key) {\n",
              "          const element = document.querySelector('#df-fafdd9c9-a0df-4375-9a96-a91211afb0f3');\n",
              "          const dataTable =\n",
              "            await google.colab.kernel.invokeFunction('convertToInteractive',\n",
              "                                                     [key], {});\n",
              "          if (!dataTable) return;\n",
              "\n",
              "          const docLinkHtml = 'Like what you see? Visit the ' +\n",
              "            '<a target=\"_blank\" href=https://colab.research.google.com/notebooks/data_table.ipynb>data table notebook</a>'\n",
              "            + ' to learn more about interactive tables.';\n",
              "          element.innerHTML = '';\n",
              "          dataTable['output_type'] = 'display_data';\n",
              "          await google.colab.output.renderOutput(dataTable, element);\n",
              "          const docLink = document.createElement('div');\n",
              "          docLink.innerHTML = docLinkHtml;\n",
              "          element.appendChild(docLink);\n",
              "        }\n",
              "      </script>\n",
              "    </div>\n",
              "  </div>\n",
              "  "
            ]
          },
          "metadata": {},
          "execution_count": 16
        }
      ]
    },
    {
      "cell_type": "code",
      "source": [
        "scaler = MinMaxScaler()\n",
        "scaler.fit(features)\n",
        "features = scaler.transform(features)"
      ],
      "metadata": {
        "id": "saTmnLHbfqwn"
      },
      "execution_count": null,
      "outputs": []
    },
    {
      "cell_type": "code",
      "source": [
        "features"
      ],
      "metadata": {
        "colab": {
          "base_uri": "https://localhost:8080/"
        },
        "id": "LWMteWnGoFCR",
        "outputId": "a76bd8f8-b4d7-4cd5-bc88-afa2c20f4ceb"
      },
      "execution_count": null,
      "outputs": [
        {
          "output_type": "execute_result",
          "data": {
            "text/plain": [
              "array([[1.33333321e-07, 1.13636364e-01, 4.44444444e-01, ...,\n",
              "        0.00000000e+00, 0.00000000e+00, 0.00000000e+00],\n",
              "       [1.01666657e-06, 1.11968307e-01, 3.36391437e-01, ...,\n",
              "        0.00000000e+00, 0.00000000e+00, 0.00000000e+00],\n",
              "       [5.41666617e-07, 1.12020055e-01, 3.39743590e-01, ...,\n",
              "        0.00000000e+00, 0.00000000e+00, 0.00000000e+00],\n",
              "       ...,\n",
              "       [7.91666594e-07, 1.12114588e-01, 3.39430894e-01, ...,\n",
              "        0.00000000e+00, 0.00000000e+00, 0.00000000e+00],\n",
              "       [8.73873253e-03, 1.11921281e-01, 3.33334605e-01, ...,\n",
              "        2.50000000e-08, 0.00000000e+00, 0.00000000e+00],\n",
              "       [7.91266594e-04, 1.11922968e-01, 3.33343866e-01, ...,\n",
              "        4.00000000e-07, 0.00000000e+00, 0.00000000e+00]])"
            ]
          },
          "metadata": {},
          "execution_count": 18
        }
      ]
    },
    {
      "cell_type": "code",
      "source": [
        "# features[0]"
      ],
      "metadata": {
        "colab": {
          "base_uri": "https://localhost:8080/"
        },
        "id": "fUf_4M0DYSE1",
        "outputId": "5002fd82-fb2c-4ba9-da8a-0a99a4836a8b"
      },
      "execution_count": null,
      "outputs": [
        {
          "output_type": "execute_result",
          "data": {
            "text/plain": [
              "array([1.33333321e-07, 1.13636364e-01, 4.44444444e-01, 1.33333319e-07,\n",
              "       2.50000000e-08, 0.00000000e+00, 0.00000000e+00, 0.00000000e+00])"
            ]
          },
          "metadata": {},
          "execution_count": 19
        }
      ]
    },
    {
      "cell_type": "code",
      "source": [
        "# 1) 8:2(test)로 나눔\n",
        "X_train, X_test, Y_train, Y_test = train_test_split(features, labels, test_size=0.2, random_state=42)\n",
        "X_train.shape, X_test.shape, Y_train.shape, Y_test.shape"
      ],
      "metadata": {
        "id": "OgaDThPqgAZp",
        "colab": {
          "base_uri": "https://localhost:8080/"
        },
        "outputId": "786dc9fa-8d7f-4632-8037-518e21ac6e8c"
      },
      "execution_count": null,
      "outputs": [
        {
          "output_type": "execute_result",
          "data": {
            "text/plain": [
              "((1940581, 8), (485146, 8), (1940581,), (485146,))"
            ]
          },
          "metadata": {},
          "execution_count": 19
        }
      ]
    },
    {
      "cell_type": "code",
      "source": [
        "# 참값만 거르는 과정 (오토인코더만 학습시킬때만 해당) # RF 학습시킬 때는 이 셀 실행 X\n",
        "normal_data = X_train[Y_train]\n",
        "X_train, X_valid = train_test_split(normal_data, test_size=0.25, random_state=42)\n",
        "X_train.shape, X_valid.shape"
      ],
      "metadata": {
        "id": "csFKXe8SFmoK",
        "colab": {
          "base_uri": "https://localhost:8080/"
        },
        "outputId": "89dd90c9-ee4e-45c5-dc5b-373b359b07fe"
      },
      "execution_count": null,
      "outputs": [
        {
          "output_type": "execute_result",
          "data": {
            "text/plain": [
              "((1221126, 8), (407043, 8))"
            ]
          },
          "metadata": {},
          "execution_count": 20
        }
      ]
    },
    {
      "cell_type": "markdown",
      "source": [
        "## Autoencoder"
      ],
      "metadata": {
        "id": "I47JpkIOkyBa"
      }
    },
    {
      "cell_type": "code",
      "source": [
        "input = Input(shape=(8,))\n",
        "\n",
        "encoder1 = Dense(4, activation='relu')(input) \n",
        "encoder2 = Dense(2, activation='relu')(encoder1)\n",
        "\n",
        "decoder1 = Dense(4, activation='relu')(encoder2)\n",
        "decoder2 = Dense(8, activation='relu')(decoder1)\n",
        "\n",
        "autoencoder = Model(inputs=input, outputs=decoder2)\n",
        "\n",
        "autoencoder.summary()"
      ],
      "metadata": {
        "id": "DH5UJ-WggfwA",
        "colab": {
          "base_uri": "https://localhost:8080/"
        },
        "outputId": "53b3bb9a-0473-408f-ddac-06aa64d7bfcf"
      },
      "execution_count": null,
      "outputs": [
        {
          "output_type": "stream",
          "name": "stdout",
          "text": [
            "Model: \"model\"\n",
            "_________________________________________________________________\n",
            " Layer (type)                Output Shape              Param #   \n",
            "=================================================================\n",
            " input_1 (InputLayer)        [(None, 8)]               0         \n",
            "                                                                 \n",
            " dense (Dense)               (None, 4)                 36        \n",
            "                                                                 \n",
            " dense_1 (Dense)             (None, 2)                 10        \n",
            "                                                                 \n",
            " dense_2 (Dense)             (None, 4)                 12        \n",
            "                                                                 \n",
            " dense_3 (Dense)             (None, 8)                 40        \n",
            "                                                                 \n",
            "=================================================================\n",
            "Total params: 98\n",
            "Trainable params: 98\n",
            "Non-trainable params: 0\n",
            "_________________________________________________________________\n"
          ]
        }
      ]
    },
    {
      "cell_type": "code",
      "source": [
        "ADAM = tf.keras.optimizers.Adam(learning_rate=0.001)\n",
        "autoencoder.compile(optimizer= ADAM , loss='mean_squared_error', metrics = ['accuracy'])"
      ],
      "metadata": {
        "id": "YHOfi9V0gmET"
      },
      "execution_count": null,
      "outputs": []
    },
    {
      "cell_type": "code",
      "source": [
        "dir_name = \"MODEL_TEST\" # 여기에 모델이랑 체크포인트 저장할 폴더 명시"
      ],
      "metadata": {
        "id": "8CgOgaONCh4a"
      },
      "execution_count": null,
      "outputs": []
    },
    {
      "cell_type": "code",
      "source": [
        "# 체크포인트 저장 경로 지정\n",
        "checkpoint_path = os.path.join(\"/content/drive/MyDrive\", dir_name + \"/autoencoder\", \"cp.ckpt\")\n",
        "checkpoint_dir = os.path.dirname(checkpoint_path)\n",
        "\n",
        "# 모델의 가중치를 저장하는 콜백 만들기\n",
        "cp_callback = tf.keras.callbacks.ModelCheckpoint(filepath=checkpoint_path,\n",
        "                                                  save_weights_only=True,\n",
        "                                                  verbose=1)"
      ],
      "metadata": {
        "id": "7On1b5dBmrKC"
      },
      "execution_count": null,
      "outputs": []
    },
    {
      "cell_type": "code",
      "source": [
        "def run():\n",
        "  with tf.device('/device:GPU:0'):\n",
        "    history = autoencoder.fit(X_train, X_train, \n",
        "              epochs=20, batch_size=256, \n",
        "              validation_data=(X_valid, X_valid),\n",
        "              callbacks=[cp_callback])\n",
        "    return history\n",
        "\n",
        "history = run()"
      ],
      "metadata": {
        "id": "3hD5WfISqOTM",
        "colab": {
          "base_uri": "https://localhost:8080/"
        },
        "outputId": "d8d53bbf-20f2-4e39-9cf7-e25279d1afb3"
      },
      "execution_count": null,
      "outputs": [
        {
          "output_type": "stream",
          "name": "stdout",
          "text": [
            "Epoch 1/20\n",
            "4770/4771 [============================>.] - ETA: 0s - loss: 0.0138 - accuracy: 0.8780\n",
            "Epoch 1: saving model to /content/drive/MyDrive/MODEL_TEST/autoencoder/cp.ckpt\n",
            "4771/4771 [==============================] - 18s 3ms/step - loss: 0.0138 - accuracy: 0.8780 - val_loss: 0.0135 - val_accuracy: 0.8791\n",
            "Epoch 2/20\n",
            "4768/4771 [============================>.] - ETA: 0s - loss: 0.0130 - accuracy: 0.8785\n",
            "Epoch 2: saving model to /content/drive/MyDrive/MODEL_TEST/autoencoder/cp.ckpt\n",
            "4771/4771 [==============================] - 14s 3ms/step - loss: 0.0130 - accuracy: 0.8785 - val_loss: 0.0129 - val_accuracy: 0.8787\n",
            "Epoch 3/20\n",
            "4751/4771 [============================>.] - ETA: 0s - loss: 0.0129 - accuracy: 0.8785\n",
            "Epoch 3: saving model to /content/drive/MyDrive/MODEL_TEST/autoencoder/cp.ckpt\n",
            "4771/4771 [==============================] - 14s 3ms/step - loss: 0.0129 - accuracy: 0.8784 - val_loss: 0.0129 - val_accuracy: 0.8785\n",
            "Epoch 4/20\n",
            "4764/4771 [============================>.] - ETA: 0s - loss: 0.0129 - accuracy: 0.8785\n",
            "Epoch 4: saving model to /content/drive/MyDrive/MODEL_TEST/autoencoder/cp.ckpt\n",
            "4771/4771 [==============================] - 14s 3ms/step - loss: 0.0129 - accuracy: 0.8784 - val_loss: 0.0129 - val_accuracy: 0.8785\n",
            "Epoch 5/20\n",
            "4769/4771 [============================>.] - ETA: 0s - loss: 0.0129 - accuracy: 0.8784\n",
            "Epoch 5: saving model to /content/drive/MyDrive/MODEL_TEST/autoencoder/cp.ckpt\n",
            "4771/4771 [==============================] - 17s 3ms/step - loss: 0.0129 - accuracy: 0.8785 - val_loss: 0.0129 - val_accuracy: 0.8786\n",
            "Epoch 6/20\n",
            "4764/4771 [============================>.] - ETA: 0s - loss: 0.0129 - accuracy: 0.8785\n",
            "Epoch 6: saving model to /content/drive/MyDrive/MODEL_TEST/autoencoder/cp.ckpt\n",
            "4771/4771 [==============================] - 15s 3ms/step - loss: 0.0129 - accuracy: 0.8784 - val_loss: 0.0129 - val_accuracy: 0.8786\n",
            "Epoch 7/20\n",
            "4760/4771 [============================>.] - ETA: 0s - loss: 0.0129 - accuracy: 0.8785\n",
            "Epoch 7: saving model to /content/drive/MyDrive/MODEL_TEST/autoencoder/cp.ckpt\n",
            "4771/4771 [==============================] - 14s 3ms/step - loss: 0.0129 - accuracy: 0.8784 - val_loss: 0.0129 - val_accuracy: 0.8785\n",
            "Epoch 8/20\n",
            "4765/4771 [============================>.] - ETA: 0s - loss: 0.0129 - accuracy: 0.8784\n",
            "Epoch 8: saving model to /content/drive/MyDrive/MODEL_TEST/autoencoder/cp.ckpt\n",
            "4771/4771 [==============================] - 13s 3ms/step - loss: 0.0129 - accuracy: 0.8784 - val_loss: 0.0129 - val_accuracy: 0.8786\n",
            "Epoch 9/20\n",
            "4762/4771 [============================>.] - ETA: 0s - loss: 0.0129 - accuracy: 0.8784\n",
            "Epoch 9: saving model to /content/drive/MyDrive/MODEL_TEST/autoencoder/cp.ckpt\n",
            "4771/4771 [==============================] - 13s 3ms/step - loss: 0.0129 - accuracy: 0.8784 - val_loss: 0.0129 - val_accuracy: 0.8785\n",
            "Epoch 10/20\n",
            "4758/4771 [============================>.] - ETA: 0s - loss: 0.0129 - accuracy: 0.8784\n",
            "Epoch 10: saving model to /content/drive/MyDrive/MODEL_TEST/autoencoder/cp.ckpt\n",
            "4771/4771 [==============================] - 13s 3ms/step - loss: 0.0129 - accuracy: 0.8784 - val_loss: 0.0129 - val_accuracy: 0.8788\n",
            "Epoch 11/20\n",
            "4771/4771 [==============================] - ETA: 0s - loss: 0.0128 - accuracy: 0.8787\n",
            "Epoch 11: saving model to /content/drive/MyDrive/MODEL_TEST/autoencoder/cp.ckpt\n",
            "4771/4771 [==============================] - 14s 3ms/step - loss: 0.0128 - accuracy: 0.8787 - val_loss: 0.0126 - val_accuracy: 0.8792\n",
            "Epoch 12/20\n",
            "4760/4771 [============================>.] - ETA: 0s - loss: 0.0126 - accuracy: 0.8793\n",
            "Epoch 12: saving model to /content/drive/MyDrive/MODEL_TEST/autoencoder/cp.ckpt\n",
            "4771/4771 [==============================] - 13s 3ms/step - loss: 0.0126 - accuracy: 0.8793 - val_loss: 0.0126 - val_accuracy: 0.8802\n",
            "Epoch 13/20\n",
            "4768/4771 [============================>.] - ETA: 0s - loss: 0.0126 - accuracy: 0.8793\n",
            "Epoch 13: saving model to /content/drive/MyDrive/MODEL_TEST/autoencoder/cp.ckpt\n",
            "4771/4771 [==============================] - 14s 3ms/step - loss: 0.0126 - accuracy: 0.8793 - val_loss: 0.0126 - val_accuracy: 0.8802\n",
            "Epoch 14/20\n",
            "4756/4771 [============================>.] - ETA: 0s - loss: 0.0126 - accuracy: 0.8793\n",
            "Epoch 14: saving model to /content/drive/MyDrive/MODEL_TEST/autoencoder/cp.ckpt\n",
            "4771/4771 [==============================] - 14s 3ms/step - loss: 0.0126 - accuracy: 0.8793 - val_loss: 0.0126 - val_accuracy: 0.8792\n",
            "Epoch 15/20\n",
            "4762/4771 [============================>.] - ETA: 0s - loss: 0.0126 - accuracy: 0.8793\n",
            "Epoch 15: saving model to /content/drive/MyDrive/MODEL_TEST/autoencoder/cp.ckpt\n",
            "4771/4771 [==============================] - 13s 3ms/step - loss: 0.0126 - accuracy: 0.8793 - val_loss: 0.0126 - val_accuracy: 0.8806\n",
            "Epoch 16/20\n",
            "4765/4771 [============================>.] - ETA: 0s - loss: 0.0126 - accuracy: 0.8793\n",
            "Epoch 16: saving model to /content/drive/MyDrive/MODEL_TEST/autoencoder/cp.ckpt\n",
            "4771/4771 [==============================] - 13s 3ms/step - loss: 0.0126 - accuracy: 0.8793 - val_loss: 0.0126 - val_accuracy: 0.8792\n",
            "Epoch 17/20\n",
            "4759/4771 [============================>.] - ETA: 0s - loss: 0.0126 - accuracy: 0.8793\n",
            "Epoch 17: saving model to /content/drive/MyDrive/MODEL_TEST/autoencoder/cp.ckpt\n",
            "4771/4771 [==============================] - 14s 3ms/step - loss: 0.0126 - accuracy: 0.8793 - val_loss: 0.0126 - val_accuracy: 0.8790\n",
            "Epoch 18/20\n",
            "4763/4771 [============================>.] - ETA: 0s - loss: 0.0126 - accuracy: 0.8793\n",
            "Epoch 18: saving model to /content/drive/MyDrive/MODEL_TEST/autoencoder/cp.ckpt\n",
            "4771/4771 [==============================] - 13s 3ms/step - loss: 0.0126 - accuracy: 0.8793 - val_loss: 0.0126 - val_accuracy: 0.8804\n",
            "Epoch 19/20\n",
            "4766/4771 [============================>.] - ETA: 0s - loss: 0.0126 - accuracy: 0.8793\n",
            "Epoch 19: saving model to /content/drive/MyDrive/MODEL_TEST/autoencoder/cp.ckpt\n",
            "4771/4771 [==============================] - 14s 3ms/step - loss: 0.0126 - accuracy: 0.8793 - val_loss: 0.0126 - val_accuracy: 0.8792\n",
            "Epoch 20/20\n",
            "4750/4771 [============================>.] - ETA: 0s - loss: 0.0126 - accuracy: 0.8793\n",
            "Epoch 20: saving model to /content/drive/MyDrive/MODEL_TEST/autoencoder/cp.ckpt\n",
            "4771/4771 [==============================] - 14s 3ms/step - loss: 0.0126 - accuracy: 0.8793 - val_loss: 0.0126 - val_accuracy: 0.8792\n"
          ]
        }
      ]
    },
    {
      "cell_type": "code",
      "source": [
        "model_path = os.path.join(\"/content/drive/MyDrive\", dir_name, \"autoencoder.h5\")\n",
        "autoencoder.save(model_path)"
      ],
      "metadata": {
        "id": "QflxnPkn5E6a"
      },
      "execution_count": null,
      "outputs": []
    },
    {
      "cell_type": "code",
      "source": [
        "%matplotlib inline\n",
        "import matplotlib.pyplot as plt\n",
        "\n",
        "fig, loss_ax = plt.subplots()\n",
        "acc_ax = loss_ax.twinx()\n",
        "\n",
        "loss_ax.plot(history.history['loss'], 'y', label = 'train loss')\n",
        "loss_ax.plot(history.history['val_loss'], 'r', label = 'val loss')\n",
        "acc_ax.plot(history.history['accuracy'], 'b', label = 'train accuracy')\n",
        "acc_ax.plot(history.history['val_accuracy'], 'g', label = 'val accuracy')\n",
        "\n",
        "loss_ax.set_xlabel('epoch')\n",
        "loss_ax.set_ylabel('loss')\n",
        "acc_ax.set_xlabel('accuracy')\n",
        "\n",
        "loss_ax.legend(loc = 'upper left')\n",
        "acc_ax.legend(loc = 'lower left')\n",
        "\n",
        "plt.show()\n"
      ],
      "metadata": {
        "id": "ia_fnLPe4Uj6",
        "colab": {
          "base_uri": "https://localhost:8080/",
          "height": 279
        },
        "outputId": "95a7d9cf-7216-42ee-f804-62541a85ba5a"
      },
      "execution_count": null,
      "outputs": [
        {
          "output_type": "display_data",
          "data": {
            "text/plain": [
              "<Figure size 432x288 with 2 Axes>"
            ],
            "image/png": "[encoded data removed]"
          },
          "metadata": {
            "needs_background": "light"
          }
        }
      ]
    },
    {
      "cell_type": "code",
      "source": [
        "reconstruction = autoencoder.predict(X_train)\n",
        "#train_loss = tf.keras.losses.mae(reconstruction, X_train)"
      ],
      "metadata": {
        "id": "JQLhc5yFTFYP"
      },
      "execution_count": null,
      "outputs": []
    },
    {
      "cell_type": "code",
      "source": [
        "train_loss = np.mean(np.power(X_train - reconstruction, 2), axis = 1)"
      ],
      "metadata": {
        "id": "961dvfst-z1M"
      },
      "execution_count": null,
      "outputs": []
    },
    {
      "cell_type": "code",
      "source": [
        "#threshold = np.mean(train_loss) + np.std(train_loss) # train 데이터(참 값만 있음) 학습 시켰을 때의 reconstruction error 평균, 표준편차의 합으로 임계치 정함 # 최적 임계치 찾는 과정 필요할 듯"
      ],
      "metadata": {
        "id": "7ZgbLazkTNcw"
      },
      "execution_count": null,
      "outputs": []
    },
    {
      "cell_type": "code",
      "source": [
        "threshold = 0.018"
      ],
      "metadata": {
        "id": "xG4pHV-aTtl2"
      },
      "execution_count": null,
      "outputs": []
    },
    {
      "cell_type": "markdown",
      "source": [
        "테스트 데이터셋에 적용해보는 과정"
      ],
      "metadata": {
        "id": "eQpV-Notmr3t"
      }
    },
    {
      "cell_type": "code",
      "source": [
        "predicted = autoencoder.predict(X_test)"
      ],
      "metadata": {
        "id": "O8nuTnW6-7-T"
      },
      "execution_count": null,
      "outputs": []
    },
    {
      "cell_type": "code",
      "source": [
        "predicted"
      ],
      "metadata": {
        "colab": {
          "base_uri": "https://localhost:8080/"
        },
        "id": "60308mTuSwMO",
        "outputId": "5e7d17e7-6382-4d6e-a8ce-68cde0ce636e"
      },
      "execution_count": null,
      "outputs": [
        {
          "output_type": "execute_result",
          "data": {
            "text/plain": [
              "array([[0.        , 0.        , 0.33751214, ..., 0.        , 0.        ,\n",
              "        0.        ],\n",
              "       [0.        , 0.        , 0.33536163, ..., 0.        , 0.        ,\n",
              "        0.        ],\n",
              "       [0.        , 0.        , 0.37399736, ..., 0.        , 0.        ,\n",
              "        0.05601525],\n",
              "       ...,\n",
              "       [0.        , 0.        , 0.33304814, ..., 0.        , 0.        ,\n",
              "        0.        ],\n",
              "       [0.        , 0.        , 0.3693047 , ..., 0.        , 0.        ,\n",
              "        0.0949879 ],\n",
              "       [0.        , 0.        , 0.2600736 , ..., 0.        , 0.        ,\n",
              "        1.0045276 ]], dtype=float32)"
            ]
          },
          "metadata": {},
          "execution_count": 123
        }
      ]
    },
    {
      "cell_type": "code",
      "source": [
        "mse = np.mean(np.power(X_test - predicted, 2), axis = 1)"
      ],
      "metadata": {
        "id": "Aa1DBxca-kqe"
      },
      "execution_count": null,
      "outputs": []
    },
    {
      "cell_type": "code",
      "source": [
        "#loss = tf.keras.losses.mae(predicted, X_test)"
      ],
      "metadata": {
        "id": "M2ofPqMaSoqp"
      },
      "execution_count": null,
      "outputs": []
    },
    {
      "cell_type": "code",
      "source": [
        "# threshold 보다 작으면 True, 크면 False 인 배열이 나옴 -> 실제 라벨과 비교하여 성능 측정하게 됨\n",
        "predicted_label = tf.math.less(mse, threshold)"
      ],
      "metadata": {
        "id": "0kfabQH_UK_q"
      },
      "execution_count": null,
      "outputs": []
    },
    {
      "cell_type": "code",
      "source": [
        "predicted_label"
      ],
      "metadata": {
        "colab": {
          "base_uri": "https://localhost:8080/"
        },
        "id": "JKPo8pKjUQcg",
        "outputId": "5eb44062-496c-41e7-e0ae-033f9e2bbe45"
      },
      "execution_count": null,
      "outputs": [
        {
          "output_type": "execute_result",
          "data": {
            "text/plain": [
              "<tf.Tensor: shape=(485146,), dtype=bool, numpy=array([ True,  True,  True, ...,  True,  True, False])>"
            ]
          },
          "metadata": {},
          "execution_count": 126
        }
      ]
    },
    {
      "cell_type": "code",
      "source": [
        "accuracy = accuracy_score(Y_test, predicted_label)\n",
        "precision = precision_score(Y_test, predicted_label)\n",
        "recall = recall_score(Y_test, predicted_label)\n",
        "f1 = f1_score(Y_test, predicted_label)\n",
        "accuracy, precision, recall, f1"
      ],
      "metadata": {
        "colab": {
          "base_uri": "https://localhost:8080/"
        },
        "id": "6pdXNfltUUod",
        "outputId": "55073c94-2ec6-44ae-d161-cc006c07f2cd"
      },
      "execution_count": null,
      "outputs": [
        {
          "output_type": "execute_result",
          "data": {
            "text/plain": [
              "(0.8069096725521802, 0.891296049102409, 0.8769836204018304, 0.8840819124622123)"
            ]
          },
          "metadata": {},
          "execution_count": 127
        }
      ]
    },
    {
      "cell_type": "markdown",
      "source": [
        "# CICIDS 2018, 모델 불러와서 테스트\n"
      ],
      "metadata": {
        "id": "Y2SFFWLCVfwk"
      }
    },
    {
      "cell_type": "code",
      "source": [
        "test_dataset = pd.read_csv(\"/content/drive/MyDrive/CICIDS2018/Thursday-01-03-2018_TrafficForML_CICFlowMeter.csv\") # 요일마다 다른 공격?이 있는 거 같긴 한데 일단 제일 작은 dataset 고름"
      ],
      "metadata": {
        "id": "1rYgi-e4Vipj",
        "colab": {
          "base_uri": "https://localhost:8080/"
        },
        "outputId": "74a1b0a7-ebe2-46ff-a032-f0aed2d86d00"
      },
      "execution_count": null,
      "outputs": [
        {
          "output_type": "stream",
          "name": "stderr",
          "text": [
            "/usr/local/lib/python3.7/dist-packages/IPython/core/interactiveshell.py:2882: DtypeWarning: Columns (0,1,3,4,5,6,7,8,9,10,11,12,13,14,15,16,17,18,19,20,21,22,23,24,25,26,27,28,29,30,31,32,33,34,35,36,37,38,39,40,41,42,43,44,45,46,47,48,49,50,51,52,53,54,55,56,57,58,59,60,61,62,63,64,65,66,67,68,69,70,71,72,73,74,75,76,77,78) have mixed types.Specify dtype option on import or set low_memory=False.\n",
            "  exec(code_obj, self.user_global_ns, self.user_ns)\n"
          ]
        }
      ]
    },
    {
      "cell_type": "code",
      "source": [
        "test_dataset"
      ],
      "metadata": {
        "id": "X4xudmU-V134",
        "colab": {
          "base_uri": "https://localhost:8080/",
          "height": 886
        },
        "outputId": "2b82160a-8b83-49a8-ec2f-87cd4468bc2f"
      },
      "execution_count": null,
      "outputs": [
        {
          "output_type": "execute_result",
          "data": {
            "text/plain": [
              "        Dst Port  Protocol            Timestamp  Flow Duration  Tot Fwd Pkts  \\\n",
              "0              0         0  01/03/2018 08:17:11      115307855             5   \n",
              "1              0         0  01/03/2018 08:20:07       60997457             2   \n",
              "2             67        17  01/03/2018 08:17:18       61149019             5   \n",
              "3              0         0  01/03/2018 08:22:09       60997555             2   \n",
              "4              0         0  01/03/2018 08:24:11       61997503             3   \n",
              "...          ...       ...                  ...            ...           ...   \n",
              "331120  Dst Port  Protocol            Timestamp  Flow Duration  Tot Fwd Pkts   \n",
              "331121  Dst Port  Protocol            Timestamp  Flow Duration  Tot Fwd Pkts   \n",
              "331122  Dst Port  Protocol            Timestamp  Flow Duration  Tot Fwd Pkts   \n",
              "331123  Dst Port  Protocol            Timestamp  Flow Duration  Tot Fwd Pkts   \n",
              "331124  Dst Port  Protocol            Timestamp  Flow Duration  Tot Fwd Pkts   \n",
              "\n",
              "        Tot Bwd Pkts  TotLen Fwd Pkts  TotLen Bwd Pkts  Fwd Pkt Len Max  \\\n",
              "0                  0                0                0                0   \n",
              "1                  0                0                0                0   \n",
              "2                  0             1500                0              300   \n",
              "3                  0                0                0                0   \n",
              "4                  0                0                0                0   \n",
              "...              ...              ...              ...              ...   \n",
              "331120  Tot Bwd Pkts  TotLen Fwd Pkts  TotLen Bwd Pkts  Fwd Pkt Len Max   \n",
              "331121  Tot Bwd Pkts  TotLen Fwd Pkts  TotLen Bwd Pkts  Fwd Pkt Len Max   \n",
              "331122  Tot Bwd Pkts  TotLen Fwd Pkts  TotLen Bwd Pkts  Fwd Pkt Len Max   \n",
              "331123  Tot Bwd Pkts  TotLen Fwd Pkts  TotLen Bwd Pkts  Fwd Pkt Len Max   \n",
              "331124  Tot Bwd Pkts  TotLen Fwd Pkts  TotLen Bwd Pkts  Fwd Pkt Len Max   \n",
              "\n",
              "        Fwd Pkt Len Min  ...  Fwd Seg Size Min  Active Mean  Active Std  \\\n",
              "0                     0  ...                 0      1812348           0   \n",
              "1                     0  ...                 0            0           0   \n",
              "2                   300  ...                 8      3530939           0   \n",
              "3                     0  ...                 0            0           0   \n",
              "4                     0  ...                 0       999909           0   \n",
              "...                 ...  ...               ...          ...         ...   \n",
              "331120  Fwd Pkt Len Min  ...  Fwd Seg Size Min  Active Mean  Active Std   \n",
              "331121  Fwd Pkt Len Min  ...  Fwd Seg Size Min  Active Mean  Active Std   \n",
              "331122  Fwd Pkt Len Min  ...  Fwd Seg Size Min  Active Mean  Active Std   \n",
              "331123  Fwd Pkt Len Min  ...  Fwd Seg Size Min  Active Mean  Active Std   \n",
              "331124  Fwd Pkt Len Min  ...  Fwd Seg Size Min  Active Mean  Active Std   \n",
              "\n",
              "        Active Max  Active Min  Idle Mean     Idle Std  Idle Max  Idle Min  \\\n",
              "0          1812348     1812348   56700000  6010057.622  61000000  52500000   \n",
              "1                0           0   61000000            0  61000000  61000000   \n",
              "2          3530939     3530939   19200000     12500000  32600000   7999725   \n",
              "3                0           0   61000000            0  61000000  61000000   \n",
              "4           999909      999909   61000000            0  61000000  61000000   \n",
              "...            ...         ...        ...          ...       ...       ...   \n",
              "331120  Active Max  Active Min  Idle Mean     Idle Std  Idle Max  Idle Min   \n",
              "331121  Active Max  Active Min  Idle Mean     Idle Std  Idle Max  Idle Min   \n",
              "331122  Active Max  Active Min  Idle Mean     Idle Std  Idle Max  Idle Min   \n",
              "331123  Active Max  Active Min  Idle Mean     Idle Std  Idle Max  Idle Min   \n",
              "331124  Active Max  Active Min  Idle Mean     Idle Std  Idle Max  Idle Min   \n",
              "\n",
              "         Label  \n",
              "0       Benign  \n",
              "1       Benign  \n",
              "2       Benign  \n",
              "3       Benign  \n",
              "4       Benign  \n",
              "...        ...  \n",
              "331120   Label  \n",
              "331121   Label  \n",
              "331122   Label  \n",
              "331123   Label  \n",
              "331124   Label  \n",
              "\n",
              "[331125 rows x 80 columns]"
            ],
            "text/html": [
              "\n",
              "  <div id=\"df-3a13b92f-adda-47a4-a2da-66503b19518b\">\n",
              "    <div class=\"colab-df-container\">\n",
              "      <div>\n",
              "<style scoped>\n",
              "    .dataframe tbody tr th:only-of-type {\n",
              "        vertical-align: middle;\n",
              "    }\n",
              "\n",
              "    .dataframe tbody tr th {\n",
              "        vertical-align: top;\n",
              "    }\n",
              "\n",
              "    .dataframe thead th {\n",
              "        text-align: right;\n",
              "    }\n",
              "</style>\n",
              "<table border=\"1\" class=\"dataframe\">\n",
              "  <thead>\n",
              "    <tr style=\"text-align: right;\">\n",
              "      <th></th>\n",
              "      <th>Dst Port</th>\n",
              "      <th>Protocol</th>\n",
              "      <th>Timestamp</th>\n",
              "      <th>Flow Duration</th>\n",
              "      <th>Tot Fwd Pkts</th>\n",
              "      <th>Tot Bwd Pkts</th>\n",
              "      <th>TotLen Fwd Pkts</th>\n",
              "      <th>TotLen Bwd Pkts</th>\n",
              "      <th>Fwd Pkt Len Max</th>\n",
              "      <th>Fwd Pkt Len Min</th>\n",
              "      <th>...</th>\n",
              "      <th>Fwd Seg Size Min</th>\n",
              "      <th>Active Mean</th>\n",
              "      <th>Active Std</th>\n",
              "      <th>Active Max</th>\n",
              "      <th>Active Min</th>\n",
              "      <th>Idle Mean</th>\n",
              "      <th>Idle Std</th>\n",
              "      <th>Idle Max</th>\n",
              "      <th>Idle Min</th>\n",
              "      <th>Label</th>\n",
              "    </tr>\n",
              "  </thead>\n",
              "  <tbody>\n",
              "    <tr>\n",
              "      <th>0</th>\n",
              "      <td>0</td>\n",
              "      <td>0</td>\n",
              "      <td>01/03/2018 08:17:11</td>\n",
              "      <td>115307855</td>\n",
              "      <td>5</td>\n",
              "      <td>0</td>\n",
              "      <td>0</td>\n",
              "      <td>0</td>\n",
              "      <td>0</td>\n",
              "      <td>0</td>\n",
              "      <td>...</td>\n",
              "      <td>0</td>\n",
              "      <td>1812348</td>\n",
              "      <td>0</td>\n",
              "      <td>1812348</td>\n",
              "      <td>1812348</td>\n",
              "      <td>56700000</td>\n",
              "      <td>6010057.622</td>\n",
              "      <td>61000000</td>\n",
              "      <td>52500000</td>\n",
              "      <td>Benign</td>\n",
              "    </tr>\n",
              "    <tr>\n",
              "      <th>1</th>\n",
              "      <td>0</td>\n",
              "      <td>0</td>\n",
              "      <td>01/03/2018 08:20:07</td>\n",
              "      <td>60997457</td>\n",
              "      <td>2</td>\n",
              "      <td>0</td>\n",
              "      <td>0</td>\n",
              "      <td>0</td>\n",
              "      <td>0</td>\n",
              "      <td>0</td>\n",
              "      <td>...</td>\n",
              "      <td>0</td>\n",
              "      <td>0</td>\n",
              "      <td>0</td>\n",
              "      <td>0</td>\n",
              "      <td>0</td>\n",
              "      <td>61000000</td>\n",
              "      <td>0</td>\n",
              "      <td>61000000</td>\n",
              "      <td>61000000</td>\n",
              "      <td>Benign</td>\n",
              "    </tr>\n",
              "    <tr>\n",
              "      <th>2</th>\n",
              "      <td>67</td>\n",
              "      <td>17</td>\n",
              "      <td>01/03/2018 08:17:18</td>\n",
              "      <td>61149019</td>\n",
              "      <td>5</td>\n",
              "      <td>0</td>\n",
              "      <td>1500</td>\n",
              "      <td>0</td>\n",
              "      <td>300</td>\n",
              "      <td>300</td>\n",
              "      <td>...</td>\n",
              "      <td>8</td>\n",
              "      <td>3530939</td>\n",
              "      <td>0</td>\n",
              "      <td>3530939</td>\n",
              "      <td>3530939</td>\n",
              "      <td>19200000</td>\n",
              "      <td>12500000</td>\n",
              "      <td>32600000</td>\n",
              "      <td>7999725</td>\n",
              "      <td>Benign</td>\n",
              "    </tr>\n",
              "    <tr>\n",
              "      <th>3</th>\n",
              "      <td>0</td>\n",
              "      <td>0</td>\n",
              "      <td>01/03/2018 08:22:09</td>\n",
              "      <td>60997555</td>\n",
              "      <td>2</td>\n",
              "      <td>0</td>\n",
              "      <td>0</td>\n",
              "      <td>0</td>\n",
              "      <td>0</td>\n",
              "      <td>0</td>\n",
              "      <td>...</td>\n",
              "      <td>0</td>\n",
              "      <td>0</td>\n",
              "      <td>0</td>\n",
              "      <td>0</td>\n",
              "      <td>0</td>\n",
              "      <td>61000000</td>\n",
              "      <td>0</td>\n",
              "      <td>61000000</td>\n",
              "      <td>61000000</td>\n",
              "      <td>Benign</td>\n",
              "    </tr>\n",
              "    <tr>\n",
              "      <th>4</th>\n",
              "      <td>0</td>\n",
              "      <td>0</td>\n",
              "      <td>01/03/2018 08:24:11</td>\n",
              "      <td>61997503</td>\n",
              "      <td>3</td>\n",
              "      <td>0</td>\n",
              "      <td>0</td>\n",
              "      <td>0</td>\n",
              "      <td>0</td>\n",
              "      <td>0</td>\n",
              "      <td>...</td>\n",
              "      <td>0</td>\n",
              "      <td>999909</td>\n",
              "      <td>0</td>\n",
              "      <td>999909</td>\n",
              "      <td>999909</td>\n",
              "      <td>61000000</td>\n",
              "      <td>0</td>\n",
              "      <td>61000000</td>\n",
              "      <td>61000000</td>\n",
              "      <td>Benign</td>\n",
              "    </tr>\n",
              "    <tr>\n",
              "      <th>...</th>\n",
              "      <td>...</td>\n",
              "      <td>...</td>\n",
              "      <td>...</td>\n",
              "      <td>...</td>\n",
              "      <td>...</td>\n",
              "      <td>...</td>\n",
              "      <td>...</td>\n",
              "      <td>...</td>\n",
              "      <td>...</td>\n",
              "      <td>...</td>\n",
              "      <td>...</td>\n",
              "      <td>...</td>\n",
              "      <td>...</td>\n",
              "      <td>...</td>\n",
              "      <td>...</td>\n",
              "      <td>...</td>\n",
              "      <td>...</td>\n",
              "      <td>...</td>\n",
              "      <td>...</td>\n",
              "      <td>...</td>\n",
              "      <td>...</td>\n",
              "    </tr>\n",
              "    <tr>\n",
              "      <th>331120</th>\n",
              "      <td>Dst Port</td>\n",
              "      <td>Protocol</td>\n",
              "      <td>Timestamp</td>\n",
              "      <td>Flow Duration</td>\n",
              "      <td>Tot Fwd Pkts</td>\n",
              "      <td>Tot Bwd Pkts</td>\n",
              "      <td>TotLen Fwd Pkts</td>\n",
              "      <td>TotLen Bwd Pkts</td>\n",
              "      <td>Fwd Pkt Len Max</td>\n",
              "      <td>Fwd Pkt Len Min</td>\n",
              "      <td>...</td>\n",
              "      <td>Fwd Seg Size Min</td>\n",
              "      <td>Active Mean</td>\n",
              "      <td>Active Std</td>\n",
              "      <td>Active Max</td>\n",
              "      <td>Active Min</td>\n",
              "      <td>Idle Mean</td>\n",
              "      <td>Idle Std</td>\n",
              "      <td>Idle Max</td>\n",
              "      <td>Idle Min</td>\n",
              "      <td>Label</td>\n",
              "    </tr>\n",
              "    <tr>\n",
              "      <th>331121</th>\n",
              "      <td>Dst Port</td>\n",
              "      <td>Protocol</td>\n",
              "      <td>Timestamp</td>\n",
              "      <td>Flow Duration</td>\n",
              "      <td>Tot Fwd Pkts</td>\n",
              "      <td>Tot Bwd Pkts</td>\n",
              "      <td>TotLen Fwd Pkts</td>\n",
              "      <td>TotLen Bwd Pkts</td>\n",
              "      <td>Fwd Pkt Len Max</td>\n",
              "      <td>Fwd Pkt Len Min</td>\n",
              "      <td>...</td>\n",
              "      <td>Fwd Seg Size Min</td>\n",
              "      <td>Active Mean</td>\n",
              "      <td>Active Std</td>\n",
              "      <td>Active Max</td>\n",
              "      <td>Active Min</td>\n",
              "      <td>Idle Mean</td>\n",
              "      <td>Idle Std</td>\n",
              "      <td>Idle Max</td>\n",
              "      <td>Idle Min</td>\n",
              "      <td>Label</td>\n",
              "    </tr>\n",
              "    <tr>\n",
              "      <th>331122</th>\n",
              "      <td>Dst Port</td>\n",
              "      <td>Protocol</td>\n",
              "      <td>Timestamp</td>\n",
              "      <td>Flow Duration</td>\n",
              "      <td>Tot Fwd Pkts</td>\n",
              "      <td>Tot Bwd Pkts</td>\n",
              "      <td>TotLen Fwd Pkts</td>\n",
              "      <td>TotLen Bwd Pkts</td>\n",
              "      <td>Fwd Pkt Len Max</td>\n",
              "      <td>Fwd Pkt Len Min</td>\n",
              "      <td>...</td>\n",
              "      <td>Fwd Seg Size Min</td>\n",
              "      <td>Active Mean</td>\n",
              "      <td>Active Std</td>\n",
              "      <td>Active Max</td>\n",
              "      <td>Active Min</td>\n",
              "      <td>Idle Mean</td>\n",
              "      <td>Idle Std</td>\n",
              "      <td>Idle Max</td>\n",
              "      <td>Idle Min</td>\n",
              "      <td>Label</td>\n",
              "    </tr>\n",
              "    <tr>\n",
              "      <th>331123</th>\n",
              "      <td>Dst Port</td>\n",
              "      <td>Protocol</td>\n",
              "      <td>Timestamp</td>\n",
              "      <td>Flow Duration</td>\n",
              "      <td>Tot Fwd Pkts</td>\n",
              "      <td>Tot Bwd Pkts</td>\n",
              "      <td>TotLen Fwd Pkts</td>\n",
              "      <td>TotLen Bwd Pkts</td>\n",
              "      <td>Fwd Pkt Len Max</td>\n",
              "      <td>Fwd Pkt Len Min</td>\n",
              "      <td>...</td>\n",
              "      <td>Fwd Seg Size Min</td>\n",
              "      <td>Active Mean</td>\n",
              "      <td>Active Std</td>\n",
              "      <td>Active Max</td>\n",
              "      <td>Active Min</td>\n",
              "      <td>Idle Mean</td>\n",
              "      <td>Idle Std</td>\n",
              "      <td>Idle Max</td>\n",
              "      <td>Idle Min</td>\n",
              "      <td>Label</td>\n",
              "    </tr>\n",
              "    <tr>\n",
              "      <th>331124</th>\n",
              "      <td>Dst Port</td>\n",
              "      <td>Protocol</td>\n",
              "      <td>Timestamp</td>\n",
              "      <td>Flow Duration</td>\n",
              "      <td>Tot Fwd Pkts</td>\n",
              "      <td>Tot Bwd Pkts</td>\n",
              "      <td>TotLen Fwd Pkts</td>\n",
              "      <td>TotLen Bwd Pkts</td>\n",
              "      <td>Fwd Pkt Len Max</td>\n",
              "      <td>Fwd Pkt Len Min</td>\n",
              "      <td>...</td>\n",
              "      <td>Fwd Seg Size Min</td>\n",
              "      <td>Active Mean</td>\n",
              "      <td>Active Std</td>\n",
              "      <td>Active Max</td>\n",
              "      <td>Active Min</td>\n",
              "      <td>Idle Mean</td>\n",
              "      <td>Idle Std</td>\n",
              "      <td>Idle Max</td>\n",
              "      <td>Idle Min</td>\n",
              "      <td>Label</td>\n",
              "    </tr>\n",
              "  </tbody>\n",
              "</table>\n",
              "<p>331125 rows × 80 columns</p>\n",
              "</div>\n",
              "      <button class=\"colab-df-convert\" onclick=\"convertToInteractive('df-3a13b92f-adda-47a4-a2da-66503b19518b')\"\n",
              "              title=\"Convert this dataframe to an interactive table.\"\n",
              "              style=\"display:none;\">\n",
              "        \n",
              "  <svg xmlns=\"http://www.w3.org/2000/svg\" height=\"24px\"viewBox=\"0 0 24 24\"\n",
              "       width=\"24px\">\n",
              "    <path d=\"M0 0h24v24H0V0z\" fill=\"none\"/>\n",
              "    <path d=\"M18.56 5.44l.94 2.06.94-2.06 2.06-.94-2.06-.94-.94-2.06-.94 2.06-2.06.94zm-11 1L8.5 8.5l.94-2.06 2.06-.94-2.06-.94L8.5 2.5l-.94 2.06-2.06.94zm10 10l.94 2.06.94-2.06 2.06-.94-2.06-.94-.94-2.06-.94 2.06-2.06.94z\"/><path d=\"M17.41 7.96l-1.37-1.37c-.4-.4-.92-.59-1.43-.59-.52 0-1.04.2-1.43.59L10.3 9.45l-7.72 7.72c-.78.78-.78 2.05 0 2.83L4 21.41c.39.39.9.59 1.41.59.51 0 1.02-.2 1.41-.59l7.78-7.78 2.81-2.81c.8-.78.8-2.07 0-2.86zM5.41 20L4 18.59l7.72-7.72 1.47 1.35L5.41 20z\"/>\n",
              "  </svg>\n",
              "      </button>\n",
              "      \n",
              "  <style>\n",
              "    .colab-df-container {\n",
              "      display:flex;\n",
              "      flex-wrap:wrap;\n",
              "      gap: 12px;\n",
              "    }\n",
              "\n",
              "    .colab-df-convert {\n",
              "      background-color: #E8F0FE;\n",
              "      border: none;\n",
              "      border-radius: 50%;\n",
              "      cursor: pointer;\n",
              "      display: none;\n",
              "      fill: #1967D2;\n",
              "      height: 32px;\n",
              "      padding: 0 0 0 0;\n",
              "      width: 32px;\n",
              "    }\n",
              "\n",
              "    .colab-df-convert:hover {\n",
              "      background-color: #E2EBFA;\n",
              "      box-shadow: 0px 1px 2px rgba(60, 64, 67, 0.3), 0px 1px 3px 1px rgba(60, 64, 67, 0.15);\n",
              "      fill: #174EA6;\n",
              "    }\n",
              "\n",
              "    [theme=dark] .colab-df-convert {\n",
              "      background-color: #3B4455;\n",
              "      fill: #D2E3FC;\n",
              "    }\n",
              "\n",
              "    [theme=dark] .colab-df-convert:hover {\n",
              "      background-color: #434B5C;\n",
              "      box-shadow: 0px 1px 3px 1px rgba(0, 0, 0, 0.15);\n",
              "      filter: drop-shadow(0px 1px 2px rgba(0, 0, 0, 0.3));\n",
              "      fill: #FFFFFF;\n",
              "    }\n",
              "  </style>\n",
              "\n",
              "      <script>\n",
              "        const buttonEl =\n",
              "          document.querySelector('#df-3a13b92f-adda-47a4-a2da-66503b19518b button.colab-df-convert');\n",
              "        buttonEl.style.display =\n",
              "          google.colab.kernel.accessAllowed ? 'block' : 'none';\n",
              "\n",
              "        async function convertToInteractive(key) {\n",
              "          const element = document.querySelector('#df-3a13b92f-adda-47a4-a2da-66503b19518b');\n",
              "          const dataTable =\n",
              "            await google.colab.kernel.invokeFunction('convertToInteractive',\n",
              "                                                     [key], {});\n",
              "          if (!dataTable) return;\n",
              "\n",
              "          const docLinkHtml = 'Like what you see? Visit the ' +\n",
              "            '<a target=\"_blank\" href=https://colab.research.google.com/notebooks/data_table.ipynb>data table notebook</a>'\n",
              "            + ' to learn more about interactive tables.';\n",
              "          element.innerHTML = '';\n",
              "          dataTable['output_type'] = 'display_data';\n",
              "          await google.colab.output.renderOutput(dataTable, element);\n",
              "          const docLink = document.createElement('div');\n",
              "          docLink.innerHTML = docLinkHtml;\n",
              "          element.appendChild(docLink);\n",
              "        }\n",
              "      </script>\n",
              "    </div>\n",
              "  </div>\n",
              "  "
            ]
          },
          "metadata": {},
          "execution_count": 59
        }
      ]
    },
    {
      "cell_type": "markdown",
      "source": [
        "### 데이터셋 전처리"
      ],
      "metadata": {
        "id": "kBze2qE0Fzlc"
      }
    },
    {
      "cell_type": "code",
      "source": [
        "np.unique(test_dataset['Label'])"
      ],
      "metadata": {
        "id": "tXO8m8wsGBDM",
        "colab": {
          "base_uri": "https://localhost:8080/"
        },
        "outputId": "caa08f64-1c22-47d5-8321-42c7e6a9939c"
      },
      "execution_count": null,
      "outputs": [
        {
          "output_type": "execute_result",
          "data": {
            "text/plain": [
              "array(['Benign', 'Infilteration', 'Label'], dtype=object)"
            ]
          },
          "metadata": {},
          "execution_count": 60
        }
      ]
    },
    {
      "cell_type": "code",
      "source": [
        "test_dataset.columns"
      ],
      "metadata": {
        "id": "2MJ4YqV6HPp-",
        "colab": {
          "base_uri": "https://localhost:8080/"
        },
        "outputId": "ec41fa00-9794-4099-f7bf-5b14a1b543bf"
      },
      "execution_count": null,
      "outputs": [
        {
          "output_type": "execute_result",
          "data": {
            "text/plain": [
              "Index(['Dst Port', 'Protocol', 'Timestamp', 'Flow Duration', 'Tot Fwd Pkts',\n",
              "       'Tot Bwd Pkts', 'TotLen Fwd Pkts', 'TotLen Bwd Pkts', 'Fwd Pkt Len Max',\n",
              "       'Fwd Pkt Len Min', 'Fwd Pkt Len Mean', 'Fwd Pkt Len Std',\n",
              "       'Bwd Pkt Len Max', 'Bwd Pkt Len Min', 'Bwd Pkt Len Mean',\n",
              "       'Bwd Pkt Len Std', 'Flow Byts/s', 'Flow Pkts/s', 'Flow IAT Mean',\n",
              "       'Flow IAT Std', 'Flow IAT Max', 'Flow IAT Min', 'Fwd IAT Tot',\n",
              "       'Fwd IAT Mean', 'Fwd IAT Std', 'Fwd IAT Max', 'Fwd IAT Min',\n",
              "       'Bwd IAT Tot', 'Bwd IAT Mean', 'Bwd IAT Std', 'Bwd IAT Max',\n",
              "       'Bwd IAT Min', 'Fwd PSH Flags', 'Bwd PSH Flags', 'Fwd URG Flags',\n",
              "       'Bwd URG Flags', 'Fwd Header Len', 'Bwd Header Len', 'Fwd Pkts/s',\n",
              "       'Bwd Pkts/s', 'Pkt Len Min', 'Pkt Len Max', 'Pkt Len Mean',\n",
              "       'Pkt Len Std', 'Pkt Len Var', 'FIN Flag Cnt', 'SYN Flag Cnt',\n",
              "       'RST Flag Cnt', 'PSH Flag Cnt', 'ACK Flag Cnt', 'URG Flag Cnt',\n",
              "       'CWE Flag Count', 'ECE Flag Cnt', 'Down/Up Ratio', 'Pkt Size Avg',\n",
              "       'Fwd Seg Size Avg', 'Bwd Seg Size Avg', 'Fwd Byts/b Avg',\n",
              "       'Fwd Pkts/b Avg', 'Fwd Blk Rate Avg', 'Bwd Byts/b Avg',\n",
              "       'Bwd Pkts/b Avg', 'Bwd Blk Rate Avg', 'Subflow Fwd Pkts',\n",
              "       'Subflow Fwd Byts', 'Subflow Bwd Pkts', 'Subflow Bwd Byts',\n",
              "       'Init Fwd Win Byts', 'Init Bwd Win Byts', 'Fwd Act Data Pkts',\n",
              "       'Fwd Seg Size Min', 'Active Mean', 'Active Std', 'Active Max',\n",
              "       'Active Min', 'Idle Mean', 'Idle Std', 'Idle Max', 'Idle Min', 'Label'],\n",
              "      dtype='object')"
            ]
          },
          "metadata": {},
          "execution_count": 61
        }
      ]
    },
    {
      "cell_type": "code",
      "source": [
        "# 주요 특징 정보\n",
        "# 주의 : 라벨도 포함 \n",
        "main_features = [\"Flow Duration\", \"Flow Byts/s\", \"Flow Pkts/s\", \"Flow IAT Mean\",\n",
        "                 \"Fwd IAT Mean\", \"Bwd IAT Mean\", \"Active Mean\", \"Idle Mean\", \"Label\"]"
      ],
      "metadata": {
        "id": "iFK-zUjhV_nN"
      },
      "execution_count": null,
      "outputs": []
    },
    {
      "cell_type": "code",
      "source": [
        "test_dataset = test_dataset[main_features]"
      ],
      "metadata": {
        "id": "1HTRb6DNWmLs"
      },
      "execution_count": null,
      "outputs": []
    },
    {
      "cell_type": "code",
      "source": [
        "change_value_dict = {\n",
        "    'Benign': True,\n",
        "    'Infilteration': False,\n",
        "    'Label' : True\n",
        "}\n",
        "\n",
        "# 'Label'값이 'Label'인 건 없애도 될 것 같긴 한데 일단 true로..\n",
        "\n",
        "test_dataset = test_dataset.replace({'Label' : change_value_dict})\n",
        "np.unique(test_dataset['Label'])"
      ],
      "metadata": {
        "id": "YEocBxEeIVCH",
        "colab": {
          "base_uri": "https://localhost:8080/"
        },
        "outputId": "28e57903-494f-4448-d5eb-5346c6aa852d"
      },
      "execution_count": null,
      "outputs": [
        {
          "output_type": "execute_result",
          "data": {
            "text/plain": [
              "array([False,  True])"
            ]
          },
          "metadata": {},
          "execution_count": 64
        }
      ]
    },
    {
      "cell_type": "markdown",
      "source": [
        "자잘한 전처리들 진행하고 정규화"
      ],
      "metadata": {
        "id": "RYIHEhxBxelk"
      }
    },
    {
      "cell_type": "code",
      "source": [
        "# pd.to_numeric은 문자를 숫자로 변환함\n",
        "# 이 때, 만약 숫자로 변경할 수 없는 데이터라면 기존 데이터를 지우고 NaN으로 설정하여 반환함\n",
        "# NaN으로 바뀐 것은 dropna로 제거 가능\n",
        "\n",
        "# 다만 실 데이터셋에는 특징 8개 거를 때 timestamp도 포함시켜야 하는데, timestamp는 숫자로 변환할 수 없기 때문에 주의 필요\n",
        "# (timestamp 분리했다가 적용하고 다시 붙이는 식으로) \n",
        "\n",
        "# CICIDS 2018 데이터셋에는 컬럼 값에 문자열이 들어가 있는 경우가 있어서 아래 과정을 했는데, 만약 실 데이터셋 전처리 과정에서 필요없으면 생략 가능\n",
        "\n",
        "test_dataset = test_dataset.apply(pd.to_numeric, errors='coerce')"
      ],
      "metadata": {
        "id": "vjZf5uoHZrF0"
      },
      "execution_count": null,
      "outputs": []
    },
    {
      "cell_type": "code",
      "source": [
        "test_dataset = test_dataset.dropna(axis=0)"
      ],
      "metadata": {
        "id": "VbtF0HFukRjG"
      },
      "execution_count": null,
      "outputs": []
    },
    {
      "cell_type": "code",
      "source": [
        "test_dataset = test_dataset.replace([np.inf, -np.inf], np.nan)\n",
        "test_dataset.dropna(inplace=True)"
      ],
      "metadata": {
        "id": "4QiBahhPkcKZ"
      },
      "execution_count": null,
      "outputs": []
    },
    {
      "cell_type": "code",
      "source": [
        "test_dataset"
      ],
      "metadata": {
        "id": "k0LuDKIno51S",
        "colab": {
          "base_uri": "https://localhost:8080/",
          "height": 485
        },
        "outputId": "53ee6609-7fe5-4883-a411-330665adc2a9"
      },
      "execution_count": null,
      "outputs": [
        {
          "output_type": "execute_result",
          "data": {
            "text/plain": [
              "        Flow Duration  Flow Byts/s  Flow Pkts/s  Flow IAT Mean  Fwd IAT Mean  \\\n",
              "0         115307855.0     0.000000     0.043362   2.880000e+07  2.880000e+07   \n",
              "1          60997457.0     0.000000     0.032788   6.100000e+07  6.100000e+07   \n",
              "2          61149019.0    24.530238     0.081767   1.530000e+07  1.530000e+07   \n",
              "3          60997555.0     0.000000     0.032788   6.100000e+07  6.100000e+07   \n",
              "4          61997503.0     0.000000     0.048389   3.100000e+07  3.100000e+07   \n",
              "...               ...          ...          ...            ...           ...   \n",
              "331107    118494070.0     0.000000     0.261616   3.949802e+06  3.949802e+06   \n",
              "331108       114340.0     0.000000    26.237537   5.717000e+04  1.143400e+05   \n",
              "331109      1404866.0  1931.145034    10.677175   1.003476e+05  2.006951e+05   \n",
              "331110      3966663.0   448.235708     5.294123   1.983331e+05  3.051279e+05   \n",
              "331111     86637706.0     0.000000     0.023085   8.660000e+07  8.660000e+07   \n",
              "\n",
              "        Bwd IAT Mean  Active Mean   Idle Mean  Label  \n",
              "0             0.0000    1812348.0  56700000.0   True  \n",
              "1             0.0000          0.0  61000000.0   True  \n",
              "2             0.0000    3530939.0  19200000.0   True  \n",
              "3             0.0000          0.0  61000000.0   True  \n",
              "4             0.0000     999909.0  61000000.0   True  \n",
              "...              ...          ...         ...    ...  \n",
              "331107        0.0000          0.0         0.0   True  \n",
              "331108        0.0000          0.0         0.0   True  \n",
              "331109   223512.3333          0.0         0.0   True  \n",
              "331110   645623.0000          0.0         0.0   True  \n",
              "331111        0.0000          0.0  86600000.0   True  \n",
              "\n",
              "[328181 rows x 9 columns]"
            ],
            "text/html": [
              "\n",
              "  <div id=\"df-6bb73183-4a9e-4b74-bac8-4b868502a2b3\">\n",
              "    <div class=\"colab-df-container\">\n",
              "      <div>\n",
              "<style scoped>\n",
              "    .dataframe tbody tr th:only-of-type {\n",
              "        vertical-align: middle;\n",
              "    }\n",
              "\n",
              "    .dataframe tbody tr th {\n",
              "        vertical-align: top;\n",
              "    }\n",
              "\n",
              "    .dataframe thead th {\n",
              "        text-align: right;\n",
              "    }\n",
              "</style>\n",
              "<table border=\"1\" class=\"dataframe\">\n",
              "  <thead>\n",
              "    <tr style=\"text-align: right;\">\n",
              "      <th></th>\n",
              "      <th>Flow Duration</th>\n",
              "      <th>Flow Byts/s</th>\n",
              "      <th>Flow Pkts/s</th>\n",
              "      <th>Flow IAT Mean</th>\n",
              "      <th>Fwd IAT Mean</th>\n",
              "      <th>Bwd IAT Mean</th>\n",
              "      <th>Active Mean</th>\n",
              "      <th>Idle Mean</th>\n",
              "      <th>Label</th>\n",
              "    </tr>\n",
              "  </thead>\n",
              "  <tbody>\n",
              "    <tr>\n",
              "      <th>0</th>\n",
              "      <td>115307855.0</td>\n",
              "      <td>0.000000</td>\n",
              "      <td>0.043362</td>\n",
              "      <td>2.880000e+07</td>\n",
              "      <td>2.880000e+07</td>\n",
              "      <td>0.0000</td>\n",
              "      <td>1812348.0</td>\n",
              "      <td>56700000.0</td>\n",
              "      <td>True</td>\n",
              "    </tr>\n",
              "    <tr>\n",
              "      <th>1</th>\n",
              "      <td>60997457.0</td>\n",
              "      <td>0.000000</td>\n",
              "      <td>0.032788</td>\n",
              "      <td>6.100000e+07</td>\n",
              "      <td>6.100000e+07</td>\n",
              "      <td>0.0000</td>\n",
              "      <td>0.0</td>\n",
              "      <td>61000000.0</td>\n",
              "      <td>True</td>\n",
              "    </tr>\n",
              "    <tr>\n",
              "      <th>2</th>\n",
              "      <td>61149019.0</td>\n",
              "      <td>24.530238</td>\n",
              "      <td>0.081767</td>\n",
              "      <td>1.530000e+07</td>\n",
              "      <td>1.530000e+07</td>\n",
              "      <td>0.0000</td>\n",
              "      <td>3530939.0</td>\n",
              "      <td>19200000.0</td>\n",
              "      <td>True</td>\n",
              "    </tr>\n",
              "    <tr>\n",
              "      <th>3</th>\n",
              "      <td>60997555.0</td>\n",
              "      <td>0.000000</td>\n",
              "      <td>0.032788</td>\n",
              "      <td>6.100000e+07</td>\n",
              "      <td>6.100000e+07</td>\n",
              "      <td>0.0000</td>\n",
              "      <td>0.0</td>\n",
              "      <td>61000000.0</td>\n",
              "      <td>True</td>\n",
              "    </tr>\n",
              "    <tr>\n",
              "      <th>4</th>\n",
              "      <td>61997503.0</td>\n",
              "      <td>0.000000</td>\n",
              "      <td>0.048389</td>\n",
              "      <td>3.100000e+07</td>\n",
              "      <td>3.100000e+07</td>\n",
              "      <td>0.0000</td>\n",
              "      <td>999909.0</td>\n",
              "      <td>61000000.0</td>\n",
              "      <td>True</td>\n",
              "    </tr>\n",
              "    <tr>\n",
              "      <th>...</th>\n",
              "      <td>...</td>\n",
              "      <td>...</td>\n",
              "      <td>...</td>\n",
              "      <td>...</td>\n",
              "      <td>...</td>\n",
              "      <td>...</td>\n",
              "      <td>...</td>\n",
              "      <td>...</td>\n",
              "      <td>...</td>\n",
              "    </tr>\n",
              "    <tr>\n",
              "      <th>331107</th>\n",
              "      <td>118494070.0</td>\n",
              "      <td>0.000000</td>\n",
              "      <td>0.261616</td>\n",
              "      <td>3.949802e+06</td>\n",
              "      <td>3.949802e+06</td>\n",
              "      <td>0.0000</td>\n",
              "      <td>0.0</td>\n",
              "      <td>0.0</td>\n",
              "      <td>True</td>\n",
              "    </tr>\n",
              "    <tr>\n",
              "      <th>331108</th>\n",
              "      <td>114340.0</td>\n",
              "      <td>0.000000</td>\n",
              "      <td>26.237537</td>\n",
              "      <td>5.717000e+04</td>\n",
              "      <td>1.143400e+05</td>\n",
              "      <td>0.0000</td>\n",
              "      <td>0.0</td>\n",
              "      <td>0.0</td>\n",
              "      <td>True</td>\n",
              "    </tr>\n",
              "    <tr>\n",
              "      <th>331109</th>\n",
              "      <td>1404866.0</td>\n",
              "      <td>1931.145034</td>\n",
              "      <td>10.677175</td>\n",
              "      <td>1.003476e+05</td>\n",
              "      <td>2.006951e+05</td>\n",
              "      <td>223512.3333</td>\n",
              "      <td>0.0</td>\n",
              "      <td>0.0</td>\n",
              "      <td>True</td>\n",
              "    </tr>\n",
              "    <tr>\n",
              "      <th>331110</th>\n",
              "      <td>3966663.0</td>\n",
              "      <td>448.235708</td>\n",
              "      <td>5.294123</td>\n",
              "      <td>1.983331e+05</td>\n",
              "      <td>3.051279e+05</td>\n",
              "      <td>645623.0000</td>\n",
              "      <td>0.0</td>\n",
              "      <td>0.0</td>\n",
              "      <td>True</td>\n",
              "    </tr>\n",
              "    <tr>\n",
              "      <th>331111</th>\n",
              "      <td>86637706.0</td>\n",
              "      <td>0.000000</td>\n",
              "      <td>0.023085</td>\n",
              "      <td>8.660000e+07</td>\n",
              "      <td>8.660000e+07</td>\n",
              "      <td>0.0000</td>\n",
              "      <td>0.0</td>\n",
              "      <td>86600000.0</td>\n",
              "      <td>True</td>\n",
              "    </tr>\n",
              "  </tbody>\n",
              "</table>\n",
              "<p>328181 rows × 9 columns</p>\n",
              "</div>\n",
              "      <button class=\"colab-df-convert\" onclick=\"convertToInteractive('df-6bb73183-4a9e-4b74-bac8-4b868502a2b3')\"\n",
              "              title=\"Convert this dataframe to an interactive table.\"\n",
              "              style=\"display:none;\">\n",
              "        \n",
              "  <svg xmlns=\"http://www.w3.org/2000/svg\" height=\"24px\"viewBox=\"0 0 24 24\"\n",
              "       width=\"24px\">\n",
              "    <path d=\"M0 0h24v24H0V0z\" fill=\"none\"/>\n",
              "    <path d=\"M18.56 5.44l.94 2.06.94-2.06 2.06-.94-2.06-.94-.94-2.06-.94 2.06-2.06.94zm-11 1L8.5 8.5l.94-2.06 2.06-.94-2.06-.94L8.5 2.5l-.94 2.06-2.06.94zm10 10l.94 2.06.94-2.06 2.06-.94-2.06-.94-.94-2.06-.94 2.06-2.06.94z\"/><path d=\"M17.41 7.96l-1.37-1.37c-.4-.4-.92-.59-1.43-.59-.52 0-1.04.2-1.43.59L10.3 9.45l-7.72 7.72c-.78.78-.78 2.05 0 2.83L4 21.41c.39.39.9.59 1.41.59.51 0 1.02-.2 1.41-.59l7.78-7.78 2.81-2.81c.8-.78.8-2.07 0-2.86zM5.41 20L4 18.59l7.72-7.72 1.47 1.35L5.41 20z\"/>\n",
              "  </svg>\n",
              "      </button>\n",
              "      \n",
              "  <style>\n",
              "    .colab-df-container {\n",
              "      display:flex;\n",
              "      flex-wrap:wrap;\n",
              "      gap: 12px;\n",
              "    }\n",
              "\n",
              "    .colab-df-convert {\n",
              "      background-color: #E8F0FE;\n",
              "      border: none;\n",
              "      border-radius: 50%;\n",
              "      cursor: pointer;\n",
              "      display: none;\n",
              "      fill: #1967D2;\n",
              "      height: 32px;\n",
              "      padding: 0 0 0 0;\n",
              "      width: 32px;\n",
              "    }\n",
              "\n",
              "    .colab-df-convert:hover {\n",
              "      background-color: #E2EBFA;\n",
              "      box-shadow: 0px 1px 2px rgba(60, 64, 67, 0.3), 0px 1px 3px 1px rgba(60, 64, 67, 0.15);\n",
              "      fill: #174EA6;\n",
              "    }\n",
              "\n",
              "    [theme=dark] .colab-df-convert {\n",
              "      background-color: #3B4455;\n",
              "      fill: #D2E3FC;\n",
              "    }\n",
              "\n",
              "    [theme=dark] .colab-df-convert:hover {\n",
              "      background-color: #434B5C;\n",
              "      box-shadow: 0px 1px 3px 1px rgba(0, 0, 0, 0.15);\n",
              "      filter: drop-shadow(0px 1px 2px rgba(0, 0, 0, 0.3));\n",
              "      fill: #FFFFFF;\n",
              "    }\n",
              "  </style>\n",
              "\n",
              "      <script>\n",
              "        const buttonEl =\n",
              "          document.querySelector('#df-6bb73183-4a9e-4b74-bac8-4b868502a2b3 button.colab-df-convert');\n",
              "        buttonEl.style.display =\n",
              "          google.colab.kernel.accessAllowed ? 'block' : 'none';\n",
              "\n",
              "        async function convertToInteractive(key) {\n",
              "          const element = document.querySelector('#df-6bb73183-4a9e-4b74-bac8-4b868502a2b3');\n",
              "          const dataTable =\n",
              "            await google.colab.kernel.invokeFunction('convertToInteractive',\n",
              "                                                     [key], {});\n",
              "          if (!dataTable) return;\n",
              "\n",
              "          const docLinkHtml = 'Like what you see? Visit the ' +\n",
              "            '<a target=\"_blank\" href=https://colab.research.google.com/notebooks/data_table.ipynb>data table notebook</a>'\n",
              "            + ' to learn more about interactive tables.';\n",
              "          element.innerHTML = '';\n",
              "          dataTable['output_type'] = 'display_data';\n",
              "          await google.colab.output.renderOutput(dataTable, element);\n",
              "          const docLink = document.createElement('div');\n",
              "          docLink.innerHTML = docLinkHtml;\n",
              "          element.appendChild(docLink);\n",
              "        }\n",
              "      </script>\n",
              "    </div>\n",
              "  </div>\n",
              "  "
            ]
          },
          "metadata": {},
          "execution_count": 68
        }
      ]
    },
    {
      "cell_type": "code",
      "source": [
        "Y = test_dataset['Label']\n",
        "X = test_dataset.loc[:, test_dataset.columns != 'Label'].astype('float64')"
      ],
      "metadata": {
        "id": "4mljo5czdY14"
      },
      "execution_count": null,
      "outputs": []
    },
    {
      "cell_type": "code",
      "source": [
        "X"
      ],
      "metadata": {
        "id": "6ps6IdX7pLM-",
        "colab": {
          "base_uri": "https://localhost:8080/",
          "height": 485
        },
        "outputId": "4c056dc6-ac4e-4d03-a30c-e9c396ab793f"
      },
      "execution_count": null,
      "outputs": [
        {
          "output_type": "execute_result",
          "data": {
            "text/plain": [
              "        Flow Duration  Flow Byts/s  Flow Pkts/s  Flow IAT Mean  Fwd IAT Mean  \\\n",
              "0         115307855.0     0.000000     0.043362   2.880000e+07  2.880000e+07   \n",
              "1          60997457.0     0.000000     0.032788   6.100000e+07  6.100000e+07   \n",
              "2          61149019.0    24.530238     0.081767   1.530000e+07  1.530000e+07   \n",
              "3          60997555.0     0.000000     0.032788   6.100000e+07  6.100000e+07   \n",
              "4          61997503.0     0.000000     0.048389   3.100000e+07  3.100000e+07   \n",
              "...               ...          ...          ...            ...           ...   \n",
              "331107    118494070.0     0.000000     0.261616   3.949802e+06  3.949802e+06   \n",
              "331108       114340.0     0.000000    26.237537   5.717000e+04  1.143400e+05   \n",
              "331109      1404866.0  1931.145034    10.677175   1.003476e+05  2.006951e+05   \n",
              "331110      3966663.0   448.235708     5.294123   1.983331e+05  3.051279e+05   \n",
              "331111     86637706.0     0.000000     0.023085   8.660000e+07  8.660000e+07   \n",
              "\n",
              "        Bwd IAT Mean  Active Mean   Idle Mean  \n",
              "0             0.0000    1812348.0  56700000.0  \n",
              "1             0.0000          0.0  61000000.0  \n",
              "2             0.0000    3530939.0  19200000.0  \n",
              "3             0.0000          0.0  61000000.0  \n",
              "4             0.0000     999909.0  61000000.0  \n",
              "...              ...          ...         ...  \n",
              "331107        0.0000          0.0         0.0  \n",
              "331108        0.0000          0.0         0.0  \n",
              "331109   223512.3333          0.0         0.0  \n",
              "331110   645623.0000          0.0         0.0  \n",
              "331111        0.0000          0.0  86600000.0  \n",
              "\n",
              "[328181 rows x 8 columns]"
            ],
            "text/html": [
              "\n",
              "  <div id=\"df-28ae3d64-b608-47fe-8ec7-60056688d46b\">\n",
              "    <div class=\"colab-df-container\">\n",
              "      <div>\n",
              "<style scoped>\n",
              "    .dataframe tbody tr th:only-of-type {\n",
              "        vertical-align: middle;\n",
              "    }\n",
              "\n",
              "    .dataframe tbody tr th {\n",
              "        vertical-align: top;\n",
              "    }\n",
              "\n",
              "    .dataframe thead th {\n",
              "        text-align: right;\n",
              "    }\n",
              "</style>\n",
              "<table border=\"1\" class=\"dataframe\">\n",
              "  <thead>\n",
              "    <tr style=\"text-align: right;\">\n",
              "      <th></th>\n",
              "      <th>Flow Duration</th>\n",
              "      <th>Flow Byts/s</th>\n",
              "      <th>Flow Pkts/s</th>\n",
              "      <th>Flow IAT Mean</th>\n",
              "      <th>Fwd IAT Mean</th>\n",
              "      <th>Bwd IAT Mean</th>\n",
              "      <th>Active Mean</th>\n",
              "      <th>Idle Mean</th>\n",
              "    </tr>\n",
              "  </thead>\n",
              "  <tbody>\n",
              "    <tr>\n",
              "      <th>0</th>\n",
              "      <td>115307855.0</td>\n",
              "      <td>0.000000</td>\n",
              "      <td>0.043362</td>\n",
              "      <td>2.880000e+07</td>\n",
              "      <td>2.880000e+07</td>\n",
              "      <td>0.0000</td>\n",
              "      <td>1812348.0</td>\n",
              "      <td>56700000.0</td>\n",
              "    </tr>\n",
              "    <tr>\n",
              "      <th>1</th>\n",
              "      <td>60997457.0</td>\n",
              "      <td>0.000000</td>\n",
              "      <td>0.032788</td>\n",
              "      <td>6.100000e+07</td>\n",
              "      <td>6.100000e+07</td>\n",
              "      <td>0.0000</td>\n",
              "      <td>0.0</td>\n",
              "      <td>61000000.0</td>\n",
              "    </tr>\n",
              "    <tr>\n",
              "      <th>2</th>\n",
              "      <td>61149019.0</td>\n",
              "      <td>24.530238</td>\n",
              "      <td>0.081767</td>\n",
              "      <td>1.530000e+07</td>\n",
              "      <td>1.530000e+07</td>\n",
              "      <td>0.0000</td>\n",
              "      <td>3530939.0</td>\n",
              "      <td>19200000.0</td>\n",
              "    </tr>\n",
              "    <tr>\n",
              "      <th>3</th>\n",
              "      <td>60997555.0</td>\n",
              "      <td>0.000000</td>\n",
              "      <td>0.032788</td>\n",
              "      <td>6.100000e+07</td>\n",
              "      <td>6.100000e+07</td>\n",
              "      <td>0.0000</td>\n",
              "      <td>0.0</td>\n",
              "      <td>61000000.0</td>\n",
              "    </tr>\n",
              "    <tr>\n",
              "      <th>4</th>\n",
              "      <td>61997503.0</td>\n",
              "      <td>0.000000</td>\n",
              "      <td>0.048389</td>\n",
              "      <td>3.100000e+07</td>\n",
              "      <td>3.100000e+07</td>\n",
              "      <td>0.0000</td>\n",
              "      <td>999909.0</td>\n",
              "      <td>61000000.0</td>\n",
              "    </tr>\n",
              "    <tr>\n",
              "      <th>...</th>\n",
              "      <td>...</td>\n",
              "      <td>...</td>\n",
              "      <td>...</td>\n",
              "      <td>...</td>\n",
              "      <td>...</td>\n",
              "      <td>...</td>\n",
              "      <td>...</td>\n",
              "      <td>...</td>\n",
              "    </tr>\n",
              "    <tr>\n",
              "      <th>331107</th>\n",
              "      <td>118494070.0</td>\n",
              "      <td>0.000000</td>\n",
              "      <td>0.261616</td>\n",
              "      <td>3.949802e+06</td>\n",
              "      <td>3.949802e+06</td>\n",
              "      <td>0.0000</td>\n",
              "      <td>0.0</td>\n",
              "      <td>0.0</td>\n",
              "    </tr>\n",
              "    <tr>\n",
              "      <th>331108</th>\n",
              "      <td>114340.0</td>\n",
              "      <td>0.000000</td>\n",
              "      <td>26.237537</td>\n",
              "      <td>5.717000e+04</td>\n",
              "      <td>1.143400e+05</td>\n",
              "      <td>0.0000</td>\n",
              "      <td>0.0</td>\n",
              "      <td>0.0</td>\n",
              "    </tr>\n",
              "    <tr>\n",
              "      <th>331109</th>\n",
              "      <td>1404866.0</td>\n",
              "      <td>1931.145034</td>\n",
              "      <td>10.677175</td>\n",
              "      <td>1.003476e+05</td>\n",
              "      <td>2.006951e+05</td>\n",
              "      <td>223512.3333</td>\n",
              "      <td>0.0</td>\n",
              "      <td>0.0</td>\n",
              "    </tr>\n",
              "    <tr>\n",
              "      <th>331110</th>\n",
              "      <td>3966663.0</td>\n",
              "      <td>448.235708</td>\n",
              "      <td>5.294123</td>\n",
              "      <td>1.983331e+05</td>\n",
              "      <td>3.051279e+05</td>\n",
              "      <td>645623.0000</td>\n",
              "      <td>0.0</td>\n",
              "      <td>0.0</td>\n",
              "    </tr>\n",
              "    <tr>\n",
              "      <th>331111</th>\n",
              "      <td>86637706.0</td>\n",
              "      <td>0.000000</td>\n",
              "      <td>0.023085</td>\n",
              "      <td>8.660000e+07</td>\n",
              "      <td>8.660000e+07</td>\n",
              "      <td>0.0000</td>\n",
              "      <td>0.0</td>\n",
              "      <td>86600000.0</td>\n",
              "    </tr>\n",
              "  </tbody>\n",
              "</table>\n",
              "<p>328181 rows × 8 columns</p>\n",
              "</div>\n",
              "      <button class=\"colab-df-convert\" onclick=\"convertToInteractive('df-28ae3d64-b608-47fe-8ec7-60056688d46b')\"\n",
              "              title=\"Convert this dataframe to an interactive table.\"\n",
              "              style=\"display:none;\">\n",
              "        \n",
              "  <svg xmlns=\"http://www.w3.org/2000/svg\" height=\"24px\"viewBox=\"0 0 24 24\"\n",
              "       width=\"24px\">\n",
              "    <path d=\"M0 0h24v24H0V0z\" fill=\"none\"/>\n",
              "    <path d=\"M18.56 5.44l.94 2.06.94-2.06 2.06-.94-2.06-.94-.94-2.06-.94 2.06-2.06.94zm-11 1L8.5 8.5l.94-2.06 2.06-.94-2.06-.94L8.5 2.5l-.94 2.06-2.06.94zm10 10l.94 2.06.94-2.06 2.06-.94-2.06-.94-.94-2.06-.94 2.06-2.06.94z\"/><path d=\"M17.41 7.96l-1.37-1.37c-.4-.4-.92-.59-1.43-.59-.52 0-1.04.2-1.43.59L10.3 9.45l-7.72 7.72c-.78.78-.78 2.05 0 2.83L4 21.41c.39.39.9.59 1.41.59.51 0 1.02-.2 1.41-.59l7.78-7.78 2.81-2.81c.8-.78.8-2.07 0-2.86zM5.41 20L4 18.59l7.72-7.72 1.47 1.35L5.41 20z\"/>\n",
              "  </svg>\n",
              "      </button>\n",
              "      \n",
              "  <style>\n",
              "    .colab-df-container {\n",
              "      display:flex;\n",
              "      flex-wrap:wrap;\n",
              "      gap: 12px;\n",
              "    }\n",
              "\n",
              "    .colab-df-convert {\n",
              "      background-color: #E8F0FE;\n",
              "      border: none;\n",
              "      border-radius: 50%;\n",
              "      cursor: pointer;\n",
              "      display: none;\n",
              "      fill: #1967D2;\n",
              "      height: 32px;\n",
              "      padding: 0 0 0 0;\n",
              "      width: 32px;\n",
              "    }\n",
              "\n",
              "    .colab-df-convert:hover {\n",
              "      background-color: #E2EBFA;\n",
              "      box-shadow: 0px 1px 2px rgba(60, 64, 67, 0.3), 0px 1px 3px 1px rgba(60, 64, 67, 0.15);\n",
              "      fill: #174EA6;\n",
              "    }\n",
              "\n",
              "    [theme=dark] .colab-df-convert {\n",
              "      background-color: #3B4455;\n",
              "      fill: #D2E3FC;\n",
              "    }\n",
              "\n",
              "    [theme=dark] .colab-df-convert:hover {\n",
              "      background-color: #434B5C;\n",
              "      box-shadow: 0px 1px 3px 1px rgba(0, 0, 0, 0.15);\n",
              "      filter: drop-shadow(0px 1px 2px rgba(0, 0, 0, 0.3));\n",
              "      fill: #FFFFFF;\n",
              "    }\n",
              "  </style>\n",
              "\n",
              "      <script>\n",
              "        const buttonEl =\n",
              "          document.querySelector('#df-28ae3d64-b608-47fe-8ec7-60056688d46b button.colab-df-convert');\n",
              "        buttonEl.style.display =\n",
              "          google.colab.kernel.accessAllowed ? 'block' : 'none';\n",
              "\n",
              "        async function convertToInteractive(key) {\n",
              "          const element = document.querySelector('#df-28ae3d64-b608-47fe-8ec7-60056688d46b');\n",
              "          const dataTable =\n",
              "            await google.colab.kernel.invokeFunction('convertToInteractive',\n",
              "                                                     [key], {});\n",
              "          if (!dataTable) return;\n",
              "\n",
              "          const docLinkHtml = 'Like what you see? Visit the ' +\n",
              "            '<a target=\"_blank\" href=https://colab.research.google.com/notebooks/data_table.ipynb>data table notebook</a>'\n",
              "            + ' to learn more about interactive tables.';\n",
              "          element.innerHTML = '';\n",
              "          dataTable['output_type'] = 'display_data';\n",
              "          await google.colab.output.renderOutput(dataTable, element);\n",
              "          const docLink = document.createElement('div');\n",
              "          docLink.innerHTML = docLinkHtml;\n",
              "          element.appendChild(docLink);\n",
              "        }\n",
              "      </script>\n",
              "    </div>\n",
              "  </div>\n",
              "  "
            ]
          },
          "metadata": {},
          "execution_count": 70
        }
      ]
    },
    {
      "cell_type": "code",
      "source": [
        "X = X.values\n",
        "Y = Y.values"
      ],
      "metadata": {
        "id": "cssnooBxnmEl"
      },
      "execution_count": null,
      "outputs": []
    },
    {
      "cell_type": "code",
      "source": [
        "from sklearn.preprocessing import MinMaxScaler, StandardScaler, RobustScaler\n",
        "scaler_test = MinMaxScaler()\n",
        "scaler_test.fit(X)\n",
        "X = scaler_test.transform(X)"
      ],
      "metadata": {
        "id": "FThfDAz2kKf6"
      },
      "execution_count": null,
      "outputs": []
    },
    {
      "cell_type": "code",
      "source": [
        "X"
      ],
      "metadata": {
        "id": "w4JHK2t8YZe5",
        "colab": {
          "base_uri": "https://localhost:8080/"
        },
        "outputId": "febe84e1-9f8b-45b7-dfa3-22f58183c42b"
      },
      "execution_count": null,
      "outputs": [
        {
          "output_type": "execute_result",
          "data": {
            "text/plain": [
              "array([[9.60898855e-01, 0.00000000e+00, 8.87289438e-09, ...,\n",
              "        0.00000000e+00, 1.58977895e-02, 4.72500000e-01],\n",
              "       [5.08312171e-01, 0.00000000e+00, 5.34825170e-09, ...,\n",
              "        0.00000000e+00, 0.00000000e+00, 5.08333333e-01],\n",
              "       [5.09575188e-01, 3.46472291e-08, 2.16746548e-08, ...,\n",
              "        0.00000000e+00, 3.09731491e-02, 1.60000000e-01],\n",
              "       ...,\n",
              "       [1.17072092e-02, 2.72760598e-06, 3.55347715e-06, ...,\n",
              "        1.86260278e-03, 0.00000000e+00, 0.00000000e+00],\n",
              "       [3.30555191e-02, 6.33101283e-07, 1.75912636e-06, ...,\n",
              "        5.38019167e-03, 0.00000000e+00, 0.00000000e+00],\n",
              "       [7.21980929e-01, 0.00000000e+00, 2.11371335e-09, ...,\n",
              "        0.00000000e+00, 0.00000000e+00, 7.21666667e-01]])"
            ]
          },
          "metadata": {},
          "execution_count": 73
        }
      ]
    },
    {
      "cell_type": "code",
      "source": [
        "sorted_feature = sorted(np.unique(X[:,0]))\n",
        "sorted_feature[0], sorted_feature[-1] # 정규화 잘 됨 0~1"
      ],
      "metadata": {
        "id": "1JRAoMPImOtq",
        "colab": {
          "base_uri": "https://localhost:8080/"
        },
        "outputId": "7dca292d-885b-43fa-c395-891561764c14"
      },
      "execution_count": null,
      "outputs": [
        {
          "output_type": "execute_result",
          "data": {
            "text/plain": [
              "(0.0, 1.0)"
            ]
          },
          "metadata": {},
          "execution_count": 74
        }
      ]
    },
    {
      "cell_type": "markdown",
      "source": [
        "## ONLY Autoencoder"
      ],
      "metadata": {
        "id": "VoB4n318wtsv"
      }
    },
    {
      "cell_type": "code",
      "source": [
        "from keras.models import load_model\n",
        "\n",
        "model_path = '/content/drive/MyDrive/MODEL_TEST/autoencoder.h5' # 모델 저장되어 있는 경로 작성\n",
        "autoencoder = load_model(model_path)"
      ],
      "metadata": {
        "id": "P008TJb6XDSX"
      },
      "execution_count": null,
      "outputs": []
    },
    {
      "cell_type": "code",
      "source": [
        "autoencoder.summary()"
      ],
      "metadata": {
        "id": "8pZYvHOAXKQs",
        "colab": {
          "base_uri": "https://localhost:8080/"
        },
        "outputId": "c5285241-d287-41b7-9fb0-a97cdba16389"
      },
      "execution_count": null,
      "outputs": [
        {
          "output_type": "stream",
          "name": "stdout",
          "text": [
            "Model: \"model\"\n",
            "_________________________________________________________________\n",
            " Layer (type)                Output Shape              Param #   \n",
            "=================================================================\n",
            " input_1 (InputLayer)        [(None, 8)]               0         \n",
            "                                                                 \n",
            " dense (Dense)               (None, 4)                 36        \n",
            "                                                                 \n",
            " dense_1 (Dense)             (None, 2)                 10        \n",
            "                                                                 \n",
            " dense_2 (Dense)             (None, 4)                 12        \n",
            "                                                                 \n",
            " dense_3 (Dense)             (None, 8)                 40        \n",
            "                                                                 \n",
            "=================================================================\n",
            "Total params: 98\n",
            "Trainable params: 98\n",
            "Non-trainable params: 0\n",
            "_________________________________________________________________\n"
          ]
        }
      ]
    },
    {
      "cell_type": "code",
      "source": [
        "test_predicted = autoencoder.predict(X)"
      ],
      "metadata": {
        "id": "JJB7wE1nXRek"
      },
      "execution_count": null,
      "outputs": []
    },
    {
      "cell_type": "code",
      "source": [
        "test_predicted"
      ],
      "metadata": {
        "id": "umEV6tOyXaF6",
        "colab": {
          "base_uri": "https://localhost:8080/"
        },
        "outputId": "20c8d723-95a4-4c4a-e145-dda8e14ad274"
      },
      "execution_count": null,
      "outputs": [
        {
          "output_type": "execute_result",
          "data": {
            "text/plain": [
              "array([[0.        , 0.        , 0.32913464, ..., 0.        , 0.        ,\n",
              "        0.4303255 ],\n",
              "       [0.        , 0.        , 0.3305405 , ..., 0.        , 0.        ,\n",
              "        0.41970882],\n",
              "       [0.        , 0.        , 0.36523953, ..., 0.        , 0.        ,\n",
              "        0.12923226],\n",
              "       ...,\n",
              "       [0.        , 0.        , 0.15208235, ..., 0.        , 0.        ,\n",
              "        0.        ],\n",
              "       [0.        , 0.        , 0.15222588, ..., 0.        , 0.        ,\n",
              "        0.        ],\n",
              "       [0.        , 0.        , 0.3085353 , ..., 0.        , 0.        ,\n",
              "        0.60381174]], dtype=float32)"
            ]
          },
          "metadata": {},
          "execution_count": 78
        }
      ]
    },
    {
      "cell_type": "code",
      "source": [
        "#loss = tf.keras.losses.mae(test_predicted, X)\n",
        "loss = np.mean(np.power(X - test_predicted, 2), axis = 1)\n",
        "# threshold는 일단 모델 학습시킬 때 loss 로 계산한 값으로 넣음 threshold = np.mean(train_loss) + np.std(train_loss) 이거\n",
        "# 수정 필요할 듯 \n",
        "autoencoder_threshold = 0.018\n",
        "\n",
        "predicted_label = tf.math.less(loss, autoencoder_threshold) \n",
        "predicted_label"
      ],
      "metadata": {
        "id": "qe9339AfXfqm",
        "colab": {
          "base_uri": "https://localhost:8080/"
        },
        "outputId": "d2c61df5-1154-4f52-f4f3-14d35dcbcf54"
      },
      "execution_count": null,
      "outputs": [
        {
          "output_type": "execute_result",
          "data": {
            "text/plain": [
              "<tf.Tensor: shape=(328181,), dtype=bool, numpy=array([False, False, False, ...,  True,  True, False])>"
            ]
          },
          "metadata": {},
          "execution_count": 135
        }
      ]
    },
    {
      "cell_type": "code",
      "source": [
        "loss"
      ],
      "metadata": {
        "colab": {
          "base_uri": "https://localhost:8080/"
        },
        "id": "MWg92FK8Hroc",
        "outputId": "c6eb51f7-bf4e-4cb4-9309-809caa0cfa8d"
      },
      "execution_count": null,
      "outputs": [
        {
          "output_type": "execute_result",
          "data": {
            "text/plain": [
              "array([0.13438141, 0.0527924 , 0.04989994, ..., 0.0030068 , 0.00313691,\n",
              "       0.09094464])"
            ]
          },
          "metadata": {},
          "execution_count": 136
        }
      ]
    },
    {
      "cell_type": "code",
      "source": [
        "accuracy = accuracy_score(Y, predicted_label)\n",
        "precision = precision_score(Y, predicted_label)\n",
        "recall = recall_score(Y, predicted_label)\n",
        "f1 = f1_score(Y, predicted_label)\n",
        "accuracy, precision, recall, f1"
      ],
      "metadata": {
        "id": "Ie-R2lOOZRpU",
        "colab": {
          "base_uri": "https://localhost:8080/"
        },
        "outputId": "9234c8d4-0204-479b-833e-f69f7600502b"
      },
      "execution_count": null,
      "outputs": [
        {
          "output_type": "execute_result",
          "data": {
            "text/plain": [
              "(0.6271112587261298,\n",
              " 0.7079926489198974,\n",
              " 0.8186005479730933,\n",
              " 0.7592896019008991)"
            ]
          },
          "metadata": {},
          "execution_count": 137
        }
      ]
    },
    {
      "cell_type": "code",
      "source": [
        "from sklearn.metrics import classification_report, confusion_matrix, precision_score, recall_score, f1_score, precision_recall_curve, roc_auc_score, roc_curve\n",
        "\n",
        "print(classification_report(predicted_label, Y))"
      ],
      "metadata": {
        "id": "UEaHuFqO0NFb",
        "colab": {
          "base_uri": "https://localhost:8080/"
        },
        "outputId": "8cb79b6e-c648-4d62-aab8-25764ae692c4"
      },
      "execution_count": null,
      "outputs": [
        {
          "output_type": "stream",
          "name": "stdout",
          "text": [
            "              precision    recall  f1-score   support\n",
            "\n",
            "       False       0.14      0.23      0.17     55568\n",
            "        True       0.82      0.71      0.76    272613\n",
            "\n",
            "    accuracy                           0.63    328181\n",
            "   macro avg       0.48      0.47      0.47    328181\n",
            "weighted avg       0.70      0.63      0.66    328181\n",
            "\n"
          ]
        }
      ]
    }
  ]
}